{
 "cells": [
  {
   "cell_type": "code",
   "execution_count": 1,
   "metadata": {},
   "outputs": [],
   "source": [
    "import tensorflow as tf\n",
    "from tensorflow import keras\n",
    "\n",
    "import numpy as np"
   ]
  },
  {
   "cell_type": "code",
   "execution_count": 2,
   "metadata": {},
   "outputs": [],
   "source": [
    "def get_model(vocab_size, emb_dim, max_len=256, n_attention_heads=6, emb_trainable=True) :\n",
    "    inputs      = tf.keras.Input(shape=(max_len,), dtype='int32')\n",
    "    inputs_mask = tf.keras.Input(shape=(max_len,), dtype='bool')\n",
    "    \n",
    "    embedding_layer = keras.layers.Embedding(vocab_size, emb_dim, input_length=max_len, mask_zero=True, trainable=emb_trainable)\n",
    "    \n",
    "    embedding  = embedding_layer(inputs)\n",
    "    last       = embedding\n",
    "    \n",
    "    enc_conv1  = keras.layers.Conv1D(filters=128, kernel_size=3, activation='relu', padding='same')(last)\n",
    "    last       = enc_conv1\n",
    "\n",
    "    if n_attention_heads == 1 :\n",
    "        attention = keras.layers.Attention(causal=False)(\n",
    "            [\n",
    "            last, \n",
    "            last\n",
    "            ],\n",
    "            mask=[ \n",
    "            inputs_mask, \n",
    "            inputs_mask\n",
    "            ]\n",
    "        )\n",
    "        last  = attention\n",
    "    elif n_attention_heads > 1 :\n",
    "        attentions = []\n",
    "        for _ in range(n_attention_heads) :\n",
    "            attentions.append(\n",
    "                keras.layers.Attention(causal=False)(\n",
    "                    [\n",
    "                        last, \n",
    "                        last\n",
    "                    ],\n",
    "                    mask=[ \n",
    "                        inputs_mask, \n",
    "                        inputs_mask\n",
    "                    ]\n",
    "                )\n",
    "            )\n",
    "        attention = keras.layers.Add()(attentions)\n",
    "        attention = keras.layers.BatchNormalization()(attention)\n",
    "        last  = attention\n",
    "    else :\n",
    "        pass\n",
    "    \n",
    "    conv1 = keras.layers.Conv1D(filters=64, kernel_size=3, activation='relu', padding='same')(last)\n",
    "    last  = conv1\n",
    "    \n",
    "    conv2 = keras.layers.Conv1D(filters=32, kernel_size=3, activation='relu', padding='same')(last)\n",
    "    last  = conv2\n",
    "    \n",
    "    pool1 = keras.layers.MaxPooling1D(pool_size=2, padding='same')(last)\n",
    "    last  = pool1\n",
    "    \n",
    "    drop1 = keras.layers.Dropout(0.05)(last)\n",
    "    last  = drop1\n",
    "    \n",
    "    conv3 = keras.layers.Conv1D(filters=16, kernel_size=3, activation='relu', padding='same')(last)\n",
    "    last  = conv3\n",
    "    \n",
    "    conv4 = keras.layers.Conv1D(filters=8,  kernel_size=3, activation='relu', padding='same')(last)\n",
    "    last  = conv4\n",
    "    \n",
    "    pool2 = keras.layers.GlobalAveragePooling1D()(last)\n",
    "    last  = pool2\n",
    "    \n",
    "    drop2 = keras.layers.Dropout(0.05)(last)\n",
    "    last  = drop2\n",
    "\n",
    "    outputs = keras.layers.Dense(1, activation='sigmoid')(last)\n",
    "\n",
    "    model = keras.models.Model(inputs=[inputs, inputs_mask], outputs=outputs)\n",
    "\n",
    "    model.summary()\n",
    "\n",
    "    return model, embedding_layer"
   ]
  },
  {
   "cell_type": "code",
   "execution_count": 3,
   "metadata": {},
   "outputs": [],
   "source": [
    "import pandas as pd\n",
    "import json\n",
    "\n",
    "def get_word_index(sentences) :\n",
    "    all_tokens = []\n",
    "    for txt in sentences :\n",
    "        all_tokens += txt.split()\n",
    "\n",
    "    tokens = pd.Series(all_tokens, range(len(all_tokens)), name=\"tokens\")\n",
    "    types = tokens.unique()\n",
    "    word_index = {word : i for i, word in enumerate([\"<pad>\", \"<unk>\"] + list(types))}\n",
    "    \n",
    "    def decode_review(text):\n",
    "        reverse_word_index = dict([(value, key) for (key, value) in word_index.items()])\n",
    "        return ' '.join([reverse_word_index.get(i, '?') for i in text])\n",
    "    \n",
    "    return word_index, decode_review\n",
    "\n",
    "def get_dataset(dataframe, word_index, max_len=256) :\n",
    "    index_series, x_series, y_series = dataframe.index, dataframe[\"text\"], dataframe[\"class\"]\n",
    "\n",
    "    index = list(index_series)\n",
    "\n",
    "    x_list = [txt.split() for txt in list(x_series)]\n",
    "    \n",
    "    x_seq = []\n",
    "    for tknlst in x_list :\n",
    "        seq = []\n",
    "        for tkn in tknlst :\n",
    "            try :\n",
    "                seq.append(word_index[tkn])\n",
    "            except KeyError :\n",
    "                seq.append(word_index[\"<unk>\"])\n",
    "        seq = (seq + [0] * (max_len - len(seq))) if (len(seq) < max_len) else (seq[ : max_len])\n",
    "        x_seq.append(seq)\n",
    "    \n",
    "    y_int = [1 if lb >= .5 else 0 for lb in list(y_series)]\n",
    "\n",
    "    x = np.array(x_seq, dtype=int) \n",
    "    mask = x != 0\n",
    "\n",
    "    y = np.array(y_int, dtype=int) \n",
    "\n",
    "    return index, x, mask, y"
   ]
  },
  {
   "cell_type": "code",
   "execution_count": 4,
   "metadata": {},
   "outputs": [
    {
     "data": {
      "text/plain": [
       "(8544, (8544, 256), (8544, 256), (8544,))"
      ]
     },
     "execution_count": 4,
     "metadata": {},
     "output_type": "execute_result"
    }
   ],
   "source": [
    "train_dataframe = pd.read_csv(\"../resources/datasets/StanfordSentimentTreebank/split/SST2Processed2-train.csv\", index_col=0)\n",
    "word_index, decode_review = get_word_index(train_dataframe[\"text\"])\n",
    "ids_train, x_train, mask_train, y_train = get_dataset(train_dataframe, word_index)\n",
    "len(ids_train), x_train.shape, mask_train.shape, y_train.shape"
   ]
  },
  {
   "cell_type": "code",
   "execution_count": 5,
   "metadata": {},
   "outputs": [
    {
     "data": {
      "text/plain": [
       "(array([ 2,  3, 32, 33, 34, 35,  3, 36, 35,  3, 37, 38,  5, 39, 40, 14, 18,\n",
       "        41, 35, 42, 43, 44, 45, 46, 47, 48, 49, 50, 51, 52, 35, 53, 54, 55,\n",
       "        56,  0,  0,  0,  0,  0,  0,  0,  0,  0,  0,  0,  0,  0,  0,  0,  0,\n",
       "         0,  0,  0,  0,  0,  0,  0,  0,  0,  0,  0,  0,  0,  0,  0,  0,  0,\n",
       "         0,  0,  0,  0,  0,  0,  0,  0,  0,  0,  0,  0,  0,  0,  0,  0,  0,\n",
       "         0,  0,  0,  0,  0,  0,  0,  0,  0,  0,  0,  0,  0,  0,  0,  0,  0,\n",
       "         0,  0,  0,  0,  0,  0,  0,  0,  0,  0,  0,  0,  0,  0,  0,  0,  0,\n",
       "         0,  0,  0,  0,  0,  0,  0,  0,  0,  0,  0,  0,  0,  0,  0,  0,  0,\n",
       "         0,  0,  0,  0,  0,  0,  0,  0,  0,  0,  0,  0,  0,  0,  0,  0,  0,\n",
       "         0,  0,  0,  0,  0,  0,  0,  0,  0,  0,  0,  0,  0,  0,  0,  0,  0,\n",
       "         0,  0,  0,  0,  0,  0,  0,  0,  0,  0,  0,  0,  0,  0,  0,  0,  0,\n",
       "         0,  0,  0,  0,  0,  0,  0,  0,  0,  0,  0,  0,  0,  0,  0,  0,  0,\n",
       "         0,  0,  0,  0,  0,  0,  0,  0,  0,  0,  0,  0,  0,  0,  0,  0,  0,\n",
       "         0,  0,  0,  0,  0,  0,  0,  0,  0,  0,  0,  0,  0,  0,  0,  0,  0,\n",
       "         0,  0,  0,  0,  0,  0,  0,  0,  0,  0,  0,  0,  0,  0,  0,  0,  0,\n",
       "         0]),\n",
       " array([ True,  True,  True,  True,  True,  True,  True,  True,  True,\n",
       "         True,  True,  True,  True,  True,  True,  True,  True,  True,\n",
       "         True,  True,  True,  True,  True,  True,  True,  True,  True,\n",
       "         True,  True,  True,  True,  True,  True,  True,  True, False,\n",
       "        False, False, False, False, False, False, False, False, False,\n",
       "        False, False, False, False, False, False, False, False, False,\n",
       "        False, False, False, False, False, False, False, False, False,\n",
       "        False, False, False, False, False, False, False, False, False,\n",
       "        False, False, False, False, False, False, False, False, False,\n",
       "        False, False, False, False, False, False, False, False, False,\n",
       "        False, False, False, False, False, False, False, False, False,\n",
       "        False, False, False, False, False, False, False, False, False,\n",
       "        False, False, False, False, False, False, False, False, False,\n",
       "        False, False, False, False, False, False, False, False, False,\n",
       "        False, False, False, False, False, False, False, False, False,\n",
       "        False, False, False, False, False, False, False, False, False,\n",
       "        False, False, False, False, False, False, False, False, False,\n",
       "        False, False, False, False, False, False, False, False, False,\n",
       "        False, False, False, False, False, False, False, False, False,\n",
       "        False, False, False, False, False, False, False, False, False,\n",
       "        False, False, False, False, False, False, False, False, False,\n",
       "        False, False, False, False, False, False, False, False, False,\n",
       "        False, False, False, False, False, False, False, False, False,\n",
       "        False, False, False, False, False, False, False, False, False,\n",
       "        False, False, False, False, False, False, False, False, False,\n",
       "        False, False, False, False, False, False, False, False, False,\n",
       "        False, False, False, False, False, False, False, False, False,\n",
       "        False, False, False, False, False, False, False, False, False,\n",
       "        False, False, False, False]))"
      ]
     },
     "execution_count": 5,
     "metadata": {},
     "output_type": "execute_result"
    }
   ],
   "source": [
    "x_train[1], mask_train[1]"
   ]
  },
  {
   "cell_type": "code",
   "execution_count": 6,
   "metadata": {},
   "outputs": [
    {
     "data": {
      "text/plain": [
       "1"
      ]
     },
     "execution_count": 6,
     "metadata": {},
     "output_type": "execute_result"
    }
   ],
   "source": [
    "y_train[1]"
   ]
  },
  {
   "cell_type": "code",
   "execution_count": 7,
   "metadata": {},
   "outputs": [
    {
     "data": {
      "text/plain": [
       "\"<start> the gorgeously elaborate continuation of the lord of the rings trilogy is so huge that a column of words can not adequately describe co writerdirector peter jackson's expanded vision of jrr tolkien's middle earth <pad> <pad> <pad> <pad> <pad> <pad> <pad> <pad> <pad> <pad> <pad> <pad> <pad> <pad> <pad> <pad> <pad> <pad> <pad> <pad> <pad> <pad> <pad> <pad> <pad> <pad> <pad> <pad> <pad> <pad> <pad> <pad> <pad> <pad> <pad> <pad> <pad> <pad> <pad> <pad> <pad> <pad> <pad> <pad> <pad> <pad> <pad> <pad> <pad> <pad> <pad> <pad> <pad> <pad> <pad> <pad> <pad> <pad> <pad> <pad> <pad> <pad> <pad> <pad> <pad> <pad> <pad> <pad> <pad> <pad> <pad> <pad> <pad> <pad> <pad> <pad> <pad> <pad> <pad> <pad> <pad> <pad> <pad> <pad> <pad> <pad> <pad> <pad> <pad> <pad> <pad> <pad> <pad> <pad> <pad> <pad> <pad> <pad> <pad> <pad> <pad> <pad> <pad> <pad> <pad> <pad> <pad> <pad> <pad> <pad> <pad> <pad> <pad> <pad> <pad> <pad> <pad> <pad> <pad> <pad> <pad> <pad> <pad> <pad> <pad> <pad> <pad> <pad> <pad> <pad> <pad> <pad> <pad> <pad> <pad> <pad> <pad> <pad> <pad> <pad> <pad> <pad> <pad> <pad> <pad> <pad> <pad> <pad> <pad> <pad> <pad> <pad> <pad> <pad> <pad> <pad> <pad> <pad> <pad> <pad> <pad> <pad> <pad> <pad> <pad> <pad> <pad> <pad> <pad> <pad> <pad> <pad> <pad> <pad> <pad> <pad> <pad> <pad> <pad> <pad> <pad> <pad> <pad> <pad> <pad> <pad> <pad> <pad> <pad> <pad> <pad> <pad> <pad> <pad> <pad> <pad> <pad> <pad> <pad> <pad> <pad> <pad> <pad> <pad> <pad> <pad> <pad> <pad> <pad> <pad> <pad> <pad> <pad> <pad> <pad> <pad> <pad> <pad> <pad> <pad> <pad>\""
      ]
     },
     "execution_count": 7,
     "metadata": {},
     "output_type": "execute_result"
    }
   ],
   "source": [
    "decode_review(x_train[1])"
   ]
  },
  {
   "cell_type": "code",
   "execution_count": 8,
   "metadata": {},
   "outputs": [
    {
     "data": {
      "text/plain": [
       "(1101, (1101, 256), (1101, 256), (1101,))"
      ]
     },
     "execution_count": 8,
     "metadata": {},
     "output_type": "execute_result"
    }
   ],
   "source": [
    "val_dataframe = pd.read_csv(\"../resources/datasets/StanfordSentimentTreebank/split/SST2Processed2-dev.csv\", index_col=0)\n",
    "ids_val, x_val, mask_val, y_val = get_dataset(val_dataframe, word_index)\n",
    "len(ids_val), x_val.shape, mask_val.shape, y_val.shape"
   ]
  },
  {
   "cell_type": "code",
   "execution_count": 9,
   "metadata": {},
   "outputs": [
    {
     "data": {
      "text/plain": [
       "16177"
      ]
     },
     "execution_count": 9,
     "metadata": {},
     "output_type": "execute_result"
    }
   ],
   "source": [
    "len(word_index)"
   ]
  },
  {
   "cell_type": "code",
   "execution_count": 10,
   "metadata": {},
   "outputs": [
    {
     "ename": "TypeError",
     "evalue": "list.append() takes no keyword arguments",
     "output_type": "error",
     "traceback": [
      "\u001b[1;31m---------------------------------------------------------------------------\u001b[0m",
      "\u001b[1;31mTypeError\u001b[0m                                 Traceback (most recent call last)",
      "\u001b[1;32mc:\\Users\\T-Gamer\\Documents\\SideDrive\\UFMA\\2022.1\\Topicos Especiais (NLP)\\Exercicios\\Trabalho Final\\Implementação\\source\\exp2_cnn1D-v3.ipynb Célula: 10\u001b[0m in \u001b[0;36m<cell line: 8>\u001b[1;34m()\u001b[0m\n\u001b[0;32m      <a href='vscode-notebook-cell:/c%3A/Users/T-Gamer/Documents/SideDrive/UFMA/2022.1/Topicos%20Especiais%20%28NLP%29/Exercicios/Trabalho%20Final/Implementa%C3%A7%C3%A3o/source/exp2_cnn1D-v3.ipynb#X12sZmlsZQ%3D%3D?line=4'>5</a>\u001b[0m experimet_name \u001b[39m=\u001b[39m \u001b[39mf\u001b[39m\u001b[39m\"\u001b[39m\u001b[39mcnn1d_\u001b[39m\u001b[39m{\u001b[39;00mn_attention_heads\u001b[39m}\u001b[39;00m\u001b[39mATTENTION_embed\u001b[39m\u001b[39m{\u001b[39;00membed_dim\u001b[39m}\u001b[39;00m\u001b[39m\"\u001b[39m\n\u001b[0;32m      <a href='vscode-notebook-cell:/c%3A/Users/T-Gamer/Documents/SideDrive/UFMA/2022.1/Topicos%20Especiais%20%28NLP%29/Exercicios/Trabalho%20Final/Implementa%C3%A7%C3%A3o/source/exp2_cnn1D-v3.ipynb#X12sZmlsZQ%3D%3D?line=5'>6</a>\u001b[0m checkpoint_dir \u001b[39m=\u001b[39m \u001b[39mf\u001b[39m\u001b[39m\"\u001b[39m\u001b[39m../resources/output/SST2Processed2/checkpoint_\u001b[39m\u001b[39m{\u001b[39;00mexperimet_name\u001b[39m}\u001b[39;00m\u001b[39m.hdf5\u001b[39m\u001b[39m\"\u001b[39m\n\u001b[1;32m----> <a href='vscode-notebook-cell:/c%3A/Users/T-Gamer/Documents/SideDrive/UFMA/2022.1/Topicos%20Especiais%20%28NLP%29/Exercicios/Trabalho%20Final/Implementa%C3%A7%C3%A3o/source/exp2_cnn1D-v3.ipynb#X12sZmlsZQ%3D%3D?line=7'>8</a>\u001b[0m model, emb_layer \u001b[39m=\u001b[39m get_model(\u001b[39mlen\u001b[39;49m(word_index), embed_dim, n_attention_heads\u001b[39m=\u001b[39;49mn_attention_heads, emb_trainable\u001b[39m=\u001b[39;49memb_trainable)\n",
      "\u001b[1;32mc:\\Users\\T-Gamer\\Documents\\SideDrive\\UFMA\\2022.1\\Topicos Especiais (NLP)\\Exercicios\\Trabalho Final\\Implementação\\source\\exp2_cnn1D-v3.ipynb Célula: 10\u001b[0m in \u001b[0;36mget_model\u001b[1;34m(vocab_size, emb_dim, max_len, n_attention_heads, emb_trainable)\u001b[0m\n\u001b[0;32m     <a href='vscode-notebook-cell:/c%3A/Users/T-Gamer/Documents/SideDrive/UFMA/2022.1/Topicos%20Especiais%20%28NLP%29/Exercicios/Trabalho%20Final/Implementa%C3%A7%C3%A3o/source/exp2_cnn1D-v3.ipynb#X12sZmlsZQ%3D%3D?line=25'>26</a>\u001b[0m attentions \u001b[39m=\u001b[39m []\n\u001b[0;32m     <a href='vscode-notebook-cell:/c%3A/Users/T-Gamer/Documents/SideDrive/UFMA/2022.1/Topicos%20Especiais%20%28NLP%29/Exercicios/Trabalho%20Final/Implementa%C3%A7%C3%A3o/source/exp2_cnn1D-v3.ipynb#X12sZmlsZQ%3D%3D?line=26'>27</a>\u001b[0m \u001b[39mfor\u001b[39;00m _ \u001b[39min\u001b[39;00m \u001b[39mrange\u001b[39m(n_attention_heads) :\n\u001b[1;32m---> <a href='vscode-notebook-cell:/c%3A/Users/T-Gamer/Documents/SideDrive/UFMA/2022.1/Topicos%20Especiais%20%28NLP%29/Exercicios/Trabalho%20Final/Implementa%C3%A7%C3%A3o/source/exp2_cnn1D-v3.ipynb#X12sZmlsZQ%3D%3D?line=27'>28</a>\u001b[0m     attentions\u001b[39m.\u001b[39;49mappend(\n\u001b[0;32m     <a href='vscode-notebook-cell:/c%3A/Users/T-Gamer/Documents/SideDrive/UFMA/2022.1/Topicos%20Especiais%20%28NLP%29/Exercicios/Trabalho%20Final/Implementa%C3%A7%C3%A3o/source/exp2_cnn1D-v3.ipynb#X12sZmlsZQ%3D%3D?line=28'>29</a>\u001b[0m         attention \u001b[39m=\u001b[39;49m keras\u001b[39m.\u001b[39;49mlayers\u001b[39m.\u001b[39;49mAttention(causal\u001b[39m=\u001b[39;49m\u001b[39mFalse\u001b[39;49;00m)(\n\u001b[0;32m     <a href='vscode-notebook-cell:/c%3A/Users/T-Gamer/Documents/SideDrive/UFMA/2022.1/Topicos%20Especiais%20%28NLP%29/Exercicios/Trabalho%20Final/Implementa%C3%A7%C3%A3o/source/exp2_cnn1D-v3.ipynb#X12sZmlsZQ%3D%3D?line=29'>30</a>\u001b[0m             [\n\u001b[0;32m     <a href='vscode-notebook-cell:/c%3A/Users/T-Gamer/Documents/SideDrive/UFMA/2022.1/Topicos%20Especiais%20%28NLP%29/Exercicios/Trabalho%20Final/Implementa%C3%A7%C3%A3o/source/exp2_cnn1D-v3.ipynb#X12sZmlsZQ%3D%3D?line=30'>31</a>\u001b[0m                 last, \n\u001b[0;32m     <a href='vscode-notebook-cell:/c%3A/Users/T-Gamer/Documents/SideDrive/UFMA/2022.1/Topicos%20Especiais%20%28NLP%29/Exercicios/Trabalho%20Final/Implementa%C3%A7%C3%A3o/source/exp2_cnn1D-v3.ipynb#X12sZmlsZQ%3D%3D?line=31'>32</a>\u001b[0m                 last\n\u001b[0;32m     <a href='vscode-notebook-cell:/c%3A/Users/T-Gamer/Documents/SideDrive/UFMA/2022.1/Topicos%20Especiais%20%28NLP%29/Exercicios/Trabalho%20Final/Implementa%C3%A7%C3%A3o/source/exp2_cnn1D-v3.ipynb#X12sZmlsZQ%3D%3D?line=32'>33</a>\u001b[0m             ],\n\u001b[0;32m     <a href='vscode-notebook-cell:/c%3A/Users/T-Gamer/Documents/SideDrive/UFMA/2022.1/Topicos%20Especiais%20%28NLP%29/Exercicios/Trabalho%20Final/Implementa%C3%A7%C3%A3o/source/exp2_cnn1D-v3.ipynb#X12sZmlsZQ%3D%3D?line=33'>34</a>\u001b[0m             mask\u001b[39m=\u001b[39;49m[ \n\u001b[0;32m     <a href='vscode-notebook-cell:/c%3A/Users/T-Gamer/Documents/SideDrive/UFMA/2022.1/Topicos%20Especiais%20%28NLP%29/Exercicios/Trabalho%20Final/Implementa%C3%A7%C3%A3o/source/exp2_cnn1D-v3.ipynb#X12sZmlsZQ%3D%3D?line=34'>35</a>\u001b[0m                 inputs_mask, \n\u001b[0;32m     <a href='vscode-notebook-cell:/c%3A/Users/T-Gamer/Documents/SideDrive/UFMA/2022.1/Topicos%20Especiais%20%28NLP%29/Exercicios/Trabalho%20Final/Implementa%C3%A7%C3%A3o/source/exp2_cnn1D-v3.ipynb#X12sZmlsZQ%3D%3D?line=35'>36</a>\u001b[0m                 inputs_mask\n\u001b[0;32m     <a href='vscode-notebook-cell:/c%3A/Users/T-Gamer/Documents/SideDrive/UFMA/2022.1/Topicos%20Especiais%20%28NLP%29/Exercicios/Trabalho%20Final/Implementa%C3%A7%C3%A3o/source/exp2_cnn1D-v3.ipynb#X12sZmlsZQ%3D%3D?line=36'>37</a>\u001b[0m             ]\n\u001b[0;32m     <a href='vscode-notebook-cell:/c%3A/Users/T-Gamer/Documents/SideDrive/UFMA/2022.1/Topicos%20Especiais%20%28NLP%29/Exercicios/Trabalho%20Final/Implementa%C3%A7%C3%A3o/source/exp2_cnn1D-v3.ipynb#X12sZmlsZQ%3D%3D?line=37'>38</a>\u001b[0m         )\n\u001b[0;32m     <a href='vscode-notebook-cell:/c%3A/Users/T-Gamer/Documents/SideDrive/UFMA/2022.1/Topicos%20Especiais%20%28NLP%29/Exercicios/Trabalho%20Final/Implementa%C3%A7%C3%A3o/source/exp2_cnn1D-v3.ipynb#X12sZmlsZQ%3D%3D?line=38'>39</a>\u001b[0m     )\n\u001b[0;32m     <a href='vscode-notebook-cell:/c%3A/Users/T-Gamer/Documents/SideDrive/UFMA/2022.1/Topicos%20Especiais%20%28NLP%29/Exercicios/Trabalho%20Final/Implementa%C3%A7%C3%A3o/source/exp2_cnn1D-v3.ipynb#X12sZmlsZQ%3D%3D?line=39'>40</a>\u001b[0m attention \u001b[39m=\u001b[39m keras\u001b[39m.\u001b[39mlayers\u001b[39m.\u001b[39mAdd()(attentions)\n\u001b[0;32m     <a href='vscode-notebook-cell:/c%3A/Users/T-Gamer/Documents/SideDrive/UFMA/2022.1/Topicos%20Especiais%20%28NLP%29/Exercicios/Trabalho%20Final/Implementa%C3%A7%C3%A3o/source/exp2_cnn1D-v3.ipynb#X12sZmlsZQ%3D%3D?line=40'>41</a>\u001b[0m attention \u001b[39m=\u001b[39m keras\u001b[39m.\u001b[39mlayers\u001b[39m.\u001b[39mBatchNormalization()(attention)\n",
      "\u001b[1;31mTypeError\u001b[0m: list.append() takes no keyword arguments"
     ]
    }
   ],
   "source": [
    "embed_dim = 768\n",
    "embeddings_df = pd.read_csv(f\"../resources/embeddings/StanfordSentimentTreebank/SST2Processed2-train_dim{embed_dim}.csv\", index_col=0)\n",
    "n_attention_heads = 6\n",
    "emb_trainable = True\n",
    "experimet_name = f\"cnn1d_{n_attention_heads}ATTENTION_embed{embed_dim}\"\n",
    "checkpoint_dir = f\"../resources/output/SST2Processed2/checkpoint_{experimet_name}.hdf5\"\n",
    "\n",
    "model, emb_layer = get_model(len(word_index), embed_dim, n_attention_heads=n_attention_heads, emb_trainable=emb_trainable)"
   ]
  },
  {
   "cell_type": "code",
   "execution_count": null,
   "metadata": {},
   "outputs": [],
   "source": [
    "emb_wgts = emb_layer.get_weights()\n",
    "emb_wgts[0][0] = embeddings_df.iloc[0].values\n",
    "emb_wgts[0][1 - embeddings_df.shape[0] : ] = embeddings_df.values[1:]\n",
    "emb_layer.set_weights(emb_wgts)"
   ]
  },
  {
   "cell_type": "code",
   "execution_count": null,
   "metadata": {},
   "outputs": [
    {
     "name": "stdout",
     "output_type": "stream",
     "text": [
      "Epoch 1/100\n",
      "134/134 [==============================] - ETA: 0s - loss: 0.6901 - accuracy: 0.5394\n",
      "Epoch 1: val_loss improved from inf to 0.67735, saving model to ../resources/output/SST2Processed2\\checkpoint_cnn1d_1ATTENTION_embed768.hdf5\n",
      "134/134 [==============================] - 57s 418ms/step - loss: 0.6901 - accuracy: 0.5394 - val_loss: 0.6773 - val_accuracy: 0.6013\n",
      "Epoch 2/100\n",
      "134/134 [==============================] - ETA: 0s - loss: 0.6727 - accuracy: 0.5812\n",
      "Epoch 2: val_loss improved from 0.67735 to 0.66144, saving model to ../resources/output/SST2Processed2\\checkpoint_cnn1d_1ATTENTION_embed768.hdf5\n",
      "134/134 [==============================] - 56s 419ms/step - loss: 0.6727 - accuracy: 0.5812 - val_loss: 0.6614 - val_accuracy: 0.6240\n",
      "Epoch 3/100\n",
      "134/134 [==============================] - ETA: 0s - loss: 0.6330 - accuracy: 0.6440\n",
      "Epoch 3: val_loss improved from 0.66144 to 0.65606, saving model to ../resources/output/SST2Processed2\\checkpoint_cnn1d_1ATTENTION_embed768.hdf5\n",
      "134/134 [==============================] - 59s 438ms/step - loss: 0.6330 - accuracy: 0.6440 - val_loss: 0.6561 - val_accuracy: 0.6312\n",
      "Epoch 4/100\n",
      "134/134 [==============================] - ETA: 0s - loss: 0.5663 - accuracy: 0.7102\n",
      "Epoch 4: val_loss improved from 0.65606 to 0.59935, saving model to ../resources/output/SST2Processed2\\checkpoint_cnn1d_1ATTENTION_embed768.hdf5\n",
      "134/134 [==============================] - 58s 433ms/step - loss: 0.5663 - accuracy: 0.7102 - val_loss: 0.5993 - val_accuracy: 0.6594\n",
      "Epoch 5/100\n",
      "134/134 [==============================] - ETA: 0s - loss: 0.4831 - accuracy: 0.7780\n",
      "Epoch 5: val_loss did not improve from 0.59935\n",
      "134/134 [==============================] - 55s 408ms/step - loss: 0.4831 - accuracy: 0.7780 - val_loss: 0.6107 - val_accuracy: 0.6985\n",
      "Epoch 6/100\n",
      "134/134 [==============================] - ETA: 0s - loss: 0.3803 - accuracy: 0.8333\n",
      "Epoch 6: val_loss did not improve from 0.59935\n",
      "134/134 [==============================] - 55s 413ms/step - loss: 0.3803 - accuracy: 0.8333 - val_loss: 0.6513 - val_accuracy: 0.7030\n",
      "Epoch 7/100\n",
      "134/134 [==============================] - ETA: 0s - loss: 0.2984 - accuracy: 0.8761\n",
      "Epoch 7: val_loss did not improve from 0.59935\n",
      "134/134 [==============================] - 55s 407ms/step - loss: 0.2984 - accuracy: 0.8761 - val_loss: 0.6761 - val_accuracy: 0.7175\n",
      "Epoch 8/100\n",
      "134/134 [==============================] - ETA: 0s - loss: 0.2379 - accuracy: 0.9089\n",
      "Epoch 8: val_loss did not improve from 0.59935\n",
      "134/134 [==============================] - 55s 407ms/step - loss: 0.2379 - accuracy: 0.9089 - val_loss: 0.8116 - val_accuracy: 0.7048\n",
      "Epoch 9/100\n",
      "134/134 [==============================] - ETA: 0s - loss: 0.1955 - accuracy: 0.9230\n",
      "Epoch 9: val_loss did not improve from 0.59935\n",
      "134/134 [==============================] - 55s 409ms/step - loss: 0.1955 - accuracy: 0.9230 - val_loss: 0.8191 - val_accuracy: 0.6985\n",
      "Epoch 10/100\n",
      "134/134 [==============================] - ETA: 0s - loss: 0.1565 - accuracy: 0.9395\n",
      "Epoch 10: val_loss did not improve from 0.59935\n",
      "134/134 [==============================] - 55s 411ms/step - loss: 0.1565 - accuracy: 0.9395 - val_loss: 0.8642 - val_accuracy: 0.6903\n",
      "Epoch 11/100\n",
      "134/134 [==============================] - ETA: 0s - loss: 0.1282 - accuracy: 0.9529\n",
      "Epoch 11: val_loss did not improve from 0.59935\n",
      "134/134 [==============================] - 55s 413ms/step - loss: 0.1282 - accuracy: 0.9529 - val_loss: 1.0271 - val_accuracy: 0.6930\n",
      "Epoch 12/100\n",
      "134/134 [==============================] - ETA: 0s - loss: 0.1088 - accuracy: 0.9576\n",
      "Epoch 12: val_loss did not improve from 0.59935\n",
      "134/134 [==============================] - 55s 410ms/step - loss: 0.1088 - accuracy: 0.9576 - val_loss: 1.3061 - val_accuracy: 0.7021\n",
      "Epoch 13/100\n",
      "134/134 [==============================] - ETA: 0s - loss: 0.0886 - accuracy: 0.9684\n",
      "Epoch 13: val_loss did not improve from 0.59935\n",
      "134/134 [==============================] - 55s 407ms/step - loss: 0.0886 - accuracy: 0.9684 - val_loss: 1.2894 - val_accuracy: 0.7003\n",
      "Epoch 14/100\n",
      "134/134 [==============================] - ETA: 0s - loss: 0.0642 - accuracy: 0.9774\n",
      "Epoch 14: val_loss did not improve from 0.59935\n",
      "134/134 [==============================] - 55s 410ms/step - loss: 0.0642 - accuracy: 0.9774 - val_loss: 1.6501 - val_accuracy: 0.7021\n",
      "Epoch 15/100\n",
      "134/134 [==============================] - ETA: 0s - loss: 0.0596 - accuracy: 0.9773\n",
      "Epoch 15: val_loss did not improve from 0.59935\n",
      "134/134 [==============================] - 55s 408ms/step - loss: 0.0596 - accuracy: 0.9773 - val_loss: 1.6554 - val_accuracy: 0.6921\n",
      "Epoch 16/100\n",
      "134/134 [==============================] - ETA: 0s - loss: 0.0426 - accuracy: 0.9844\n",
      "Epoch 16: val_loss did not improve from 0.59935\n",
      "134/134 [==============================] - 55s 409ms/step - loss: 0.0426 - accuracy: 0.9844 - val_loss: 1.8277 - val_accuracy: 0.6821\n",
      "Epoch 17/100\n",
      "134/134 [==============================] - ETA: 0s - loss: 0.0382 - accuracy: 0.9872\n",
      "Epoch 17: val_loss did not improve from 0.59935\n",
      "134/134 [==============================] - 55s 410ms/step - loss: 0.0382 - accuracy: 0.9872 - val_loss: 2.1927 - val_accuracy: 0.6739\n",
      "Epoch 18/100\n",
      "134/134 [==============================] - ETA: 0s - loss: 0.0539 - accuracy: 0.9826\n",
      "Epoch 18: val_loss did not improve from 0.59935\n",
      "134/134 [==============================] - 55s 409ms/step - loss: 0.0539 - accuracy: 0.9826 - val_loss: 1.7089 - val_accuracy: 0.6957\n",
      "Epoch 19/100\n",
      "134/134 [==============================] - ETA: 0s - loss: 0.0283 - accuracy: 0.9904\n",
      "Epoch 19: val_loss did not improve from 0.59935\n",
      "134/134 [==============================] - 55s 409ms/step - loss: 0.0283 - accuracy: 0.9904 - val_loss: 2.0717 - val_accuracy: 0.7012\n",
      "Epoch 20/100\n",
      "134/134 [==============================] - ETA: 0s - loss: 0.0479 - accuracy: 0.9840\n",
      "Epoch 20: val_loss did not improve from 0.59935\n",
      "134/134 [==============================] - 55s 410ms/step - loss: 0.0479 - accuracy: 0.9840 - val_loss: 2.1632 - val_accuracy: 0.6985\n",
      "Epoch 21/100\n",
      "134/134 [==============================] - ETA: 0s - loss: 0.0194 - accuracy: 0.9939\n",
      "Epoch 21: val_loss did not improve from 0.59935\n",
      "134/134 [==============================] - 55s 408ms/step - loss: 0.0194 - accuracy: 0.9939 - val_loss: 2.8995 - val_accuracy: 0.6830\n",
      "Epoch 22/100\n",
      "134/134 [==============================] - ETA: 0s - loss: 0.0211 - accuracy: 0.9927\n",
      "Epoch 22: val_loss did not improve from 0.59935\n",
      "134/134 [==============================] - 55s 409ms/step - loss: 0.0211 - accuracy: 0.9927 - val_loss: 2.9021 - val_accuracy: 0.6721\n",
      "Epoch 23/100\n",
      "134/134 [==============================] - ETA: 0s - loss: 0.0227 - accuracy: 0.9932\n",
      "Epoch 23: val_loss did not improve from 0.59935\n",
      "134/134 [==============================] - 55s 410ms/step - loss: 0.0227 - accuracy: 0.9932 - val_loss: 3.2905 - val_accuracy: 0.6894\n",
      "Epoch 24/100\n",
      "134/134 [==============================] - ETA: 0s - loss: 0.0243 - accuracy: 0.9906\n",
      "Epoch 24: val_loss did not improve from 0.59935\n",
      "134/134 [==============================] - 55s 410ms/step - loss: 0.0243 - accuracy: 0.9906 - val_loss: 2.9336 - val_accuracy: 0.6866\n",
      "Epoch 25/100\n",
      "134/134 [==============================] - ETA: 0s - loss: 0.0190 - accuracy: 0.9941\n",
      "Epoch 25: val_loss did not improve from 0.59935\n",
      "134/134 [==============================] - 55s 410ms/step - loss: 0.0190 - accuracy: 0.9941 - val_loss: 3.0786 - val_accuracy: 0.6903\n",
      "Epoch 26/100\n",
      "134/134 [==============================] - ETA: 0s - loss: 0.0189 - accuracy: 0.9940\n",
      "Epoch 26: val_loss did not improve from 0.59935\n",
      "134/134 [==============================] - 55s 410ms/step - loss: 0.0189 - accuracy: 0.9940 - val_loss: 2.8675 - val_accuracy: 0.6885\n",
      "Epoch 27/100\n",
      "134/134 [==============================] - ETA: 0s - loss: 0.0198 - accuracy: 0.9946\n",
      "Epoch 27: val_loss did not improve from 0.59935\n",
      "134/134 [==============================] - 55s 412ms/step - loss: 0.0198 - accuracy: 0.9946 - val_loss: 2.7370 - val_accuracy: 0.6857\n",
      "Epoch 28/100\n",
      "134/134 [==============================] - ETA: 0s - loss: 0.0284 - accuracy: 0.9911\n",
      "Epoch 28: val_loss did not improve from 0.59935\n",
      "134/134 [==============================] - 55s 410ms/step - loss: 0.0284 - accuracy: 0.9911 - val_loss: 2.4555 - val_accuracy: 0.6885\n",
      "Epoch 29/100\n",
      "134/134 [==============================] - ETA: 0s - loss: 0.0300 - accuracy: 0.9905\n",
      "Epoch 29: val_loss did not improve from 0.59935\n",
      "134/134 [==============================] - 55s 409ms/step - loss: 0.0300 - accuracy: 0.9905 - val_loss: 2.5227 - val_accuracy: 0.6866\n",
      "Epoch 30/100\n",
      "134/134 [==============================] - ETA: 0s - loss: 0.0159 - accuracy: 0.9956\n",
      "Epoch 30: val_loss did not improve from 0.59935\n",
      "134/134 [==============================] - 55s 409ms/step - loss: 0.0159 - accuracy: 0.9956 - val_loss: 3.1208 - val_accuracy: 0.6921\n",
      "Epoch 31/100\n",
      "134/134 [==============================] - ETA: 0s - loss: 0.0243 - accuracy: 0.9916\n",
      "Epoch 31: val_loss did not improve from 0.59935\n",
      "134/134 [==============================] - 55s 411ms/step - loss: 0.0243 - accuracy: 0.9916 - val_loss: 2.5265 - val_accuracy: 0.6912\n",
      "Epoch 32/100\n",
      "134/134 [==============================] - ETA: 0s - loss: 0.0208 - accuracy: 0.9939\n",
      "Epoch 32: val_loss did not improve from 0.59935\n",
      "134/134 [==============================] - 55s 411ms/step - loss: 0.0208 - accuracy: 0.9939 - val_loss: 2.7806 - val_accuracy: 0.6921\n",
      "Epoch 33/100\n",
      "134/134 [==============================] - ETA: 0s - loss: 0.0128 - accuracy: 0.9963\n",
      "Epoch 33: val_loss did not improve from 0.59935\n",
      "134/134 [==============================] - 55s 407ms/step - loss: 0.0128 - accuracy: 0.9963 - val_loss: 3.0989 - val_accuracy: 0.6948\n",
      "Epoch 34/100\n",
      "134/134 [==============================] - ETA: 0s - loss: 0.0242 - accuracy: 0.9933\n",
      "Epoch 34: val_loss did not improve from 0.59935\n",
      "134/134 [==============================] - 55s 407ms/step - loss: 0.0242 - accuracy: 0.9933 - val_loss: 2.8878 - val_accuracy: 0.6767\n",
      "Epoch 35/100\n",
      "134/134 [==============================] - ETA: 0s - loss: 0.0100 - accuracy: 0.9970\n",
      "Epoch 35: val_loss did not improve from 0.59935\n",
      "134/134 [==============================] - 55s 407ms/step - loss: 0.0100 - accuracy: 0.9970 - val_loss: 3.2181 - val_accuracy: 0.6876\n",
      "Epoch 36/100\n",
      "134/134 [==============================] - ETA: 0s - loss: 0.0342 - accuracy: 0.9885\n",
      "Epoch 36: val_loss did not improve from 0.59935\n",
      "134/134 [==============================] - 55s 407ms/step - loss: 0.0342 - accuracy: 0.9885 - val_loss: 2.3767 - val_accuracy: 0.6939\n",
      "Epoch 37/100\n",
      "134/134 [==============================] - ETA: 0s - loss: 0.0138 - accuracy: 0.9957\n",
      "Epoch 37: val_loss did not improve from 0.59935\n",
      "134/134 [==============================] - 54s 406ms/step - loss: 0.0138 - accuracy: 0.9957 - val_loss: 2.7907 - val_accuracy: 0.6939\n",
      "Epoch 38/100\n",
      "134/134 [==============================] - ETA: 0s - loss: 0.0153 - accuracy: 0.9950\n",
      "Epoch 38: val_loss did not improve from 0.59935\n",
      "134/134 [==============================] - 54s 406ms/step - loss: 0.0153 - accuracy: 0.9950 - val_loss: 2.9772 - val_accuracy: 0.7057\n",
      "Epoch 39/100\n",
      "134/134 [==============================] - ETA: 0s - loss: 0.0130 - accuracy: 0.9964\n",
      "Epoch 39: val_loss did not improve from 0.59935\n",
      "134/134 [==============================] - 54s 406ms/step - loss: 0.0130 - accuracy: 0.9964 - val_loss: 3.3516 - val_accuracy: 0.7130\n",
      "Epoch 40/100\n",
      "134/134 [==============================] - ETA: 0s - loss: 0.0127 - accuracy: 0.9966\n",
      "Epoch 40: val_loss did not improve from 0.59935\n",
      "134/134 [==============================] - 54s 407ms/step - loss: 0.0127 - accuracy: 0.9966 - val_loss: 3.0704 - val_accuracy: 0.7012\n",
      "Epoch 41/100\n",
      "134/134 [==============================] - ETA: 0s - loss: 0.0094 - accuracy: 0.9979\n",
      "Epoch 41: val_loss did not improve from 0.59935\n",
      "134/134 [==============================] - 55s 407ms/step - loss: 0.0094 - accuracy: 0.9979 - val_loss: 2.9563 - val_accuracy: 0.7039\n",
      "Epoch 42/100\n",
      "134/134 [==============================] - ETA: 0s - loss: 0.0058 - accuracy: 0.9987\n",
      "Epoch 42: val_loss did not improve from 0.59935\n",
      "134/134 [==============================] - 55s 407ms/step - loss: 0.0058 - accuracy: 0.9987 - val_loss: 3.4146 - val_accuracy: 0.7021\n",
      "Epoch 43/100\n",
      "134/134 [==============================] - ETA: 0s - loss: 0.0019 - accuracy: 0.9996\n",
      "Epoch 43: val_loss did not improve from 0.59935\n",
      "134/134 [==============================] - 55s 408ms/step - loss: 0.0019 - accuracy: 0.9996 - val_loss: 3.8794 - val_accuracy: 0.7021\n",
      "Epoch 44/100\n",
      "134/134 [==============================] - ETA: 0s - loss: 0.0018 - accuracy: 0.9995\n",
      "Epoch 44: val_loss did not improve from 0.59935\n",
      "134/134 [==============================] - 55s 410ms/step - loss: 0.0018 - accuracy: 0.9995 - val_loss: 4.1444 - val_accuracy: 0.6921\n",
      "Epoch 45/100\n",
      "134/134 [==============================] - ETA: 0s - loss: 0.0033 - accuracy: 0.9994\n",
      "Epoch 45: val_loss did not improve from 0.59935\n",
      "134/134 [==============================] - 55s 407ms/step - loss: 0.0033 - accuracy: 0.9994 - val_loss: 3.9419 - val_accuracy: 0.6948\n",
      "Epoch 46/100\n",
      "134/134 [==============================] - ETA: 0s - loss: 0.0015 - accuracy: 0.9996\n",
      "Epoch 46: val_loss did not improve from 0.59935\n",
      "134/134 [==============================] - 55s 407ms/step - loss: 0.0015 - accuracy: 0.9996 - val_loss: 4.0402 - val_accuracy: 0.6921\n",
      "Epoch 47/100\n",
      "134/134 [==============================] - ETA: 0s - loss: 0.0079 - accuracy: 0.9973\n",
      "Epoch 47: val_loss did not improve from 0.59935\n",
      "134/134 [==============================] - 55s 407ms/step - loss: 0.0079 - accuracy: 0.9973 - val_loss: 3.4848 - val_accuracy: 0.7066\n",
      "Epoch 48/100\n",
      "134/134 [==============================] - ETA: 0s - loss: 0.0092 - accuracy: 0.9973\n",
      "Epoch 48: val_loss did not improve from 0.59935\n",
      "134/134 [==============================] - 55s 407ms/step - loss: 0.0092 - accuracy: 0.9973 - val_loss: 3.9060 - val_accuracy: 0.6903\n",
      "Epoch 49/100\n",
      "134/134 [==============================] - ETA: 0s - loss: 0.0048 - accuracy: 0.9984\n",
      "Epoch 49: val_loss did not improve from 0.59935\n",
      "134/134 [==============================] - 55s 407ms/step - loss: 0.0048 - accuracy: 0.9984 - val_loss: 4.1227 - val_accuracy: 0.6994\n",
      "Epoch 50/100\n",
      "134/134 [==============================] - ETA: 0s - loss: 0.0271 - accuracy: 0.9929\n",
      "Epoch 50: val_loss did not improve from 0.59935\n",
      "134/134 [==============================] - 54s 406ms/step - loss: 0.0271 - accuracy: 0.9929 - val_loss: 3.3820 - val_accuracy: 0.7003\n",
      "Epoch 51/100\n",
      "134/134 [==============================] - ETA: 0s - loss: 0.0266 - accuracy: 0.9917\n",
      "Epoch 51: val_loss did not improve from 0.59935\n",
      "134/134 [==============================] - 55s 408ms/step - loss: 0.0266 - accuracy: 0.9917 - val_loss: 2.6589 - val_accuracy: 0.6794\n",
      "Epoch 52/100\n",
      "134/134 [==============================] - ETA: 0s - loss: 0.0197 - accuracy: 0.9937\n",
      "Epoch 52: val_loss did not improve from 0.59935\n",
      "134/134 [==============================] - 55s 407ms/step - loss: 0.0197 - accuracy: 0.9937 - val_loss: 3.1000 - val_accuracy: 0.6975\n",
      "Epoch 53/100\n",
      "134/134 [==============================] - ETA: 0s - loss: 0.0173 - accuracy: 0.9940\n",
      "Epoch 53: val_loss did not improve from 0.59935\n",
      "134/134 [==============================] - 55s 409ms/step - loss: 0.0173 - accuracy: 0.9940 - val_loss: 3.0651 - val_accuracy: 0.6866\n",
      "Epoch 54/100\n",
      "134/134 [==============================] - ETA: 0s - loss: 0.0184 - accuracy: 0.9953\n",
      "Epoch 54: val_loss did not improve from 0.59935\n",
      "134/134 [==============================] - 55s 408ms/step - loss: 0.0184 - accuracy: 0.9953 - val_loss: 3.2180 - val_accuracy: 0.6848\n",
      "Epoch 55/100\n",
      "134/134 [==============================] - ETA: 0s - loss: 0.0134 - accuracy: 0.9964\n",
      "Epoch 55: val_loss did not improve from 0.59935\n",
      "134/134 [==============================] - 55s 408ms/step - loss: 0.0134 - accuracy: 0.9964 - val_loss: 3.1715 - val_accuracy: 0.6839\n",
      "Epoch 56/100\n",
      "134/134 [==============================] - ETA: 0s - loss: 0.0050 - accuracy: 0.9981\n",
      "Epoch 56: val_loss did not improve from 0.59935\n",
      "134/134 [==============================] - 55s 408ms/step - loss: 0.0050 - accuracy: 0.9981 - val_loss: 3.6807 - val_accuracy: 0.6921\n",
      "Epoch 57/100\n",
      "134/134 [==============================] - ETA: 0s - loss: 0.0016 - accuracy: 0.9999\n",
      "Epoch 57: val_loss did not improve from 0.59935\n",
      "134/134 [==============================] - 55s 407ms/step - loss: 0.0016 - accuracy: 0.9999 - val_loss: 4.0683 - val_accuracy: 0.6866\n",
      "Epoch 58/100\n",
      "134/134 [==============================] - ETA: 0s - loss: 0.0041 - accuracy: 0.9991\n",
      "Epoch 58: val_loss did not improve from 0.59935\n",
      "134/134 [==============================] - 55s 407ms/step - loss: 0.0041 - accuracy: 0.9991 - val_loss: 3.9169 - val_accuracy: 0.6975\n",
      "Epoch 59/100\n",
      "134/134 [==============================] - ETA: 0s - loss: 0.0034 - accuracy: 0.9994\n",
      "Epoch 59: val_loss did not improve from 0.59935\n",
      "134/134 [==============================] - 54s 406ms/step - loss: 0.0034 - accuracy: 0.9994 - val_loss: 3.8650 - val_accuracy: 0.6994\n",
      "Epoch 60/100\n",
      "134/134 [==============================] - ETA: 0s - loss: 0.0014 - accuracy: 0.9995\n",
      "Epoch 60: val_loss did not improve from 0.59935\n",
      "134/134 [==============================] - 54s 406ms/step - loss: 0.0014 - accuracy: 0.9995 - val_loss: 4.4298 - val_accuracy: 0.6966\n",
      "Epoch 61/100\n",
      "134/134 [==============================] - ETA: 0s - loss: 0.0021 - accuracy: 0.9996\n",
      "Epoch 61: val_loss did not improve from 0.59935\n",
      "134/134 [==============================] - 55s 408ms/step - loss: 0.0021 - accuracy: 0.9996 - val_loss: 4.6211 - val_accuracy: 0.6957\n",
      "Epoch 62/100\n",
      "134/134 [==============================] - ETA: 0s - loss: 0.0117 - accuracy: 0.9973\n",
      "Epoch 62: val_loss did not improve from 0.59935\n",
      "134/134 [==============================] - 54s 406ms/step - loss: 0.0117 - accuracy: 0.9973 - val_loss: 3.0089 - val_accuracy: 0.6876\n",
      "Epoch 63/100\n",
      "134/134 [==============================] - ETA: 0s - loss: 0.0115 - accuracy: 0.9970\n",
      "Epoch 63: val_loss did not improve from 0.59935\n",
      "134/134 [==============================] - 55s 407ms/step - loss: 0.0115 - accuracy: 0.9970 - val_loss: 3.2802 - val_accuracy: 0.6876\n",
      "Epoch 64/100\n",
      "134/134 [==============================] - ETA: 0s - loss: 0.0077 - accuracy: 0.9974\n",
      "Epoch 64: val_loss did not improve from 0.59935\n",
      "134/134 [==============================] - 55s 408ms/step - loss: 0.0077 - accuracy: 0.9974 - val_loss: 3.6825 - val_accuracy: 0.6912\n",
      "Epoch 65/100\n",
      "134/134 [==============================] - ETA: 0s - loss: 0.0019 - accuracy: 0.9998\n",
      "Epoch 65: val_loss did not improve from 0.59935\n",
      "134/134 [==============================] - 55s 407ms/step - loss: 0.0019 - accuracy: 0.9998 - val_loss: 4.1086 - val_accuracy: 0.6948\n",
      "Epoch 66/100\n",
      "134/134 [==============================] - ETA: 0s - loss: 0.0080 - accuracy: 0.9971\n",
      "Epoch 66: val_loss did not improve from 0.59935\n",
      "134/134 [==============================] - 55s 407ms/step - loss: 0.0080 - accuracy: 0.9971 - val_loss: 4.5739 - val_accuracy: 0.6830\n",
      "Epoch 67/100\n",
      "134/134 [==============================] - ETA: 0s - loss: 0.0197 - accuracy: 0.9940\n",
      "Epoch 67: val_loss did not improve from 0.59935\n",
      "134/134 [==============================] - 54s 407ms/step - loss: 0.0197 - accuracy: 0.9940 - val_loss: 3.3740 - val_accuracy: 0.6812\n",
      "Epoch 68/100\n",
      "134/134 [==============================] - ETA: 0s - loss: 0.0123 - accuracy: 0.9966\n",
      "Epoch 68: val_loss did not improve from 0.59935\n",
      "134/134 [==============================] - 54s 406ms/step - loss: 0.0123 - accuracy: 0.9966 - val_loss: 3.3588 - val_accuracy: 0.6903\n",
      "Epoch 69/100\n",
      "134/134 [==============================] - ETA: 0s - loss: 0.0188 - accuracy: 0.9951\n",
      "Epoch 69: val_loss did not improve from 0.59935\n",
      "134/134 [==============================] - 55s 407ms/step - loss: 0.0188 - accuracy: 0.9951 - val_loss: 3.4634 - val_accuracy: 0.6839\n",
      "Epoch 70/100\n",
      "134/134 [==============================] - ETA: 0s - loss: 0.0082 - accuracy: 0.9974\n",
      "Epoch 70: val_loss did not improve from 0.59935\n",
      "134/134 [==============================] - 54s 406ms/step - loss: 0.0082 - accuracy: 0.9974 - val_loss: 3.6849 - val_accuracy: 0.6885\n",
      "Epoch 71/100\n",
      "134/134 [==============================] - ETA: 0s - loss: 0.0065 - accuracy: 0.9987\n",
      "Epoch 71: val_loss did not improve from 0.59935\n",
      "134/134 [==============================] - 55s 407ms/step - loss: 0.0065 - accuracy: 0.9987 - val_loss: 3.4621 - val_accuracy: 0.6912\n",
      "Epoch 72/100\n",
      "134/134 [==============================] - ETA: 0s - loss: 0.0199 - accuracy: 0.9956\n",
      "Epoch 72: val_loss did not improve from 0.59935\n",
      "134/134 [==============================] - 54s 407ms/step - loss: 0.0199 - accuracy: 0.9956 - val_loss: 2.6804 - val_accuracy: 0.6912\n",
      "Epoch 73/100\n",
      "134/134 [==============================] - ETA: 0s - loss: 0.0095 - accuracy: 0.9972\n",
      "Epoch 73: val_loss did not improve from 0.59935\n",
      "134/134 [==============================] - 55s 408ms/step - loss: 0.0095 - accuracy: 0.9972 - val_loss: 3.3201 - val_accuracy: 0.7003\n",
      "Epoch 74/100\n",
      "134/134 [==============================] - ETA: 0s - loss: 0.0035 - accuracy: 0.9992\n",
      "Epoch 74: val_loss did not improve from 0.59935\n",
      "134/134 [==============================] - 54s 406ms/step - loss: 0.0035 - accuracy: 0.9992 - val_loss: 3.7473 - val_accuracy: 0.6894\n",
      "Epoch 75/100\n",
      "134/134 [==============================] - ETA: 0s - loss: 0.0031 - accuracy: 0.9989\n",
      "Epoch 75: val_loss did not improve from 0.59935\n",
      "134/134 [==============================] - 55s 408ms/step - loss: 0.0031 - accuracy: 0.9989 - val_loss: 4.0038 - val_accuracy: 0.6948\n",
      "Epoch 76/100\n",
      "134/134 [==============================] - ETA: 0s - loss: 0.0026 - accuracy: 0.9993\n",
      "Epoch 76: val_loss did not improve from 0.59935\n",
      "134/134 [==============================] - 55s 408ms/step - loss: 0.0026 - accuracy: 0.9993 - val_loss: 4.3166 - val_accuracy: 0.7012\n",
      "Epoch 77/100\n",
      "134/134 [==============================] - ETA: 0s - loss: 0.0028 - accuracy: 0.9993\n",
      "Epoch 77: val_loss did not improve from 0.59935\n",
      "134/134 [==============================] - 55s 408ms/step - loss: 0.0028 - accuracy: 0.9993 - val_loss: 4.4272 - val_accuracy: 0.7021\n",
      "Epoch 78/100\n",
      "134/134 [==============================] - ETA: 0s - loss: 0.0013 - accuracy: 0.9999\n",
      "Epoch 78: val_loss did not improve from 0.59935\n",
      "134/134 [==============================] - 55s 408ms/step - loss: 0.0013 - accuracy: 0.9999 - val_loss: 4.8921 - val_accuracy: 0.6939\n",
      "Epoch 79/100\n",
      "134/134 [==============================] - ETA: 0s - loss: 0.0136 - accuracy: 0.9949\n",
      "Epoch 79: val_loss did not improve from 0.59935\n",
      "134/134 [==============================] - 55s 407ms/step - loss: 0.0136 - accuracy: 0.9949 - val_loss: 3.6024 - val_accuracy: 0.7012\n",
      "Epoch 80/100\n",
      "134/134 [==============================] - ETA: 0s - loss: 0.0065 - accuracy: 0.9981\n",
      "Epoch 80: val_loss did not improve from 0.59935\n",
      "134/134 [==============================] - 55s 407ms/step - loss: 0.0065 - accuracy: 0.9981 - val_loss: 3.9834 - val_accuracy: 0.7039\n",
      "Epoch 81/100\n",
      "134/134 [==============================] - ETA: 0s - loss: 0.0016 - accuracy: 0.9998\n",
      "Epoch 81: val_loss did not improve from 0.59935\n",
      "134/134 [==============================] - 55s 408ms/step - loss: 0.0016 - accuracy: 0.9998 - val_loss: 4.4361 - val_accuracy: 0.6966\n",
      "Epoch 82/100\n",
      "134/134 [==============================] - ETA: 0s - loss: 0.0016 - accuracy: 0.9998\n",
      "Epoch 82: val_loss did not improve from 0.59935\n",
      "134/134 [==============================] - 55s 408ms/step - loss: 0.0016 - accuracy: 0.9998 - val_loss: 4.6436 - val_accuracy: 0.6994\n",
      "Epoch 83/100\n",
      "134/134 [==============================] - ETA: 0s - loss: 0.0042 - accuracy: 0.9991\n",
      "Epoch 83: val_loss did not improve from 0.59935\n",
      "134/134 [==============================] - 55s 408ms/step - loss: 0.0042 - accuracy: 0.9991 - val_loss: 4.3318 - val_accuracy: 0.6912\n",
      "Epoch 84/100\n",
      "134/134 [==============================] - ETA: 0s - loss: 0.0211 - accuracy: 0.9950\n",
      "Epoch 84: val_loss did not improve from 0.59935\n",
      "134/134 [==============================] - 54s 406ms/step - loss: 0.0211 - accuracy: 0.9950 - val_loss: 3.4961 - val_accuracy: 0.6894\n",
      "Epoch 85/100\n",
      "134/134 [==============================] - ETA: 0s - loss: 0.0142 - accuracy: 0.9956\n",
      "Epoch 85: val_loss did not improve from 0.59935\n",
      "134/134 [==============================] - 54s 407ms/step - loss: 0.0142 - accuracy: 0.9956 - val_loss: 3.2401 - val_accuracy: 0.6985\n",
      "Epoch 86/100\n",
      "134/134 [==============================] - ETA: 0s - loss: 0.0031 - accuracy: 0.9989\n",
      "Epoch 86: val_loss did not improve from 0.59935\n",
      "134/134 [==============================] - 55s 409ms/step - loss: 0.0031 - accuracy: 0.9989 - val_loss: 3.9459 - val_accuracy: 0.6839\n",
      "Epoch 87/100\n",
      "134/134 [==============================] - ETA: 0s - loss: 0.0032 - accuracy: 0.9989\n",
      "Epoch 87: val_loss did not improve from 0.59935\n",
      "134/134 [==============================] - 55s 407ms/step - loss: 0.0032 - accuracy: 0.9989 - val_loss: 4.1391 - val_accuracy: 0.6894\n"
     ]
    }
   ],
   "source": [
    "model.compile(optimizer='adam',\n",
    "              loss='binary_crossentropy',\n",
    "              metrics=['accuracy'])\n",
    "history = model.fit([x_train, mask_train],\n",
    "                    y_train,\n",
    "                    epochs=100,\n",
    "                    batch_size=64,\n",
    "                    validation_data=([x_val, mask_val], y_val),\n",
    "                    callbacks=[\n",
    "                        keras.callbacks.ModelCheckpoint(\n",
    "                            checkpoint_dir,\n",
    "                            save_best_only=True,\n",
    "                            save_weights_only=False,\n",
    "                            verbose=1\n",
    "                        ),\n",
    "                        keras.callbacks.EarlyStopping(\n",
    "                            monitor='accuracy',\n",
    "                            min_delta=.001,\n",
    "                            patience=30\n",
    "                        )\n",
    "                    ],\n",
    "                    verbose=1)"
   ]
  },
  {
   "cell_type": "code",
   "execution_count": null,
   "metadata": {},
   "outputs": [],
   "source": [
    "model.load_weights(checkpoint_dir)"
   ]
  },
  {
   "cell_type": "code",
   "execution_count": null,
   "metadata": {},
   "outputs": [
    {
     "data": {
      "text/plain": [
       "(2210, (2210, 256), (2210, 256), (2210,))"
      ]
     },
     "execution_count": 14,
     "metadata": {},
     "output_type": "execute_result"
    }
   ],
   "source": [
    "test_dataframe = pd.read_csv(\"../resources/datasets/StanfordSentimentTreebank/split/SST2Processed2-test.csv\", index_col=0)\n",
    "ids_test, x_test, mask_test, y_test = get_dataset(test_dataframe, word_index)\n",
    "len(ids_test), x_test.shape, mask_test.shape, y_test.shape"
   ]
  },
  {
   "cell_type": "code",
   "execution_count": null,
   "metadata": {},
   "outputs": [
    {
     "name": "stdout",
     "output_type": "stream",
     "text": [
      "70/70 [==============================] - 3s 42ms/step\n"
     ]
    },
    {
     "data": {
      "text/plain": [
       "(2210, 1)"
      ]
     },
     "execution_count": 15,
     "metadata": {},
     "output_type": "execute_result"
    }
   ],
   "source": [
    "preds = model.predict([x_test, mask_test])\n",
    "preds.shape"
   ]
  },
  {
   "cell_type": "code",
   "execution_count": null,
   "metadata": {},
   "outputs": [
    {
     "data": {
      "text/html": [
       "<div>\n",
       "<style scoped>\n",
       "    .dataframe tbody tr th:only-of-type {\n",
       "        vertical-align: middle;\n",
       "    }\n",
       "\n",
       "    .dataframe tbody tr th {\n",
       "        vertical-align: top;\n",
       "    }\n",
       "\n",
       "    .dataframe thead th {\n",
       "        text-align: right;\n",
       "    }\n",
       "</style>\n",
       "<table border=\"1\" class=\"dataframe\">\n",
       "  <thead>\n",
       "    <tr style=\"text-align: right;\">\n",
       "      <th></th>\n",
       "      <th>predictions</th>\n",
       "    </tr>\n",
       "  </thead>\n",
       "  <tbody>\n",
       "    <tr>\n",
       "      <th>3</th>\n",
       "      <td>0.459471</td>\n",
       "    </tr>\n",
       "    <tr>\n",
       "      <th>4</th>\n",
       "      <td>0.489437</td>\n",
       "    </tr>\n",
       "    <tr>\n",
       "      <th>5</th>\n",
       "      <td>0.559897</td>\n",
       "    </tr>\n",
       "    <tr>\n",
       "      <th>6</th>\n",
       "      <td>0.605639</td>\n",
       "    </tr>\n",
       "    <tr>\n",
       "      <th>7</th>\n",
       "      <td>0.707029</td>\n",
       "    </tr>\n",
       "    <tr>\n",
       "      <th>...</th>\n",
       "      <td>...</td>\n",
       "    </tr>\n",
       "    <tr>\n",
       "      <th>11621</th>\n",
       "      <td>0.566334</td>\n",
       "    </tr>\n",
       "    <tr>\n",
       "      <th>11623</th>\n",
       "      <td>0.914556</td>\n",
       "    </tr>\n",
       "    <tr>\n",
       "      <th>11626</th>\n",
       "      <td>0.871059</td>\n",
       "    </tr>\n",
       "    <tr>\n",
       "      <th>11628</th>\n",
       "      <td>0.449026</td>\n",
       "    </tr>\n",
       "    <tr>\n",
       "      <th>11798</th>\n",
       "      <td>0.372138</td>\n",
       "    </tr>\n",
       "  </tbody>\n",
       "</table>\n",
       "<p>2210 rows × 1 columns</p>\n",
       "</div>"
      ],
      "text/plain": [
       "       predictions\n",
       "3         0.459471\n",
       "4         0.489437\n",
       "5         0.559897\n",
       "6         0.605639\n",
       "7         0.707029\n",
       "...            ...\n",
       "11621     0.566334\n",
       "11623     0.914556\n",
       "11626     0.871059\n",
       "11628     0.449026\n",
       "11798     0.372138\n",
       "\n",
       "[2210 rows x 1 columns]"
      ]
     },
     "execution_count": 16,
     "metadata": {},
     "output_type": "execute_result"
    }
   ],
   "source": [
    "preds_df = pd.DataFrame(preds, index=ids_test, columns=[\"predictions\"])\n",
    "preds_df"
   ]
  },
  {
   "cell_type": "code",
   "execution_count": null,
   "metadata": {},
   "outputs": [
    {
     "data": {
      "text/html": [
       "<div>\n",
       "<style scoped>\n",
       "    .dataframe tbody tr th:only-of-type {\n",
       "        vertical-align: middle;\n",
       "    }\n",
       "\n",
       "    .dataframe tbody tr th {\n",
       "        vertical-align: top;\n",
       "    }\n",
       "\n",
       "    .dataframe thead th {\n",
       "        text-align: right;\n",
       "    }\n",
       "</style>\n",
       "<table border=\"1\" class=\"dataframe\">\n",
       "  <thead>\n",
       "    <tr style=\"text-align: right;\">\n",
       "      <th></th>\n",
       "      <th>text</th>\n",
       "      <th>phrase_id</th>\n",
       "      <th>class</th>\n",
       "      <th>predictions</th>\n",
       "    </tr>\n",
       "  </thead>\n",
       "  <tbody>\n",
       "    <tr>\n",
       "      <th>3</th>\n",
       "      <td>&lt;start&gt; effective but too tepid biopic</td>\n",
       "      <td>13995</td>\n",
       "      <td>0.513890</td>\n",
       "      <td>0.459471</td>\n",
       "    </tr>\n",
       "    <tr>\n",
       "      <th>4</th>\n",
       "      <td>&lt;start&gt; if you sometimes like to go to the mov...</td>\n",
       "      <td>14123</td>\n",
       "      <td>0.736110</td>\n",
       "      <td>0.489437</td>\n",
       "    </tr>\n",
       "    <tr>\n",
       "      <th>5</th>\n",
       "      <td>&lt;start&gt; emerges as something rare an issue mov...</td>\n",
       "      <td>13999</td>\n",
       "      <td>0.861110</td>\n",
       "      <td>0.559897</td>\n",
       "    </tr>\n",
       "    <tr>\n",
       "      <th>6</th>\n",
       "      <td>&lt;start&gt; the film provides some great insight i...</td>\n",
       "      <td>14498</td>\n",
       "      <td>0.597220</td>\n",
       "      <td>0.605639</td>\n",
       "    </tr>\n",
       "    <tr>\n",
       "      <th>7</th>\n",
       "      <td>&lt;start&gt; offers that rare combination of entert...</td>\n",
       "      <td>14351</td>\n",
       "      <td>0.833330</td>\n",
       "      <td>0.707029</td>\n",
       "    </tr>\n",
       "    <tr>\n",
       "      <th>...</th>\n",
       "      <td>...</td>\n",
       "      <td>...</td>\n",
       "      <td>...</td>\n",
       "      <td>...</td>\n",
       "    </tr>\n",
       "    <tr>\n",
       "      <th>11621</th>\n",
       "      <td>&lt;start&gt; an imaginative comedythriller</td>\n",
       "      <td>13851</td>\n",
       "      <td>0.777780</td>\n",
       "      <td>0.566334</td>\n",
       "    </tr>\n",
       "    <tr>\n",
       "      <th>11623</th>\n",
       "      <td>&lt;start&gt; a rare beautiful film</td>\n",
       "      <td>18182</td>\n",
       "      <td>0.916670</td>\n",
       "      <td>0.914556</td>\n",
       "    </tr>\n",
       "    <tr>\n",
       "      <th>11626</th>\n",
       "      <td>&lt;start&gt; an hilarious romantic comedy</td>\n",
       "      <td>23211</td>\n",
       "      <td>0.888890</td>\n",
       "      <td>0.871059</td>\n",
       "    </tr>\n",
       "    <tr>\n",
       "      <th>11628</th>\n",
       "      <td>&lt;start&gt; never sinks into exploitation</td>\n",
       "      <td>26177</td>\n",
       "      <td>0.625000</td>\n",
       "      <td>0.449026</td>\n",
       "    </tr>\n",
       "    <tr>\n",
       "      <th>11798</th>\n",
       "      <td>&lt;start&gt; u nrelentingly stupid</td>\n",
       "      <td>141831</td>\n",
       "      <td>0.069444</td>\n",
       "      <td>0.372138</td>\n",
       "    </tr>\n",
       "  </tbody>\n",
       "</table>\n",
       "<p>2210 rows × 4 columns</p>\n",
       "</div>"
      ],
      "text/plain": [
       "                                                    text  phrase_id     class  \\\n",
       "3                 <start> effective but too tepid biopic      13995  0.513890   \n",
       "4      <start> if you sometimes like to go to the mov...      14123  0.736110   \n",
       "5      <start> emerges as something rare an issue mov...      13999  0.861110   \n",
       "6      <start> the film provides some great insight i...      14498  0.597220   \n",
       "7      <start> offers that rare combination of entert...      14351  0.833330   \n",
       "...                                                  ...        ...       ...   \n",
       "11621              <start> an imaginative comedythriller      13851  0.777780   \n",
       "11623                      <start> a rare beautiful film      18182  0.916670   \n",
       "11626               <start> an hilarious romantic comedy      23211  0.888890   \n",
       "11628              <start> never sinks into exploitation      26177  0.625000   \n",
       "11798                      <start> u nrelentingly stupid     141831  0.069444   \n",
       "\n",
       "       predictions  \n",
       "3         0.459471  \n",
       "4         0.489437  \n",
       "5         0.559897  \n",
       "6         0.605639  \n",
       "7         0.707029  \n",
       "...            ...  \n",
       "11621     0.566334  \n",
       "11623     0.914556  \n",
       "11626     0.871059  \n",
       "11628     0.449026  \n",
       "11798     0.372138  \n",
       "\n",
       "[2210 rows x 4 columns]"
      ]
     },
     "execution_count": 17,
     "metadata": {},
     "output_type": "execute_result"
    }
   ],
   "source": [
    "dataset_with_preds_df = pd.concat([test_dataframe, preds_df], axis=1)\n",
    "dataset_with_preds_df"
   ]
  },
  {
   "cell_type": "code",
   "execution_count": null,
   "metadata": {},
   "outputs": [
    {
     "data": {
      "text/plain": [
       "0.6705882352941176"
      ]
     },
     "execution_count": 18,
     "metadata": {},
     "output_type": "execute_result"
    }
   ],
   "source": [
    "hits, total = 0, 0\n",
    "for _, row in dataset_with_preds_df.iterrows() :\n",
    "    total += 1\n",
    "    pred  = row[\"predictions\"] >= .5\n",
    "    label = row[\"class\"]       >= .5\n",
    "    if pred == label : \n",
    "        hits += 1\n",
    "accuracy = hits / total\n",
    "accuracy"
   ]
  },
  {
   "cell_type": "code",
   "execution_count": null,
   "metadata": {},
   "outputs": [
    {
     "data": {
      "text/plain": [
       "0.20405662796735688"
      ]
     },
     "execution_count": 19,
     "metadata": {},
     "output_type": "execute_result"
    }
   ],
   "source": [
    "hits, total = 0, 0\n",
    "for _, row in dataset_with_preds_df.iterrows() :\n",
    "    total += 1\n",
    "    pred  = row[\"predictions\"]\n",
    "    label = row[\"class\"]\n",
    "    diff = label - pred\n",
    "    hits += abs(diff)\n",
    "avg_dev = hits / total\n",
    "avg_dev"
   ]
  },
  {
   "cell_type": "code",
   "execution_count": null,
   "metadata": {},
   "outputs": [
    {
     "name": "stdout",
     "output_type": "stream",
     "text": [
      "766 716 383 345\n"
     ]
    }
   ],
   "source": [
    "true_positives, true_negatives, false_positives, false_negatives = 0, 0, 0, 0\n",
    "for _, row in dataset_with_preds_df.iterrows() :\n",
    "    pred  = row[\"predictions\"] >= .5\n",
    "    label = row[\"class\"]       >= .5\n",
    "    if pred == label :\n",
    "        if pred :\n",
    "            true_positives  += 1\n",
    "        else :\n",
    "            true_negatives  += 1\n",
    "    else :\n",
    "        if pred :\n",
    "            false_positives += 1\n",
    "        else :\n",
    "            false_negatives += 1\n",
    "print(true_positives, true_negatives, false_positives, false_negatives)"
   ]
  },
  {
   "cell_type": "code",
   "execution_count": null,
   "metadata": {},
   "outputs": [
    {
     "data": {
      "text/plain": [
       "0.6666666666666666"
      ]
     },
     "execution_count": 21,
     "metadata": {},
     "output_type": "execute_result"
    }
   ],
   "source": [
    "precision = true_positives / (true_positives + false_positives)\n",
    "precision"
   ]
  },
  {
   "cell_type": "code",
   "execution_count": null,
   "metadata": {},
   "outputs": [
    {
     "data": {
      "text/plain": [
       "0.6894689468946895"
      ]
     },
     "execution_count": 22,
     "metadata": {},
     "output_type": "execute_result"
    }
   ],
   "source": [
    "recall = true_positives / (true_positives + false_negatives)\n",
    "recall"
   ]
  },
  {
   "cell_type": "code",
   "execution_count": null,
   "metadata": {},
   "outputs": [
    {
     "data": {
      "text/plain": [
       "0.6778761061946904"
      ]
     },
     "execution_count": 23,
     "metadata": {},
     "output_type": "execute_result"
    }
   ],
   "source": [
    "f1 = (2 * precision * recall) / (precision + recall)\n",
    "f1"
   ]
  },
  {
   "cell_type": "code",
   "execution_count": null,
   "metadata": {},
   "outputs": [],
   "source": [
    "eval_dict = {\n",
    "    'model'     : checkpoint_dir,\n",
    "    'accuracy'  : accuracy,\n",
    "    'precision' : precision,\n",
    "    'recall'    : recall,\n",
    "    'f1-score'  : f1\n",
    "}"
   ]
  },
  {
   "cell_type": "code",
   "execution_count": null,
   "metadata": {},
   "outputs": [],
   "source": [
    "with open(f\"{eval_dict['model']}-eval-dict.json\", \"w\") as f :\n",
    "    f.write(json.dumps(eval_dict))"
   ]
  }
 ],
 "metadata": {
  "kernelspec": {
   "display_name": "Python 3.10.4 64-bit",
   "language": "python",
   "name": "python3"
  },
  "language_info": {
   "codemirror_mode": {
    "name": "ipython",
    "version": 3
   },
   "file_extension": ".py",
   "mimetype": "text/x-python",
   "name": "python",
   "nbconvert_exporter": "python",
   "pygments_lexer": "ipython3",
   "version": "3.10.4"
  },
  "orig_nbformat": 4,
  "vscode": {
   "interpreter": {
    "hash": "fb071969cc081d156db4658a52cc12ff3302089485c0c8cb524fcf02c6362775"
   }
  }
 },
 "nbformat": 4,
 "nbformat_minor": 2
}
