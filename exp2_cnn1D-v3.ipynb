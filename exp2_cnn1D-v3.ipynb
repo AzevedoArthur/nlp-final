{
 "cells": [
  {
   "cell_type": "code",
   "execution_count": 2,
   "metadata": {},
   "outputs": [],
   "source": [
    "import tensorflow as tf\n",
    "from tensorflow import keras\n",
    "\n",
    "import numpy as np"
   ]
  },
  {
   "cell_type": "code",
   "execution_count": 3,
   "metadata": {},
   "outputs": [],
   "source": [
    "def get_model(vocab_size, emb_dim, max_len=256) :\n",
    "    inputs      = tf.keras.Input(shape=(max_len,), dtype='int32')\n",
    "    inputs_mask = tf.keras.Input(shape=(max_len,), dtype='bool')\n",
    "    \n",
    "    embedding_layer = keras.layers.Embedding(vocab_size, emb_dim, input_length=max_len, mask_zero=True)\n",
    "    embedding = embedding_layer(inputs)\n",
    "    \n",
    "    enc_conv1 = keras.layers.Conv1D(filters=128, kernel_size=3, activation='relu', padding='same')(embedding)\n",
    "\n",
    "    attention = keras.layers.Attention(causal=False)(\n",
    "        [\n",
    "         enc_conv1, \n",
    "         enc_conv1\n",
    "        ],\n",
    "        mask=[ \n",
    "         inputs_mask, \n",
    "         inputs_mask\n",
    "        ]\n",
    "    )\n",
    "    last  = attention\n",
    "    \n",
    "    conv1 = keras.layers.Conv1D(filters=64, kernel_size=3, activation='relu', padding='same')(last)\n",
    "    last  = conv1\n",
    "    \n",
    "    conv2 = keras.layers.Conv1D(filters=32, kernel_size=3, activation='relu', padding='same')(last)\n",
    "    last  = conv2\n",
    "    \n",
    "    pool1 = keras.layers.MaxPooling1D(pool_size=2, padding='same')(last)\n",
    "    last  = pool1\n",
    "    \n",
    "    drop1 = keras.layers.Dropout(0.05)(last)\n",
    "    last  = drop1\n",
    "    \n",
    "    conv3 = keras.layers.Conv1D(filters=16, kernel_size=3, activation='relu', padding='same')(last)\n",
    "    last  = conv3\n",
    "    \n",
    "    conv4 = keras.layers.Conv1D(filters=8,  kernel_size=3, activation='relu', padding='same')(last)\n",
    "    last  = conv4\n",
    "    \n",
    "    pool2 = keras.layers.GlobalAveragePooling1D()(last)\n",
    "    last  = pool2\n",
    "    \n",
    "    drop2 = keras.layers.Dropout(0.05)(last)\n",
    "    last  = drop2\n",
    "\n",
    "    outputs = keras.layers.Dense(1, activation='sigmoid')(last)\n",
    "\n",
    "    model = keras.models.Model(inputs=[inputs, inputs_mask], outputs=outputs)\n",
    "\n",
    "    model.summary()\n",
    "\n",
    "    return model, embedding_layer"
   ]
  },
  {
   "cell_type": "code",
   "execution_count": 4,
   "metadata": {},
   "outputs": [],
   "source": [
    "import pandas as pd\n",
    "import json\n",
    "\n",
    "def get_word_index(sentences) :\n",
    "    all_tokens = []\n",
    "    for txt in sentences :\n",
    "        all_tokens += txt.split()\n",
    "\n",
    "    tokens = pd.Series(all_tokens, range(len(all_tokens)), name=\"tokens\")\n",
    "    types = tokens.unique()\n",
    "    word_index = {word : i for i, word in enumerate([\"<pad>\", \"<unk>\"] + list(types))}\n",
    "    \n",
    "    def decode_review(text):\n",
    "        reverse_word_index = dict([(value, key) for (key, value) in word_index.items()])\n",
    "        return ' '.join([reverse_word_index.get(i, '?') for i in text])\n",
    "    \n",
    "    return word_index, decode_review\n",
    "\n",
    "def get_dataset(dataframe, word_index, max_len=256) :\n",
    "    index_series, x_series, y_series = dataframe.index, dataframe[\"text\"], dataframe[\"class\"]\n",
    "\n",
    "    index = list(index_series)\n",
    "\n",
    "    x_list = [txt.split() for txt in list(x_series)]\n",
    "    \n",
    "    x_seq = []\n",
    "    for tknlst in x_list :\n",
    "        seq = []\n",
    "        for tkn in tknlst :\n",
    "            try :\n",
    "                seq.append(word_index[tkn])\n",
    "            except KeyError :\n",
    "                seq.append(word_index[\"<unk>\"])\n",
    "        seq = (seq + [0] * (max_len - len(seq))) if (len(seq) < max_len) else (seq[ : max_len])\n",
    "        x_seq.append(seq)\n",
    "    \n",
    "    y_int = [1 if lb >= .5 else 0 for lb in list(y_series)]\n",
    "\n",
    "    x = np.array(x_seq, dtype=int) \n",
    "    mask = x != 0\n",
    "\n",
    "    y = np.array(y_int, dtype=int) \n",
    "\n",
    "    return index, x, mask, y"
   ]
  },
  {
   "cell_type": "code",
   "execution_count": 5,
   "metadata": {},
   "outputs": [
    {
     "data": {
      "text/plain": [
       "((8544, 256), (8544, 256), (8544,))"
      ]
     },
     "execution_count": 5,
     "metadata": {},
     "output_type": "execute_result"
    }
   ],
   "source": [
    "train_dataframe = pd.read_csv(\"../resources/datasets/StanfordSentimentTreebank/split/SST2Processed2-train.csv\", index_col=0)\n",
    "word_index, decode_review = get_word_index(train_dataframe[\"text\"])\n",
    "ids_train, x_train, mask_train, y_train = get_dataset(train_dataframe, word_index)\n",
    "len(ids_train), x_train.shape, mask_train.shape, y_train.shape"
   ]
  },
  {
   "cell_type": "code",
   "execution_count": 6,
   "metadata": {},
   "outputs": [
    {
     "data": {
      "text/plain": [
       "(array([ 2,  3, 32, 33, 34, 35,  3, 36, 35,  3, 37, 38,  5, 39, 40, 14, 18,\n",
       "        41, 35, 42, 43, 44, 45, 46, 47, 48, 49, 50, 51, 52, 35, 53, 54, 55,\n",
       "        56,  0,  0,  0,  0,  0,  0,  0,  0,  0,  0,  0,  0,  0,  0,  0,  0,\n",
       "         0,  0,  0,  0,  0,  0,  0,  0,  0,  0,  0,  0,  0,  0,  0,  0,  0,\n",
       "         0,  0,  0,  0,  0,  0,  0,  0,  0,  0,  0,  0,  0,  0,  0,  0,  0,\n",
       "         0,  0,  0,  0,  0,  0,  0,  0,  0,  0,  0,  0,  0,  0,  0,  0,  0,\n",
       "         0,  0,  0,  0,  0,  0,  0,  0,  0,  0,  0,  0,  0,  0,  0,  0,  0,\n",
       "         0,  0,  0,  0,  0,  0,  0,  0,  0,  0,  0,  0,  0,  0,  0,  0,  0,\n",
       "         0,  0,  0,  0,  0,  0,  0,  0,  0,  0,  0,  0,  0,  0,  0,  0,  0,\n",
       "         0,  0,  0,  0,  0,  0,  0,  0,  0,  0,  0,  0,  0,  0,  0,  0,  0,\n",
       "         0,  0,  0,  0,  0,  0,  0,  0,  0,  0,  0,  0,  0,  0,  0,  0,  0,\n",
       "         0,  0,  0,  0,  0,  0,  0,  0,  0,  0,  0,  0,  0,  0,  0,  0,  0,\n",
       "         0,  0,  0,  0,  0,  0,  0,  0,  0,  0,  0,  0,  0,  0,  0,  0,  0,\n",
       "         0,  0,  0,  0,  0,  0,  0,  0,  0,  0,  0,  0,  0,  0,  0,  0,  0,\n",
       "         0,  0,  0,  0,  0,  0,  0,  0,  0,  0,  0,  0,  0,  0,  0,  0,  0,\n",
       "         0]),\n",
       " array([ True,  True,  True,  True,  True,  True,  True,  True,  True,\n",
       "         True,  True,  True,  True,  True,  True,  True,  True,  True,\n",
       "         True,  True,  True,  True,  True,  True,  True,  True,  True,\n",
       "         True,  True,  True,  True,  True,  True,  True,  True, False,\n",
       "        False, False, False, False, False, False, False, False, False,\n",
       "        False, False, False, False, False, False, False, False, False,\n",
       "        False, False, False, False, False, False, False, False, False,\n",
       "        False, False, False, False, False, False, False, False, False,\n",
       "        False, False, False, False, False, False, False, False, False,\n",
       "        False, False, False, False, False, False, False, False, False,\n",
       "        False, False, False, False, False, False, False, False, False,\n",
       "        False, False, False, False, False, False, False, False, False,\n",
       "        False, False, False, False, False, False, False, False, False,\n",
       "        False, False, False, False, False, False, False, False, False,\n",
       "        False, False, False, False, False, False, False, False, False,\n",
       "        False, False, False, False, False, False, False, False, False,\n",
       "        False, False, False, False, False, False, False, False, False,\n",
       "        False, False, False, False, False, False, False, False, False,\n",
       "        False, False, False, False, False, False, False, False, False,\n",
       "        False, False, False, False, False, False, False, False, False,\n",
       "        False, False, False, False, False, False, False, False, False,\n",
       "        False, False, False, False, False, False, False, False, False,\n",
       "        False, False, False, False, False, False, False, False, False,\n",
       "        False, False, False, False, False, False, False, False, False,\n",
       "        False, False, False, False, False, False, False, False, False,\n",
       "        False, False, False, False, False, False, False, False, False,\n",
       "        False, False, False, False, False, False, False, False, False,\n",
       "        False, False, False, False, False, False, False, False, False,\n",
       "        False, False, False, False]))"
      ]
     },
     "execution_count": 6,
     "metadata": {},
     "output_type": "execute_result"
    }
   ],
   "source": [
    "x_train[1], mask_train[1]"
   ]
  },
  {
   "cell_type": "code",
   "execution_count": 7,
   "metadata": {},
   "outputs": [
    {
     "data": {
      "text/plain": [
       "1"
      ]
     },
     "execution_count": 7,
     "metadata": {},
     "output_type": "execute_result"
    }
   ],
   "source": [
    "y_train[1]"
   ]
  },
  {
   "cell_type": "code",
   "execution_count": 8,
   "metadata": {},
   "outputs": [
    {
     "data": {
      "text/plain": [
       "\"<start> the gorgeously elaborate continuation of the lord of the rings trilogy is so huge that a column of words can not adequately describe co writerdirector peter jackson's expanded vision of jrr tolkien's middle earth <pad> <pad> <pad> <pad> <pad> <pad> <pad> <pad> <pad> <pad> <pad> <pad> <pad> <pad> <pad> <pad> <pad> <pad> <pad> <pad> <pad> <pad> <pad> <pad> <pad> <pad> <pad> <pad> <pad> <pad> <pad> <pad> <pad> <pad> <pad> <pad> <pad> <pad> <pad> <pad> <pad> <pad> <pad> <pad> <pad> <pad> <pad> <pad> <pad> <pad> <pad> <pad> <pad> <pad> <pad> <pad> <pad> <pad> <pad> <pad> <pad> <pad> <pad> <pad> <pad> <pad> <pad> <pad> <pad> <pad> <pad> <pad> <pad> <pad> <pad> <pad> <pad> <pad> <pad> <pad> <pad> <pad> <pad> <pad> <pad> <pad> <pad> <pad> <pad> <pad> <pad> <pad> <pad> <pad> <pad> <pad> <pad> <pad> <pad> <pad> <pad> <pad> <pad> <pad> <pad> <pad> <pad> <pad> <pad> <pad> <pad> <pad> <pad> <pad> <pad> <pad> <pad> <pad> <pad> <pad> <pad> <pad> <pad> <pad> <pad> <pad> <pad> <pad> <pad> <pad> <pad> <pad> <pad> <pad> <pad> <pad> <pad> <pad> <pad> <pad> <pad> <pad> <pad> <pad> <pad> <pad> <pad> <pad> <pad> <pad> <pad> <pad> <pad> <pad> <pad> <pad> <pad> <pad> <pad> <pad> <pad> <pad> <pad> <pad> <pad> <pad> <pad> <pad> <pad> <pad> <pad> <pad> <pad> <pad> <pad> <pad> <pad> <pad> <pad> <pad> <pad> <pad> <pad> <pad> <pad> <pad> <pad> <pad> <pad> <pad> <pad> <pad> <pad> <pad> <pad> <pad> <pad> <pad> <pad> <pad> <pad> <pad> <pad> <pad> <pad> <pad> <pad> <pad> <pad> <pad> <pad> <pad> <pad> <pad> <pad> <pad> <pad> <pad> <pad> <pad> <pad>\""
      ]
     },
     "execution_count": 8,
     "metadata": {},
     "output_type": "execute_result"
    }
   ],
   "source": [
    "decode_review(x_train[1])"
   ]
  },
  {
   "cell_type": "code",
   "execution_count": 9,
   "metadata": {},
   "outputs": [
    {
     "data": {
      "text/plain": [
       "((1101, 256), (1101, 256), (1101,))"
      ]
     },
     "execution_count": 9,
     "metadata": {},
     "output_type": "execute_result"
    }
   ],
   "source": [
    "val_dataframe = pd.read_csv(\"../resources/datasets/StanfordSentimentTreebank/split/SST2Processed2-dev.csv\", index_col=0)\n",
    "ids_val, x_val, mask_val, y_val = get_dataset(val_dataframe, word_index)\n",
    "len(ids_val), x_val.shape, mask_val.shape, y_val.shape"
   ]
  },
  {
   "cell_type": "code",
   "execution_count": 10,
   "metadata": {},
   "outputs": [
    {
     "data": {
      "text/plain": [
       "16177"
      ]
     },
     "execution_count": 10,
     "metadata": {},
     "output_type": "execute_result"
    }
   ],
   "source": [
    "len(word_index)"
   ]
  },
  {
   "cell_type": "code",
   "execution_count": 11,
   "metadata": {},
   "outputs": [
    {
     "name": "stdout",
     "output_type": "stream",
     "text": [
      "Model: \"model\"\n",
      "__________________________________________________________________________________________________\n",
      " Layer (type)                   Output Shape         Param #     Connected to                     \n",
      "==================================================================================================\n",
      " input_1 (InputLayer)           [(None, 256)]        0           []                               \n",
      "                                                                                                  \n",
      " embedding (Embedding)          (None, 256, 768)     12423936    ['input_1[0][0]']                \n",
      "                                                                                                  \n",
      " conv1d (Conv1D)                (None, 256, 128)     295040      ['embedding[0][0]']              \n",
      "                                                                                                  \n",
      " input_2 (InputLayer)           [(None, 256)]        0           []                               \n",
      "                                                                                                  \n",
      " attention (Attention)          (None, 256, 128)     0           ['conv1d[0][0]',                 \n",
      "                                                                  'conv1d[0][0]',                 \n",
      "                                                                  'input_2[0][0]',                \n",
      "                                                                  'input_2[0][0]']                \n",
      "                                                                                                  \n",
      " conv1d_1 (Conv1D)              (None, 256, 64)      24640       ['attention[0][0]']              \n",
      "                                                                                                  \n",
      " conv1d_2 (Conv1D)              (None, 256, 32)      6176        ['conv1d_1[0][0]']               \n",
      "                                                                                                  \n",
      " max_pooling1d (MaxPooling1D)   (None, 128, 32)      0           ['conv1d_2[0][0]']               \n",
      "                                                                                                  \n",
      " dropout (Dropout)              (None, 128, 32)      0           ['max_pooling1d[0][0]']          \n",
      "                                                                                                  \n",
      " conv1d_3 (Conv1D)              (None, 128, 16)      1552        ['dropout[0][0]']                \n",
      "                                                                                                  \n",
      " conv1d_4 (Conv1D)              (None, 128, 8)       392         ['conv1d_3[0][0]']               \n",
      "                                                                                                  \n",
      " global_average_pooling1d (Glob  (None, 8)           0           ['conv1d_4[0][0]']               \n",
      " alAveragePooling1D)                                                                              \n",
      "                                                                                                  \n",
      " dropout_1 (Dropout)            (None, 8)            0           ['global_average_pooling1d[0][0]'\n",
      "                                                                 ]                                \n",
      "                                                                                                  \n",
      " dense (Dense)                  (None, 1)            9           ['dropout_1[0][0]']              \n",
      "                                                                                                  \n",
      "==================================================================================================\n",
      "Total params: 12,751,745\n",
      "Trainable params: 12,751,745\n",
      "Non-trainable params: 0\n",
      "__________________________________________________________________________________________________\n"
     ]
    }
   ],
   "source": [
    "embed_dim = 768\n",
    "model, emb_layer = get_model(len(word_index), embed_dim)"
   ]
  },
  {
   "cell_type": "code",
   "execution_count": 12,
   "metadata": {},
   "outputs": [],
   "source": [
    "embeddings_df = pd.read_csv(f\"../resources/embeddings/StanfordSentimentTreebank/SST2Processed2-train_dim{embed_dim}.csv\", index_col=0)\n",
    "emb_wgts = emb_layer.get_weights()\n",
    "emb_wgts[0][0] = embeddings_df.iloc[0].values\n",
    "emb_wgts[0][1 - embeddings_df.shape[0] : ] = embeddings_df.values[1:]\n",
    "emb_layer.set_weights(emb_wgts)"
   ]
  },
  {
   "cell_type": "code",
   "execution_count": 13,
   "metadata": {},
   "outputs": [
    {
     "name": "stdout",
     "output_type": "stream",
     "text": [
      "Epoch 1/50\n",
      "134/134 [==============================] - ETA: 0s - loss: 0.6864 - accuracy: 0.5506\n",
      "Epoch 1: val_loss improved from inf to 0.67064, saving model to ../resources/output/SST2Processed2\\checkpoint_cnn1d_embed768.h5\n",
      "134/134 [==============================] - 56s 412ms/step - loss: 0.6864 - accuracy: 0.5506 - val_loss: 0.6706 - val_accuracy: 0.6076\n",
      "Epoch 2/50\n",
      "134/134 [==============================] - ETA: 0s - loss: 0.6603 - accuracy: 0.6070\n",
      "Epoch 2: val_loss improved from 0.67064 to 0.66381, saving model to ../resources/output/SST2Processed2\\checkpoint_cnn1d_embed768.h5\n",
      "134/134 [==============================] - 55s 411ms/step - loss: 0.6603 - accuracy: 0.6070 - val_loss: 0.6638 - val_accuracy: 0.6022\n",
      "Epoch 3/50\n",
      "134/134 [==============================] - ETA: 0s - loss: 0.6042 - accuracy: 0.6781\n",
      "Epoch 3: val_loss improved from 0.66381 to 0.61127, saving model to ../resources/output/SST2Processed2\\checkpoint_cnn1d_embed768.h5\n",
      "134/134 [==============================] - 55s 411ms/step - loss: 0.6042 - accuracy: 0.6781 - val_loss: 0.6113 - val_accuracy: 0.6939\n",
      "Epoch 4/50\n",
      "134/134 [==============================] - ETA: 0s - loss: 0.5070 - accuracy: 0.7650\n",
      "Epoch 4: val_loss did not improve from 0.61127\n",
      "134/134 [==============================] - 55s 410ms/step - loss: 0.5070 - accuracy: 0.7650 - val_loss: 0.6195 - val_accuracy: 0.6930\n",
      "Epoch 5/50\n",
      "134/134 [==============================] - ETA: 0s - loss: 0.3933 - accuracy: 0.8313\n",
      "Epoch 5: val_loss improved from 0.61127 to 0.60720, saving model to ../resources/output/SST2Processed2\\checkpoint_cnn1d_embed768.h5\n",
      "134/134 [==============================] - 55s 413ms/step - loss: 0.3933 - accuracy: 0.8313 - val_loss: 0.6072 - val_accuracy: 0.7257\n",
      "Epoch 6/50\n",
      "134/134 [==============================] - ETA: 0s - loss: 0.2807 - accuracy: 0.8907\n",
      "Epoch 6: val_loss did not improve from 0.60720\n",
      "134/134 [==============================] - 55s 413ms/step - loss: 0.2807 - accuracy: 0.8907 - val_loss: 0.6731 - val_accuracy: 0.7284\n",
      "Epoch 7/50\n",
      "134/134 [==============================] - ETA: 0s - loss: 0.2267 - accuracy: 0.9118\n",
      "Epoch 7: val_loss did not improve from 0.60720\n",
      "134/134 [==============================] - 55s 410ms/step - loss: 0.2267 - accuracy: 0.9118 - val_loss: 0.8262 - val_accuracy: 0.7075\n",
      "Epoch 8/50\n",
      "134/134 [==============================] - ETA: 0s - loss: 0.1579 - accuracy: 0.9407\n",
      "Epoch 8: val_loss did not improve from 0.60720\n",
      "134/134 [==============================] - 55s 410ms/step - loss: 0.1579 - accuracy: 0.9407 - val_loss: 0.8825 - val_accuracy: 0.7375\n",
      "Epoch 9/50\n",
      "134/134 [==============================] - ETA: 0s - loss: 0.1281 - accuracy: 0.9528\n",
      "Epoch 9: val_loss did not improve from 0.60720\n",
      "134/134 [==============================] - 55s 410ms/step - loss: 0.1281 - accuracy: 0.9528 - val_loss: 1.0797 - val_accuracy: 0.7193\n",
      "Epoch 10/50\n",
      "134/134 [==============================] - ETA: 0s - loss: 0.1054 - accuracy: 0.9614\n",
      "Epoch 10: val_loss did not improve from 0.60720\n",
      "134/134 [==============================] - 55s 409ms/step - loss: 0.1054 - accuracy: 0.9614 - val_loss: 1.1111 - val_accuracy: 0.7103\n",
      "Epoch 11/50\n",
      "134/134 [==============================] - ETA: 0s - loss: 0.0865 - accuracy: 0.9696\n",
      "Epoch 11: val_loss did not improve from 0.60720\n",
      "134/134 [==============================] - 55s 411ms/step - loss: 0.0865 - accuracy: 0.9696 - val_loss: 1.2559 - val_accuracy: 0.7121\n",
      "Epoch 12/50\n",
      "134/134 [==============================] - ETA: 0s - loss: 0.0795 - accuracy: 0.9720\n",
      "Epoch 12: val_loss did not improve from 0.60720\n",
      "134/134 [==============================] - 55s 409ms/step - loss: 0.0795 - accuracy: 0.9720 - val_loss: 1.2560 - val_accuracy: 0.7066\n",
      "Epoch 13/50\n",
      "134/134 [==============================] - ETA: 0s - loss: 0.0584 - accuracy: 0.9790\n",
      "Epoch 13: val_loss did not improve from 0.60720\n",
      "134/134 [==============================] - 55s 410ms/step - loss: 0.0584 - accuracy: 0.9790 - val_loss: 1.4512 - val_accuracy: 0.7157\n",
      "Epoch 14/50\n",
      "134/134 [==============================] - ETA: 0s - loss: 0.0560 - accuracy: 0.9800\n",
      "Epoch 14: val_loss did not improve from 0.60720\n",
      "134/134 [==============================] - 55s 411ms/step - loss: 0.0560 - accuracy: 0.9800 - val_loss: 1.5012 - val_accuracy: 0.7094\n",
      "Epoch 15/50\n",
      "134/134 [==============================] - ETA: 0s - loss: 0.0467 - accuracy: 0.9830\n",
      "Epoch 15: val_loss did not improve from 0.60720\n",
      "134/134 [==============================] - 55s 410ms/step - loss: 0.0467 - accuracy: 0.9830 - val_loss: 1.7637 - val_accuracy: 0.7084\n",
      "Epoch 16/50\n",
      "134/134 [==============================] - ETA: 0s - loss: 0.0442 - accuracy: 0.9835\n",
      "Epoch 16: val_loss did not improve from 0.60720\n",
      "134/134 [==============================] - 55s 410ms/step - loss: 0.0442 - accuracy: 0.9835 - val_loss: 1.6331 - val_accuracy: 0.7121\n",
      "Epoch 17/50\n",
      "134/134 [==============================] - ETA: 0s - loss: 0.0427 - accuracy: 0.9856\n",
      "Epoch 17: val_loss did not improve from 0.60720\n",
      "134/134 [==============================] - 55s 410ms/step - loss: 0.0427 - accuracy: 0.9856 - val_loss: 1.7424 - val_accuracy: 0.7139\n",
      "Epoch 18/50\n",
      "134/134 [==============================] - ETA: 0s - loss: 0.0350 - accuracy: 0.9878\n",
      "Epoch 18: val_loss did not improve from 0.60720\n",
      "134/134 [==============================] - 55s 410ms/step - loss: 0.0350 - accuracy: 0.9878 - val_loss: 1.9963 - val_accuracy: 0.7057\n",
      "Epoch 19/50\n",
      "134/134 [==============================] - ETA: 0s - loss: 0.0521 - accuracy: 0.9855\n",
      "Epoch 19: val_loss did not improve from 0.60720\n",
      "134/134 [==============================] - 55s 410ms/step - loss: 0.0521 - accuracy: 0.9855 - val_loss: 1.8148 - val_accuracy: 0.6930\n",
      "Epoch 20/50\n",
      "134/134 [==============================] - ETA: 0s - loss: 0.0257 - accuracy: 0.9912\n",
      "Epoch 20: val_loss did not improve from 0.60720\n",
      "134/134 [==============================] - 55s 410ms/step - loss: 0.0257 - accuracy: 0.9912 - val_loss: 2.4194 - val_accuracy: 0.6939\n",
      "Epoch 21/50\n",
      "134/134 [==============================] - ETA: 0s - loss: 0.0291 - accuracy: 0.9899\n",
      "Epoch 21: val_loss did not improve from 0.60720\n",
      "134/134 [==============================] - 55s 411ms/step - loss: 0.0291 - accuracy: 0.9899 - val_loss: 2.2575 - val_accuracy: 0.6966\n",
      "Epoch 22/50\n",
      "134/134 [==============================] - ETA: 0s - loss: 0.0211 - accuracy: 0.9933\n",
      "Epoch 22: val_loss did not improve from 0.60720\n",
      "134/134 [==============================] - 55s 410ms/step - loss: 0.0211 - accuracy: 0.9933 - val_loss: 2.4856 - val_accuracy: 0.7084\n",
      "Epoch 23/50\n",
      "134/134 [==============================] - ETA: 0s - loss: 0.0153 - accuracy: 0.9952\n",
      "Epoch 23: val_loss did not improve from 0.60720\n",
      "134/134 [==============================] - 56s 414ms/step - loss: 0.0153 - accuracy: 0.9952 - val_loss: 2.5060 - val_accuracy: 0.6939\n",
      "Epoch 24/50\n",
      "134/134 [==============================] - ETA: 0s - loss: 0.0066 - accuracy: 0.9980\n",
      "Epoch 24: val_loss did not improve from 0.60720\n",
      "134/134 [==============================] - 55s 412ms/step - loss: 0.0066 - accuracy: 0.9980 - val_loss: 3.1832 - val_accuracy: 0.7021\n",
      "Epoch 25/50\n",
      "134/134 [==============================] - ETA: 0s - loss: 0.0082 - accuracy: 0.9971\n",
      "Epoch 25: val_loss did not improve from 0.60720\n",
      "134/134 [==============================] - 55s 412ms/step - loss: 0.0082 - accuracy: 0.9971 - val_loss: 3.4411 - val_accuracy: 0.6830\n",
      "Epoch 26/50\n",
      "134/134 [==============================] - ETA: 0s - loss: 0.0167 - accuracy: 0.9945\n",
      "Epoch 26: val_loss did not improve from 0.60720\n",
      "134/134 [==============================] - 55s 411ms/step - loss: 0.0167 - accuracy: 0.9945 - val_loss: 3.1754 - val_accuracy: 0.7048\n",
      "Epoch 27/50\n",
      "134/134 [==============================] - ETA: 0s - loss: 0.0175 - accuracy: 0.9947\n",
      "Epoch 27: val_loss did not improve from 0.60720\n",
      "134/134 [==============================] - 55s 412ms/step - loss: 0.0175 - accuracy: 0.9947 - val_loss: 3.0700 - val_accuracy: 0.7039\n",
      "Epoch 28/50\n",
      "134/134 [==============================] - ETA: 0s - loss: 0.0148 - accuracy: 0.9952\n",
      "Epoch 28: val_loss did not improve from 0.60720\n",
      "134/134 [==============================] - 55s 412ms/step - loss: 0.0148 - accuracy: 0.9952 - val_loss: 3.2571 - val_accuracy: 0.7157\n",
      "Epoch 29/50\n",
      "134/134 [==============================] - ETA: 0s - loss: 0.0038 - accuracy: 0.9991\n",
      "Epoch 29: val_loss did not improve from 0.60720\n",
      "134/134 [==============================] - 55s 411ms/step - loss: 0.0038 - accuracy: 0.9991 - val_loss: 3.8426 - val_accuracy: 0.7048\n",
      "Epoch 30/50\n",
      "134/134 [==============================] - ETA: 0s - loss: 0.0030 - accuracy: 0.9993\n",
      "Epoch 30: val_loss did not improve from 0.60720\n",
      "134/134 [==============================] - 55s 412ms/step - loss: 0.0030 - accuracy: 0.9993 - val_loss: 4.0990 - val_accuracy: 0.7112\n",
      "Epoch 31/50\n",
      "134/134 [==============================] - ETA: 0s - loss: 0.0115 - accuracy: 0.9968\n",
      "Epoch 31: val_loss did not improve from 0.60720\n",
      "134/134 [==============================] - 55s 411ms/step - loss: 0.0115 - accuracy: 0.9968 - val_loss: 3.8220 - val_accuracy: 0.6930\n",
      "Epoch 32/50\n",
      "134/134 [==============================] - ETA: 0s - loss: 0.0231 - accuracy: 0.9925\n",
      "Epoch 32: val_loss did not improve from 0.60720\n",
      "134/134 [==============================] - 55s 410ms/step - loss: 0.0231 - accuracy: 0.9925 - val_loss: 3.0528 - val_accuracy: 0.6912\n",
      "Epoch 33/50\n",
      "134/134 [==============================] - ETA: 0s - loss: 0.0259 - accuracy: 0.9927\n",
      "Epoch 33: val_loss did not improve from 0.60720\n",
      "134/134 [==============================] - 55s 410ms/step - loss: 0.0259 - accuracy: 0.9927 - val_loss: 2.6024 - val_accuracy: 0.7048\n",
      "Epoch 34/50\n",
      "134/134 [==============================] - ETA: 0s - loss: 0.0166 - accuracy: 0.9949\n",
      "Epoch 34: val_loss did not improve from 0.60720\n",
      "134/134 [==============================] - 55s 410ms/step - loss: 0.0166 - accuracy: 0.9949 - val_loss: 2.9726 - val_accuracy: 0.7212\n",
      "Epoch 35/50\n",
      "134/134 [==============================] - ETA: 0s - loss: 0.0082 - accuracy: 0.9978\n",
      "Epoch 35: val_loss did not improve from 0.60720\n",
      "134/134 [==============================] - 55s 411ms/step - loss: 0.0082 - accuracy: 0.9978 - val_loss: 3.4005 - val_accuracy: 0.7030\n",
      "Epoch 36/50\n",
      "134/134 [==============================] - ETA: 0s - loss: 0.0062 - accuracy: 0.9975\n",
      "Epoch 36: val_loss did not improve from 0.60720\n",
      "134/134 [==============================] - 55s 411ms/step - loss: 0.0062 - accuracy: 0.9975 - val_loss: 3.7040 - val_accuracy: 0.6912\n",
      "Epoch 37/50\n",
      "134/134 [==============================] - ETA: 0s - loss: 0.0027 - accuracy: 0.9988\n",
      "Epoch 37: val_loss did not improve from 0.60720\n",
      "134/134 [==============================] - 55s 411ms/step - loss: 0.0027 - accuracy: 0.9988 - val_loss: 4.0459 - val_accuracy: 0.7057\n",
      "Epoch 38/50\n",
      "134/134 [==============================] - ETA: 0s - loss: 0.0059 - accuracy: 0.9984\n",
      "Epoch 38: val_loss did not improve from 0.60720\n",
      "134/134 [==============================] - 55s 411ms/step - loss: 0.0059 - accuracy: 0.9984 - val_loss: 4.0263 - val_accuracy: 0.7003\n",
      "Epoch 39/50\n",
      "134/134 [==============================] - ETA: 0s - loss: 0.0060 - accuracy: 0.9979\n",
      "Epoch 39: val_loss did not improve from 0.60720\n",
      "134/134 [==============================] - 55s 413ms/step - loss: 0.0060 - accuracy: 0.9979 - val_loss: 4.5957 - val_accuracy: 0.6912\n",
      "Epoch 40/50\n",
      "134/134 [==============================] - ETA: 0s - loss: 0.0118 - accuracy: 0.9971\n",
      "Epoch 40: val_loss did not improve from 0.60720\n",
      "134/134 [==============================] - 55s 412ms/step - loss: 0.0118 - accuracy: 0.9971 - val_loss: 3.6723 - val_accuracy: 0.7012\n",
      "Epoch 41/50\n",
      "134/134 [==============================] - ETA: 0s - loss: 0.0123 - accuracy: 0.9973\n",
      "Epoch 41: val_loss did not improve from 0.60720\n",
      "134/134 [==============================] - 55s 412ms/step - loss: 0.0123 - accuracy: 0.9973 - val_loss: 3.4899 - val_accuracy: 0.7021\n",
      "Epoch 42/50\n",
      "134/134 [==============================] - ETA: 0s - loss: 0.0106 - accuracy: 0.9963\n",
      "Epoch 42: val_loss did not improve from 0.60720\n",
      "134/134 [==============================] - 55s 412ms/step - loss: 0.0106 - accuracy: 0.9963 - val_loss: 3.8069 - val_accuracy: 0.6939\n",
      "Epoch 43/50\n",
      "134/134 [==============================] - ETA: 0s - loss: 0.0178 - accuracy: 0.9956\n",
      "Epoch 43: val_loss did not improve from 0.60720\n",
      "134/134 [==============================] - 55s 411ms/step - loss: 0.0178 - accuracy: 0.9956 - val_loss: 3.0230 - val_accuracy: 0.6885\n",
      "Epoch 44/50\n",
      "134/134 [==============================] - ETA: 0s - loss: 0.0136 - accuracy: 0.9965\n",
      "Epoch 44: val_loss did not improve from 0.60720\n",
      "134/134 [==============================] - 55s 411ms/step - loss: 0.0136 - accuracy: 0.9965 - val_loss: 2.9414 - val_accuracy: 0.6857\n",
      "Epoch 45/50\n",
      "134/134 [==============================] - ETA: 0s - loss: 0.0045 - accuracy: 0.9989\n",
      "Epoch 45: val_loss did not improve from 0.60720\n",
      "134/134 [==============================] - 55s 410ms/step - loss: 0.0045 - accuracy: 0.9989 - val_loss: 3.7301 - val_accuracy: 0.6894\n",
      "Epoch 46/50\n",
      "134/134 [==============================] - ETA: 0s - loss: 0.0014 - accuracy: 0.9996\n",
      "Epoch 46: val_loss did not improve from 0.60720\n",
      "134/134 [==============================] - 55s 411ms/step - loss: 0.0014 - accuracy: 0.9996 - val_loss: 4.3024 - val_accuracy: 0.6957\n",
      "Epoch 47/50\n",
      "134/134 [==============================] - ETA: 0s - loss: 4.8424e-04 - accuracy: 0.9999\n",
      "Epoch 47: val_loss did not improve from 0.60720\n",
      "134/134 [==============================] - 55s 412ms/step - loss: 4.8424e-04 - accuracy: 0.9999 - val_loss: 4.6472 - val_accuracy: 0.6939\n",
      "Epoch 48/50\n",
      "134/134 [==============================] - ETA: 0s - loss: 2.7825e-04 - accuracy: 1.0000\n",
      "Epoch 48: val_loss did not improve from 0.60720\n",
      "134/134 [==============================] - 56s 417ms/step - loss: 2.7825e-04 - accuracy: 1.0000 - val_loss: 4.8752 - val_accuracy: 0.6903\n",
      "Epoch 49/50\n",
      "134/134 [==============================] - ETA: 0s - loss: 3.1182e-04 - accuracy: 0.9999\n",
      "Epoch 49: val_loss did not improve from 0.60720\n",
      "134/134 [==============================] - 56s 420ms/step - loss: 3.1182e-04 - accuracy: 0.9999 - val_loss: 5.1072 - val_accuracy: 0.6975\n",
      "Epoch 50/50\n",
      "134/134 [==============================] - ETA: 0s - loss: 2.5338e-04 - accuracy: 1.0000\n",
      "Epoch 50: val_loss did not improve from 0.60720\n",
      "134/134 [==============================] - 56s 420ms/step - loss: 2.5338e-04 - accuracy: 1.0000 - val_loss: 5.3231 - val_accuracy: 0.6921\n"
     ]
    }
   ],
   "source": [
    "checkpoint_dir = f\"../resources/output/SST2Processed2/checkpoint_cnn1d_embed{embed_dim}.h5\"\n",
    "model.compile(optimizer='adam',\n",
    "              loss='binary_crossentropy',\n",
    "              metrics=['accuracy'])\n",
    "history = model.fit([x_train, mask_train],\n",
    "                    y_train,\n",
    "                    epochs=50,\n",
    "                    batch_size=64,\n",
    "                    validation_data=([x_val, mask_val], y_val),\n",
    "                    callbacks=[\n",
    "                        keras.callbacks.ModelCheckpoint(\n",
    "                            checkpoint_dir,\n",
    "                            save_best_only=True,\n",
    "                            save_weights_only=True,\n",
    "                            verbose=1\n",
    "                        )\n",
    "                    ],\n",
    "                    verbose=1)"
   ]
  },
  {
   "cell_type": "code",
   "execution_count": 15,
   "metadata": {},
   "outputs": [],
   "source": [
    "model.load_weights(checkpoint_dir)"
   ]
  },
  {
   "cell_type": "code",
   "execution_count": 16,
   "metadata": {},
   "outputs": [
    {
     "data": {
      "text/plain": [
       "((2210, 256), (2210, 256), (2210,))"
      ]
     },
     "execution_count": 16,
     "metadata": {},
     "output_type": "execute_result"
    }
   ],
   "source": [
    "test_dataframe = pd.read_csv(\"../resources/datasets/StanfordSentimentTreebank/split/SST2Processed2-test.csv\", index_col=0)\n",
    "ids_test, x_test, mask_test, y_test = get_dataset(test_dataframe, word_index)\n",
    "len(ids_test), x_test.shape, mask_test.shape, y_test.shape"
   ]
  },
  {
   "cell_type": "code",
   "execution_count": 17,
   "metadata": {},
   "outputs": [
    {
     "name": "stdout",
     "output_type": "stream",
     "text": [
      "70/70 [==============================] - 3s 41ms/step\n"
     ]
    }
   ],
   "source": [
    "preds = model.predict([x_test, mask_test])\n",
    "preds.shape"
   ]
  },
  {
   "cell_type": "code",
   "execution_count": 23,
   "metadata": {},
   "outputs": [
    {
     "data": {
      "text/html": [
       "<div>\n",
       "<style scoped>\n",
       "    .dataframe tbody tr th:only-of-type {\n",
       "        vertical-align: middle;\n",
       "    }\n",
       "\n",
       "    .dataframe tbody tr th {\n",
       "        vertical-align: top;\n",
       "    }\n",
       "\n",
       "    .dataframe thead th {\n",
       "        text-align: right;\n",
       "    }\n",
       "</style>\n",
       "<table border=\"1\" class=\"dataframe\">\n",
       "  <thead>\n",
       "    <tr style=\"text-align: right;\">\n",
       "      <th></th>\n",
       "      <th>predictions</th>\n",
       "    </tr>\n",
       "  </thead>\n",
       "  <tbody>\n",
       "    <tr>\n",
       "      <th>3</th>\n",
       "      <td>0.187623</td>\n",
       "    </tr>\n",
       "    <tr>\n",
       "      <th>4</th>\n",
       "      <td>0.894921</td>\n",
       "    </tr>\n",
       "    <tr>\n",
       "      <th>5</th>\n",
       "      <td>0.549381</td>\n",
       "    </tr>\n",
       "    <tr>\n",
       "      <th>6</th>\n",
       "      <td>0.957498</td>\n",
       "    </tr>\n",
       "    <tr>\n",
       "      <th>7</th>\n",
       "      <td>0.834427</td>\n",
       "    </tr>\n",
       "    <tr>\n",
       "      <th>...</th>\n",
       "      <td>...</td>\n",
       "    </tr>\n",
       "    <tr>\n",
       "      <th>11621</th>\n",
       "      <td>0.656382</td>\n",
       "    </tr>\n",
       "    <tr>\n",
       "      <th>11623</th>\n",
       "      <td>0.975287</td>\n",
       "    </tr>\n",
       "    <tr>\n",
       "      <th>11626</th>\n",
       "      <td>0.872272</td>\n",
       "    </tr>\n",
       "    <tr>\n",
       "      <th>11628</th>\n",
       "      <td>0.167095</td>\n",
       "    </tr>\n",
       "    <tr>\n",
       "      <th>11798</th>\n",
       "      <td>0.191392</td>\n",
       "    </tr>\n",
       "  </tbody>\n",
       "</table>\n",
       "<p>2210 rows × 1 columns</p>\n",
       "</div>"
      ],
      "text/plain": [
       "       predictions\n",
       "3         0.187623\n",
       "4         0.894921\n",
       "5         0.549381\n",
       "6         0.957498\n",
       "7         0.834427\n",
       "...            ...\n",
       "11621     0.656382\n",
       "11623     0.975287\n",
       "11626     0.872272\n",
       "11628     0.167095\n",
       "11798     0.191392\n",
       "\n",
       "[2210 rows x 1 columns]"
      ]
     },
     "execution_count": 23,
     "metadata": {},
     "output_type": "execute_result"
    }
   ],
   "source": [
    "preds_df = pd.DataFrame(preds, index=ids_test, columns=[\"predictions\"])\n",
    "preds_df"
   ]
  },
  {
   "cell_type": "code",
   "execution_count": 25,
   "metadata": {},
   "outputs": [
    {
     "data": {
      "text/html": [
       "<div>\n",
       "<style scoped>\n",
       "    .dataframe tbody tr th:only-of-type {\n",
       "        vertical-align: middle;\n",
       "    }\n",
       "\n",
       "    .dataframe tbody tr th {\n",
       "        vertical-align: top;\n",
       "    }\n",
       "\n",
       "    .dataframe thead th {\n",
       "        text-align: right;\n",
       "    }\n",
       "</style>\n",
       "<table border=\"1\" class=\"dataframe\">\n",
       "  <thead>\n",
       "    <tr style=\"text-align: right;\">\n",
       "      <th></th>\n",
       "      <th>text</th>\n",
       "      <th>phrase_id</th>\n",
       "      <th>class</th>\n",
       "      <th>predictions</th>\n",
       "    </tr>\n",
       "  </thead>\n",
       "  <tbody>\n",
       "    <tr>\n",
       "      <th>3</th>\n",
       "      <td>&lt;start&gt; effective but too tepid biopic</td>\n",
       "      <td>13995</td>\n",
       "      <td>0.513890</td>\n",
       "      <td>0.187623</td>\n",
       "    </tr>\n",
       "    <tr>\n",
       "      <th>4</th>\n",
       "      <td>&lt;start&gt; if you sometimes like to go to the mov...</td>\n",
       "      <td>14123</td>\n",
       "      <td>0.736110</td>\n",
       "      <td>0.894921</td>\n",
       "    </tr>\n",
       "    <tr>\n",
       "      <th>5</th>\n",
       "      <td>&lt;start&gt; emerges as something rare an issue mov...</td>\n",
       "      <td>13999</td>\n",
       "      <td>0.861110</td>\n",
       "      <td>0.549381</td>\n",
       "    </tr>\n",
       "    <tr>\n",
       "      <th>6</th>\n",
       "      <td>&lt;start&gt; the film provides some great insight i...</td>\n",
       "      <td>14498</td>\n",
       "      <td>0.597220</td>\n",
       "      <td>0.957498</td>\n",
       "    </tr>\n",
       "    <tr>\n",
       "      <th>7</th>\n",
       "      <td>&lt;start&gt; offers that rare combination of entert...</td>\n",
       "      <td>14351</td>\n",
       "      <td>0.833330</td>\n",
       "      <td>0.834427</td>\n",
       "    </tr>\n",
       "    <tr>\n",
       "      <th>...</th>\n",
       "      <td>...</td>\n",
       "      <td>...</td>\n",
       "      <td>...</td>\n",
       "      <td>...</td>\n",
       "    </tr>\n",
       "    <tr>\n",
       "      <th>11621</th>\n",
       "      <td>&lt;start&gt; an imaginative comedythriller</td>\n",
       "      <td>13851</td>\n",
       "      <td>0.777780</td>\n",
       "      <td>0.656382</td>\n",
       "    </tr>\n",
       "    <tr>\n",
       "      <th>11623</th>\n",
       "      <td>&lt;start&gt; a rare beautiful film</td>\n",
       "      <td>18182</td>\n",
       "      <td>0.916670</td>\n",
       "      <td>0.975287</td>\n",
       "    </tr>\n",
       "    <tr>\n",
       "      <th>11626</th>\n",
       "      <td>&lt;start&gt; an hilarious romantic comedy</td>\n",
       "      <td>23211</td>\n",
       "      <td>0.888890</td>\n",
       "      <td>0.872272</td>\n",
       "    </tr>\n",
       "    <tr>\n",
       "      <th>11628</th>\n",
       "      <td>&lt;start&gt; never sinks into exploitation</td>\n",
       "      <td>26177</td>\n",
       "      <td>0.625000</td>\n",
       "      <td>0.167095</td>\n",
       "    </tr>\n",
       "    <tr>\n",
       "      <th>11798</th>\n",
       "      <td>&lt;start&gt; u nrelentingly stupid</td>\n",
       "      <td>141831</td>\n",
       "      <td>0.069444</td>\n",
       "      <td>0.191392</td>\n",
       "    </tr>\n",
       "  </tbody>\n",
       "</table>\n",
       "<p>2210 rows × 4 columns</p>\n",
       "</div>"
      ],
      "text/plain": [
       "                                                    text  phrase_id     class  \\\n",
       "3                 <start> effective but too tepid biopic      13995  0.513890   \n",
       "4      <start> if you sometimes like to go to the mov...      14123  0.736110   \n",
       "5      <start> emerges as something rare an issue mov...      13999  0.861110   \n",
       "6      <start> the film provides some great insight i...      14498  0.597220   \n",
       "7      <start> offers that rare combination of entert...      14351  0.833330   \n",
       "...                                                  ...        ...       ...   \n",
       "11621              <start> an imaginative comedythriller      13851  0.777780   \n",
       "11623                      <start> a rare beautiful film      18182  0.916670   \n",
       "11626               <start> an hilarious romantic comedy      23211  0.888890   \n",
       "11628              <start> never sinks into exploitation      26177  0.625000   \n",
       "11798                      <start> u nrelentingly stupid     141831  0.069444   \n",
       "\n",
       "       predictions  \n",
       "3         0.187623  \n",
       "4         0.894921  \n",
       "5         0.549381  \n",
       "6         0.957498  \n",
       "7         0.834427  \n",
       "...            ...  \n",
       "11621     0.656382  \n",
       "11623     0.975287  \n",
       "11626     0.872272  \n",
       "11628     0.167095  \n",
       "11798     0.191392  \n",
       "\n",
       "[2210 rows x 4 columns]"
      ]
     },
     "execution_count": 25,
     "metadata": {},
     "output_type": "execute_result"
    }
   ],
   "source": [
    "dataset_with_preds_df = pd.concat([test_dataframe, preds_df], axis=1)\n",
    "dataset_with_preds_df"
   ]
  },
  {
   "cell_type": "code",
   "execution_count": 26,
   "metadata": {},
   "outputs": [
    {
     "data": {
      "text/plain": [
       "0.7357466063348417"
      ]
     },
     "execution_count": 26,
     "metadata": {},
     "output_type": "execute_result"
    }
   ],
   "source": [
    "hits, total = 0, 0\n",
    "for _, row in dataset_with_preds_df.iterrows() :\n",
    "    total += 1\n",
    "    pred  = row[\"predictions\"] >= .5\n",
    "    label = row[\"class\"]       >= .5\n",
    "    if pred == label : \n",
    "        hits += 1\n",
    "accuracy = hits / total\n",
    "accuracy"
   ]
  },
  {
   "cell_type": "code",
   "execution_count": 27,
   "metadata": {},
   "outputs": [
    {
     "data": {
      "text/plain": [
       "0.221178134738504"
      ]
     },
     "execution_count": 27,
     "metadata": {},
     "output_type": "execute_result"
    }
   ],
   "source": [
    "hits, total = 0, 0\n",
    "for _, row in dataset_with_preds_df.iterrows() :\n",
    "    total += 1\n",
    "    pred  = row[\"predictions\"]\n",
    "    label = row[\"class\"]\n",
    "    diff = label - pred\n",
    "    hits += abs(diff)\n",
    "avg_dev = hits / total\n",
    "avg_dev"
   ]
  },
  {
   "cell_type": "code",
   "execution_count": 28,
   "metadata": {},
   "outputs": [
    {
     "name": "stdout",
     "output_type": "stream",
     "text": [
      "843 783 316 268\n"
     ]
    }
   ],
   "source": [
    "true_positives, true_negatives, false_positives, false_negatives = 0, 0, 0, 0\n",
    "for _, row in dataset_with_preds_df.iterrows() :\n",
    "    pred  = row[\"predictions\"] >= .5\n",
    "    label = row[\"class\"]       >= .5\n",
    "    if pred == label :\n",
    "        if pred :\n",
    "            true_positives  += 1\n",
    "        else :\n",
    "            true_negatives  += 1\n",
    "    else :\n",
    "        if pred :\n",
    "            false_positives += 1\n",
    "        else :\n",
    "            false_negatives += 1\n",
    "print(true_positives, true_negatives, false_positives, false_negatives)"
   ]
  },
  {
   "cell_type": "code",
   "execution_count": 29,
   "metadata": {},
   "outputs": [
    {
     "data": {
      "text/plain": [
       "0.727351164797239"
      ]
     },
     "execution_count": 29,
     "metadata": {},
     "output_type": "execute_result"
    }
   ],
   "source": [
    "precision = true_positives / (true_positives + false_positives)\n",
    "precision"
   ]
  },
  {
   "cell_type": "code",
   "execution_count": 30,
   "metadata": {},
   "outputs": [
    {
     "data": {
      "text/plain": [
       "0.7587758775877588"
      ]
     },
     "execution_count": 30,
     "metadata": {},
     "output_type": "execute_result"
    }
   ],
   "source": [
    "recall = true_positives / (true_positives + false_negatives)\n",
    "recall"
   ]
  },
  {
   "cell_type": "code",
   "execution_count": 31,
   "metadata": {},
   "outputs": [
    {
     "data": {
      "text/plain": [
       "0.7427312775330396"
      ]
     },
     "execution_count": 31,
     "metadata": {},
     "output_type": "execute_result"
    }
   ],
   "source": [
    "f1 = (2 * precision * recall) / (precision + recall)\n",
    "f1"
   ]
  }
 ],
 "metadata": {
  "kernelspec": {
   "display_name": "Python 3.10.4 64-bit",
   "language": "python",
   "name": "python3"
  },
  "language_info": {
   "codemirror_mode": {
    "name": "ipython",
    "version": 3
   },
   "file_extension": ".py",
   "mimetype": "text/x-python",
   "name": "python",
   "nbconvert_exporter": "python",
   "pygments_lexer": "ipython3",
   "version": "3.10.4"
  },
  "orig_nbformat": 4,
  "vscode": {
   "interpreter": {
    "hash": "fb071969cc081d156db4658a52cc12ff3302089485c0c8cb524fcf02c6362775"
   }
  }
 },
 "nbformat": 4,
 "nbformat_minor": 2
}
