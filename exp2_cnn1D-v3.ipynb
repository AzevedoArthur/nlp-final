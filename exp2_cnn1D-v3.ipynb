{
 "cells": [
  {
   "cell_type": "code",
   "execution_count": 1,
   "metadata": {},
   "outputs": [],
   "source": [
    "import tensorflow as tf\n",
    "from tensorflow import keras\n",
    "\n",
    "import numpy as np"
   ]
  },
  {
   "cell_type": "code",
   "execution_count": 2,
   "metadata": {},
   "outputs": [],
   "source": [
    "def get_attention(inputs, mask, n_heads, causal) :\n",
    "    if n_heads == 1 :\n",
    "        attention = keras.layers.Attention(causal=causal)(\n",
    "            [\n",
    "            inputs, \n",
    "            inputs\n",
    "            ],\n",
    "            mask=[ \n",
    "            mask, \n",
    "            mask\n",
    "            ]\n",
    "        )\n",
    "    elif n_heads > 1 :\n",
    "        attentions = []\n",
    "        for _ in range(n_heads) :\n",
    "            attentions.append(\n",
    "                keras.layers.Attention(causal=causal)(\n",
    "                    [\n",
    "                        inputs, \n",
    "                        inputs\n",
    "                    ],\n",
    "                    mask=[ \n",
    "                        mask, \n",
    "                        mask\n",
    "                    ]\n",
    "                )\n",
    "            )\n",
    "        attention = keras.layers.Add()(attentions)\n",
    "        attention = keras.layers.BatchNormalization()(attention)\n",
    "    else :\n",
    "        return inputs\n",
    "    return attention\n",
    "\n",
    "def pooling_on_mask(inputs_mask:tf.Tensor) :\n",
    "    inputs_mask = tf.cast(inputs_mask, tf.int8)\n",
    "    shape = inputs_mask.get_shape().as_list()\n",
    "    inputs_mask = keras.layers.Reshape((shape[1], 1))(inputs_mask)\n",
    "    inputs_mask = keras.layers.MaxPooling1D(pool_size=2, padding='same')(inputs_mask)\n",
    "    shape = inputs_mask.get_shape().as_list()\n",
    "    inputs_mask = keras.layers.Reshape((shape[1],))(inputs_mask)\n",
    "    inputs_mask = tf.cast(inputs_mask, tf.bool)\n",
    "    return inputs_mask\n",
    "\n",
    "def get_model(vocab_size, \n",
    "              emb_dim, \n",
    "              max_len=256, \n",
    "              n_attention_heads=6, \n",
    "              n_end_attention_heads=0, \n",
    "              emb_trainable=True, \n",
    "              causal=False, \n",
    "              with_pooling=False,\n",
    "              residual_connections=False) :\n",
    "    inputs      = tf.keras.Input(shape=(max_len,), dtype='int32')\n",
    "    inputs_mask = tf.keras.Input(shape=(max_len,), dtype='bool')\n",
    "    mask = inputs_mask\n",
    "\n",
    "    embedding_layer = keras.layers.Embedding(vocab_size, emb_dim, input_length=max_len, mask_zero=True, trainable=emb_trainable)\n",
    "    \n",
    "    embedding  = embedding_layer(inputs)\n",
    "    last       = embedding\n",
    "    \n",
    "    enc_conv1  = keras.layers.Conv1D(filters=128, kernel_size=3, activation='relu', padding='same')(last)\n",
    "    last       = enc_conv1\n",
    "    \n",
    "    drop = keras.layers.Dropout(0.05)(last)\n",
    "    last  = drop\n",
    "\n",
    "    last = get_attention(last, mask, n_attention_heads, causal)\n",
    "    \n",
    "    conv1 = keras.layers.Conv1D(filters=64, kernel_size=3, activation='relu', padding='same')(last)\n",
    "    last  = conv1\n",
    "    \n",
    "    drop = keras.layers.Dropout(0.05)(last)\n",
    "    last  = drop\n",
    "    \n",
    "    conv2 = keras.layers.Conv1D(filters=32, kernel_size=3, activation='relu', padding='same')(last)\n",
    "    last  = conv2\n",
    "    \n",
    "    if n_end_attention_heads <= 0 or with_pooling:\n",
    "        pool1 = keras.layers.MaxPooling1D(pool_size=2, padding='same')(last)\n",
    "        last  = pool1\n",
    "        if n_end_attention_heads >= 1 :\n",
    "            mask = pooling_on_mask(mask)\n",
    "    \n",
    "    drop = keras.layers.Dropout(0.05)(last)\n",
    "    last  = drop\n",
    "    \n",
    "    conv3 = keras.layers.Conv1D(filters=16, kernel_size=3, activation='relu', padding='same')(last)\n",
    "    last  = conv3\n",
    "    \n",
    "    drop = keras.layers.Dropout(0.05)(last)\n",
    "    last  = drop\n",
    "    \n",
    "    conv4 = keras.layers.Conv1D(filters=8,  kernel_size=3, activation='relu', padding='same')(last)\n",
    "    last  = conv4\n",
    "    \n",
    "    drop = keras.layers.Dropout(0.05)(last)\n",
    "    last  = drop\n",
    "\n",
    "    pre_attention = last\n",
    "    last = get_attention(last, mask, n_end_attention_heads, causal)\n",
    "    \n",
    "    pool2 = keras.layers.GlobalAveragePooling1D()(last)\n",
    "    last  = pool2\n",
    "    \n",
    "    drop = keras.layers.Dropout(0.05)(last)\n",
    "    last  = drop\n",
    "\n",
    "    if residual_connections :\n",
    "        pre_attention = keras.layers.GlobalAveragePooling1D()(pre_attention)\n",
    "        last = keras.layers.Concatenate()([last, pre_attention])\n",
    "\n",
    "    outputs = keras.layers.Dense(1, activation='sigmoid')(last)\n",
    "\n",
    "    model = keras.models.Model(inputs=[inputs, inputs_mask], outputs=outputs)\n",
    "\n",
    "    model.summary()\n",
    "\n",
    "    return model, embedding_layer"
   ]
  },
  {
   "cell_type": "code",
   "execution_count": 3,
   "metadata": {},
   "outputs": [],
   "source": [
    "import pandas as pd\n",
    "import json\n",
    "\n",
    "def get_word_index(sentences) :\n",
    "    all_tokens = []\n",
    "    for txt in sentences :\n",
    "        all_tokens += txt.split()\n",
    "\n",
    "    tokens = pd.Series(all_tokens, range(len(all_tokens)), name=\"tokens\")\n",
    "    types = tokens.unique()\n",
    "    word_index = {word : i for i, word in enumerate([\"<pad>\", \"<unk>\"] + list(types))}\n",
    "    \n",
    "    def decode_review(text):\n",
    "        reverse_word_index = dict([(value, key) for (key, value) in word_index.items()])\n",
    "        return ' '.join([reverse_word_index.get(i, '?') for i in text])\n",
    "    \n",
    "    return word_index, decode_review\n",
    "\n",
    "def get_dataset(dataframe, word_index, max_len=256) :\n",
    "    index_series, x_series, y_series = dataframe.index, dataframe[\"text\"], dataframe[\"class\"]\n",
    "\n",
    "    index = list(index_series)\n",
    "\n",
    "    x_list = [txt.split() for txt in list(x_series)]\n",
    "    \n",
    "    x_seq = []\n",
    "    for tknlst in x_list :\n",
    "        seq = []\n",
    "        for tkn in tknlst :\n",
    "            try :\n",
    "                seq.append(word_index[tkn])\n",
    "            except KeyError :\n",
    "                seq.append(word_index[\"<unk>\"])\n",
    "        seq = (seq + [0] * (max_len - len(seq))) if (len(seq) < max_len) else (seq[ : max_len])\n",
    "        x_seq.append(seq)\n",
    "    \n",
    "    y_int = [1 if lb >= .5 else 0 for lb in list(y_series)]\n",
    "\n",
    "    x = np.array(x_seq, dtype=int) \n",
    "    mask = x != 0\n",
    "\n",
    "    y = np.array(y_int, dtype=int) \n",
    "\n",
    "    return index, x, mask, y"
   ]
  },
  {
   "cell_type": "code",
   "execution_count": 4,
   "metadata": {},
   "outputs": [
    {
     "data": {
      "text/plain": [
       "(8544, (8544, 256), (8544, 256), (8544,))"
      ]
     },
     "execution_count": 4,
     "metadata": {},
     "output_type": "execute_result"
    }
   ],
   "source": [
    "train_dataframe = pd.read_csv(\"../resources/datasets/StanfordSentimentTreebank/split/SST2Processed2-train.csv\", index_col=0)\n",
    "word_index, decode_review = get_word_index(train_dataframe[\"text\"])\n",
    "ids_train, x_train, mask_train, y_train = get_dataset(train_dataframe, word_index)\n",
    "len(ids_train), x_train.shape, mask_train.shape, y_train.shape"
   ]
  },
  {
   "cell_type": "code",
   "execution_count": 5,
   "metadata": {},
   "outputs": [
    {
     "data": {
      "text/plain": [
       "(array([ 2,  3, 32, 33, 34, 35,  3, 36, 35,  3, 37, 38,  5, 39, 40, 14, 18,\n",
       "        41, 35, 42, 43, 44, 45, 46, 47, 48, 49, 50, 51, 52, 35, 53, 54, 55,\n",
       "        56,  0,  0,  0,  0,  0,  0,  0,  0,  0,  0,  0,  0,  0,  0,  0,  0,\n",
       "         0,  0,  0,  0,  0,  0,  0,  0,  0,  0,  0,  0,  0,  0,  0,  0,  0,\n",
       "         0,  0,  0,  0,  0,  0,  0,  0,  0,  0,  0,  0,  0,  0,  0,  0,  0,\n",
       "         0,  0,  0,  0,  0,  0,  0,  0,  0,  0,  0,  0,  0,  0,  0,  0,  0,\n",
       "         0,  0,  0,  0,  0,  0,  0,  0,  0,  0,  0,  0,  0,  0,  0,  0,  0,\n",
       "         0,  0,  0,  0,  0,  0,  0,  0,  0,  0,  0,  0,  0,  0,  0,  0,  0,\n",
       "         0,  0,  0,  0,  0,  0,  0,  0,  0,  0,  0,  0,  0,  0,  0,  0,  0,\n",
       "         0,  0,  0,  0,  0,  0,  0,  0,  0,  0,  0,  0,  0,  0,  0,  0,  0,\n",
       "         0,  0,  0,  0,  0,  0,  0,  0,  0,  0,  0,  0,  0,  0,  0,  0,  0,\n",
       "         0,  0,  0,  0,  0,  0,  0,  0,  0,  0,  0,  0,  0,  0,  0,  0,  0,\n",
       "         0,  0,  0,  0,  0,  0,  0,  0,  0,  0,  0,  0,  0,  0,  0,  0,  0,\n",
       "         0,  0,  0,  0,  0,  0,  0,  0,  0,  0,  0,  0,  0,  0,  0,  0,  0,\n",
       "         0,  0,  0,  0,  0,  0,  0,  0,  0,  0,  0,  0,  0,  0,  0,  0,  0,\n",
       "         0]),\n",
       " array([ True,  True,  True,  True,  True,  True,  True,  True,  True,\n",
       "         True,  True,  True,  True,  True,  True,  True,  True,  True,\n",
       "         True,  True,  True,  True,  True,  True,  True,  True,  True,\n",
       "         True,  True,  True,  True,  True,  True,  True,  True, False,\n",
       "        False, False, False, False, False, False, False, False, False,\n",
       "        False, False, False, False, False, False, False, False, False,\n",
       "        False, False, False, False, False, False, False, False, False,\n",
       "        False, False, False, False, False, False, False, False, False,\n",
       "        False, False, False, False, False, False, False, False, False,\n",
       "        False, False, False, False, False, False, False, False, False,\n",
       "        False, False, False, False, False, False, False, False, False,\n",
       "        False, False, False, False, False, False, False, False, False,\n",
       "        False, False, False, False, False, False, False, False, False,\n",
       "        False, False, False, False, False, False, False, False, False,\n",
       "        False, False, False, False, False, False, False, False, False,\n",
       "        False, False, False, False, False, False, False, False, False,\n",
       "        False, False, False, False, False, False, False, False, False,\n",
       "        False, False, False, False, False, False, False, False, False,\n",
       "        False, False, False, False, False, False, False, False, False,\n",
       "        False, False, False, False, False, False, False, False, False,\n",
       "        False, False, False, False, False, False, False, False, False,\n",
       "        False, False, False, False, False, False, False, False, False,\n",
       "        False, False, False, False, False, False, False, False, False,\n",
       "        False, False, False, False, False, False, False, False, False,\n",
       "        False, False, False, False, False, False, False, False, False,\n",
       "        False, False, False, False, False, False, False, False, False,\n",
       "        False, False, False, False, False, False, False, False, False,\n",
       "        False, False, False, False, False, False, False, False, False,\n",
       "        False, False, False, False]))"
      ]
     },
     "execution_count": 5,
     "metadata": {},
     "output_type": "execute_result"
    }
   ],
   "source": [
    "x_train[1], mask_train[1]"
   ]
  },
  {
   "cell_type": "code",
   "execution_count": 6,
   "metadata": {},
   "outputs": [
    {
     "data": {
      "text/plain": [
       "1"
      ]
     },
     "execution_count": 6,
     "metadata": {},
     "output_type": "execute_result"
    }
   ],
   "source": [
    "y_train[1]"
   ]
  },
  {
   "cell_type": "code",
   "execution_count": 7,
   "metadata": {},
   "outputs": [
    {
     "data": {
      "text/plain": [
       "\"<start> the gorgeously elaborate continuation of the lord of the rings trilogy is so huge that a column of words can not adequately describe co writerdirector peter jackson's expanded vision of jrr tolkien's middle earth <pad> <pad> <pad> <pad> <pad> <pad> <pad> <pad> <pad> <pad> <pad> <pad> <pad> <pad> <pad> <pad> <pad> <pad> <pad> <pad> <pad> <pad> <pad> <pad> <pad> <pad> <pad> <pad> <pad> <pad> <pad> <pad> <pad> <pad> <pad> <pad> <pad> <pad> <pad> <pad> <pad> <pad> <pad> <pad> <pad> <pad> <pad> <pad> <pad> <pad> <pad> <pad> <pad> <pad> <pad> <pad> <pad> <pad> <pad> <pad> <pad> <pad> <pad> <pad> <pad> <pad> <pad> <pad> <pad> <pad> <pad> <pad> <pad> <pad> <pad> <pad> <pad> <pad> <pad> <pad> <pad> <pad> <pad> <pad> <pad> <pad> <pad> <pad> <pad> <pad> <pad> <pad> <pad> <pad> <pad> <pad> <pad> <pad> <pad> <pad> <pad> <pad> <pad> <pad> <pad> <pad> <pad> <pad> <pad> <pad> <pad> <pad> <pad> <pad> <pad> <pad> <pad> <pad> <pad> <pad> <pad> <pad> <pad> <pad> <pad> <pad> <pad> <pad> <pad> <pad> <pad> <pad> <pad> <pad> <pad> <pad> <pad> <pad> <pad> <pad> <pad> <pad> <pad> <pad> <pad> <pad> <pad> <pad> <pad> <pad> <pad> <pad> <pad> <pad> <pad> <pad> <pad> <pad> <pad> <pad> <pad> <pad> <pad> <pad> <pad> <pad> <pad> <pad> <pad> <pad> <pad> <pad> <pad> <pad> <pad> <pad> <pad> <pad> <pad> <pad> <pad> <pad> <pad> <pad> <pad> <pad> <pad> <pad> <pad> <pad> <pad> <pad> <pad> <pad> <pad> <pad> <pad> <pad> <pad> <pad> <pad> <pad> <pad> <pad> <pad> <pad> <pad> <pad> <pad> <pad> <pad> <pad> <pad> <pad> <pad> <pad> <pad> <pad> <pad> <pad> <pad>\""
      ]
     },
     "execution_count": 7,
     "metadata": {},
     "output_type": "execute_result"
    }
   ],
   "source": [
    "decode_review(x_train[1])"
   ]
  },
  {
   "cell_type": "code",
   "execution_count": 8,
   "metadata": {},
   "outputs": [
    {
     "data": {
      "text/plain": [
       "(1101, (1101, 256), (1101, 256), (1101,))"
      ]
     },
     "execution_count": 8,
     "metadata": {},
     "output_type": "execute_result"
    }
   ],
   "source": [
    "val_dataframe = pd.read_csv(\"../resources/datasets/StanfordSentimentTreebank/split/SST2Processed2-dev.csv\", index_col=0)\n",
    "ids_val, x_val, mask_val, y_val = get_dataset(val_dataframe, word_index)\n",
    "len(ids_val), x_val.shape, mask_val.shape, y_val.shape"
   ]
  },
  {
   "cell_type": "code",
   "execution_count": 9,
   "metadata": {},
   "outputs": [
    {
     "data": {
      "text/plain": [
       "16177"
      ]
     },
     "execution_count": 9,
     "metadata": {},
     "output_type": "execute_result"
    }
   ],
   "source": [
    "len(word_index)"
   ]
  },
  {
   "cell_type": "code",
   "execution_count": 10,
   "metadata": {},
   "outputs": [
    {
     "name": "stdout",
     "output_type": "stream",
     "text": [
      "Model: \"model\"\n",
      "__________________________________________________________________________________________________\n",
      " Layer (type)                   Output Shape         Param #     Connected to                     \n",
      "==================================================================================================\n",
      " input_1 (InputLayer)           [(None, 256)]        0           []                               \n",
      "                                                                                                  \n",
      " embedding (Embedding)          (None, 256, 768)     12423936    ['input_1[0][0]']                \n",
      "                                                                                                  \n",
      " conv1d (Conv1D)                (None, 256, 128)     295040      ['embedding[0][0]']              \n",
      "                                                                                                  \n",
      " conv1d_1 (Conv1D)              (None, 256, 64)      24640       ['conv1d[0][0]']                 \n",
      "                                                                                                  \n",
      " conv1d_2 (Conv1D)              (None, 256, 32)      6176        ['conv1d_1[0][0]']               \n",
      "                                                                                                  \n",
      " dropout (Dropout)              (None, 256, 32)      0           ['conv1d_2[0][0]']               \n",
      "                                                                                                  \n",
      " conv1d_3 (Conv1D)              (None, 256, 16)      1552        ['dropout[0][0]']                \n",
      "                                                                                                  \n",
      " conv1d_4 (Conv1D)              (None, 256, 8)       392         ['conv1d_3[0][0]']               \n",
      "                                                                                                  \n",
      " input_2 (InputLayer)           [(None, 256)]        0           []                               \n",
      "                                                                                                  \n",
      " attention (Attention)          (None, 256, 8)       0           ['conv1d_4[0][0]',               \n",
      "                                                                  'conv1d_4[0][0]',               \n",
      "                                                                  'input_2[0][0]',                \n",
      "                                                                  'input_2[0][0]']                \n",
      "                                                                                                  \n",
      " global_average_pooling1d (Glob  (None, 8)           0           ['attention[0][0]']              \n",
      " alAveragePooling1D)                                                                              \n",
      "                                                                                                  \n",
      " dropout_1 (Dropout)            (None, 8)            0           ['global_average_pooling1d[0][0]'\n",
      "                                                                 ]                                \n",
      "                                                                                                  \n",
      " global_average_pooling1d_1 (Gl  (None, 8)           0           ['conv1d_4[0][0]']               \n",
      " obalAveragePooling1D)                                                                            \n",
      "                                                                                                  \n",
      " concatenate (Concatenate)      (None, 16)           0           ['dropout_1[0][0]',              \n",
      "                                                                  'global_average_pooling1d_1[0][0\n",
      "                                                                 ]']                              \n",
      "                                                                                                  \n",
      " dense (Dense)                  (None, 1)            17          ['concatenate[0][0]']            \n",
      "                                                                                                  \n",
      "==================================================================================================\n",
      "Total params: 12,751,753\n",
      "Trainable params: 12,751,753\n",
      "Non-trainable params: 0\n",
      "__________________________________________________________________________________________________\n"
     ]
    }
   ],
   "source": [
    "embed_dim = 768\n",
    "embeddings_df = pd.read_csv(f\"../resources/embeddings/StanfordSentimentTreebank/SST2Processed2-train_dim{embed_dim}.csv\", index_col=0)\n",
    "n_attention_heads = 0\n",
    "n_end_attention_heads = 1\n",
    "emb_trainable = True\n",
    "causal = False\n",
    "pooling = False\n",
    "residual_connections = True\n",
    "experimet_name = f\"cnn1d_{n_attention_heads}ATTENTION_{n_end_attention_heads}ENDATTENTION_RESIDUAL_embed{embed_dim}\"\n",
    "checkpoint_dir = f\"../resources/output/SST2Processed2/checkpoint_{experimet_name}.hdf5\"\n",
    "\n",
    "model, emb_layer = get_model(\n",
    "    len(word_index),\n",
    "    embed_dim,\n",
    "    n_attention_heads=n_attention_heads,\n",
    "    n_end_attention_heads=n_end_attention_heads,\n",
    "    emb_trainable=emb_trainable,\n",
    "    with_pooling=pooling,\n",
    "    causal=causal,\n",
    "    residual_connections=residual_connections\n",
    ")"
   ]
  },
  {
   "cell_type": "code",
   "execution_count": 11,
   "metadata": {},
   "outputs": [],
   "source": [
    "emb_wgts = emb_layer.get_weights()\n",
    "emb_wgts[0][0] = embeddings_df.iloc[0].values\n",
    "emb_wgts[0][1 - embeddings_df.shape[0] : ] = embeddings_df.values[1:]\n",
    "emb_layer.set_weights(emb_wgts)"
   ]
  },
  {
   "cell_type": "code",
   "execution_count": 12,
   "metadata": {},
   "outputs": [
    {
     "name": "stdout",
     "output_type": "stream",
     "text": [
      "Epoch 1/50\n",
      "134/134 [==============================] - ETA: 0s - loss: 0.6895 - accuracy: 0.5265\n",
      "Epoch 1: val_loss improved from inf to 0.68388, saving model to ../resources/output/SST2Processed2\\checkpoint_cnn1d_0ATTENTION_1ENDATTENTION_RESIDUAL_embed768.hdf5\n",
      "134/134 [==============================] - 56s 411ms/step - loss: 0.6895 - accuracy: 0.5265 - val_loss: 0.6839 - val_accuracy: 0.5295\n",
      "Epoch 2/50\n",
      "134/134 [==============================] - ETA: 0s - loss: 0.6706 - accuracy: 0.5887\n",
      "Epoch 2: val_loss improved from 0.68388 to 0.64360, saving model to ../resources/output/SST2Processed2\\checkpoint_cnn1d_0ATTENTION_1ENDATTENTION_RESIDUAL_embed768.hdf5\n",
      "134/134 [==============================] - 52s 388ms/step - loss: 0.6706 - accuracy: 0.5887 - val_loss: 0.6436 - val_accuracy: 0.6331\n",
      "Epoch 3/50\n",
      "134/134 [==============================] - ETA: 0s - loss: 0.5874 - accuracy: 0.6840\n",
      "Epoch 3: val_loss improved from 0.64360 to 0.62918, saving model to ../resources/output/SST2Processed2\\checkpoint_cnn1d_0ATTENTION_1ENDATTENTION_RESIDUAL_embed768.hdf5\n",
      "134/134 [==============================] - 54s 406ms/step - loss: 0.5874 - accuracy: 0.6840 - val_loss: 0.6292 - val_accuracy: 0.6485\n",
      "Epoch 4/50\n",
      "134/134 [==============================] - ETA: 0s - loss: 0.4001 - accuracy: 0.8261\n",
      "Epoch 4: val_loss improved from 0.62918 to 0.62359, saving model to ../resources/output/SST2Processed2\\checkpoint_cnn1d_0ATTENTION_1ENDATTENTION_RESIDUAL_embed768.hdf5\n",
      "134/134 [==============================] - 55s 412ms/step - loss: 0.4001 - accuracy: 0.8261 - val_loss: 0.6236 - val_accuracy: 0.7139\n",
      "Epoch 5/50\n",
      "134/134 [==============================] - ETA: 0s - loss: 0.2418 - accuracy: 0.9068\n",
      "Epoch 5: val_loss did not improve from 0.62359\n",
      "134/134 [==============================] - 51s 384ms/step - loss: 0.2418 - accuracy: 0.9068 - val_loss: 0.7535 - val_accuracy: 0.7075\n",
      "Epoch 6/50\n",
      "134/134 [==============================] - ETA: 0s - loss: 0.1689 - accuracy: 0.9359\n",
      "Epoch 6: val_loss did not improve from 0.62359\n",
      "134/134 [==============================] - 52s 385ms/step - loss: 0.1689 - accuracy: 0.9359 - val_loss: 0.8279 - val_accuracy: 0.7003\n",
      "Epoch 7/50\n",
      "134/134 [==============================] - ETA: 0s - loss: 0.1129 - accuracy: 0.9597\n",
      "Epoch 7: val_loss did not improve from 0.62359\n",
      "134/134 [==============================] - 52s 385ms/step - loss: 0.1129 - accuracy: 0.9597 - val_loss: 0.9258 - val_accuracy: 0.7057\n",
      "Epoch 8/50\n",
      "134/134 [==============================] - ETA: 0s - loss: 0.0809 - accuracy: 0.9712\n",
      "Epoch 8: val_loss did not improve from 0.62359\n",
      "134/134 [==============================] - 51s 384ms/step - loss: 0.0809 - accuracy: 0.9712 - val_loss: 1.2477 - val_accuracy: 0.7166\n",
      "Epoch 9/50\n",
      "134/134 [==============================] - ETA: 0s - loss: 0.0646 - accuracy: 0.9781\n",
      "Epoch 9: val_loss did not improve from 0.62359\n",
      "134/134 [==============================] - 51s 384ms/step - loss: 0.0646 - accuracy: 0.9781 - val_loss: 1.2436 - val_accuracy: 0.7048\n",
      "Epoch 10/50\n",
      "134/134 [==============================] - ETA: 0s - loss: 0.0521 - accuracy: 0.9806\n",
      "Epoch 10: val_loss did not improve from 0.62359\n",
      "134/134 [==============================] - 51s 384ms/step - loss: 0.0521 - accuracy: 0.9806 - val_loss: 1.6524 - val_accuracy: 0.6948\n",
      "Epoch 11/50\n",
      "134/134 [==============================] - ETA: 0s - loss: 0.0601 - accuracy: 0.9780\n",
      "Epoch 11: val_loss did not improve from 0.62359\n",
      "134/134 [==============================] - 51s 384ms/step - loss: 0.0601 - accuracy: 0.9780 - val_loss: 1.5912 - val_accuracy: 0.6994\n",
      "Epoch 12/50\n",
      "134/134 [==============================] - ETA: 0s - loss: 0.0617 - accuracy: 0.9759\n",
      "Epoch 12: val_loss did not improve from 0.62359\n",
      "134/134 [==============================] - 52s 388ms/step - loss: 0.0617 - accuracy: 0.9759 - val_loss: 1.7784 - val_accuracy: 0.6948\n",
      "Epoch 13/50\n",
      "134/134 [==============================] - ETA: 0s - loss: 0.0307 - accuracy: 0.9886\n",
      "Epoch 13: val_loss did not improve from 0.62359\n",
      "134/134 [==============================] - 51s 383ms/step - loss: 0.0307 - accuracy: 0.9886 - val_loss: 2.0277 - val_accuracy: 0.6785\n",
      "Epoch 14/50\n",
      "134/134 [==============================] - ETA: 0s - loss: 0.0131 - accuracy: 0.9957\n",
      "Epoch 14: val_loss did not improve from 0.62359\n",
      "134/134 [==============================] - 51s 384ms/step - loss: 0.0131 - accuracy: 0.9957 - val_loss: 2.3752 - val_accuracy: 0.6948\n",
      "Epoch 15/50\n",
      "134/134 [==============================] - ETA: 0s - loss: 0.0051 - accuracy: 0.9986\n",
      "Epoch 15: val_loss did not improve from 0.62359\n",
      "134/134 [==============================] - 52s 385ms/step - loss: 0.0051 - accuracy: 0.9986 - val_loss: 2.5934 - val_accuracy: 0.6866\n",
      "Epoch 16/50\n",
      "134/134 [==============================] - ETA: 0s - loss: 0.0148 - accuracy: 0.9953\n",
      "Epoch 16: val_loss did not improve from 0.62359\n",
      "134/134 [==============================] - 52s 385ms/step - loss: 0.0148 - accuracy: 0.9953 - val_loss: 3.2239 - val_accuracy: 0.6794\n",
      "Epoch 17/50\n",
      "134/134 [==============================] - ETA: 0s - loss: 0.0377 - accuracy: 0.9869\n",
      "Epoch 17: val_loss did not improve from 0.62359\n",
      "134/134 [==============================] - 52s 385ms/step - loss: 0.0377 - accuracy: 0.9869 - val_loss: 2.6489 - val_accuracy: 0.6694\n",
      "Epoch 18/50\n",
      "134/134 [==============================] - ETA: 0s - loss: 0.0205 - accuracy: 0.9938\n",
      "Epoch 18: val_loss did not improve from 0.62359\n",
      "134/134 [==============================] - 52s 389ms/step - loss: 0.0205 - accuracy: 0.9938 - val_loss: 2.7121 - val_accuracy: 0.6658\n",
      "Epoch 19/50\n",
      "134/134 [==============================] - ETA: 0s - loss: 0.0400 - accuracy: 0.9881\n",
      "Epoch 19: val_loss did not improve from 0.62359\n",
      "134/134 [==============================] - 52s 386ms/step - loss: 0.0400 - accuracy: 0.9881 - val_loss: 2.2682 - val_accuracy: 0.6812\n",
      "Epoch 20/50\n",
      "134/134 [==============================] - ETA: 0s - loss: 0.0261 - accuracy: 0.9917\n",
      "Epoch 20: val_loss did not improve from 0.62359\n",
      "134/134 [==============================] - 52s 386ms/step - loss: 0.0261 - accuracy: 0.9917 - val_loss: 2.6069 - val_accuracy: 0.6794\n"
     ]
    }
   ],
   "source": [
    "model.compile(optimizer='adam',\n",
    "              loss='binary_crossentropy',\n",
    "              metrics=['accuracy'])\n",
    "history = model.fit([x_train, mask_train],\n",
    "                    y_train,\n",
    "                    epochs=50,\n",
    "                    batch_size=64,\n",
    "                    validation_data=([x_val, mask_val], y_val),\n",
    "                    callbacks=[\n",
    "                        keras.callbacks.ModelCheckpoint(\n",
    "                            checkpoint_dir,\n",
    "                            save_best_only=True,\n",
    "                            save_weights_only=False,\n",
    "                            verbose=1\n",
    "                        ),\n",
    "                        keras.callbacks.EarlyStopping(\n",
    "                            monitor='accuracy',\n",
    "                            min_delta=.001,\n",
    "                            patience=5\n",
    "                        )\n",
    "                    ],\n",
    "                    verbose=1)"
   ]
  },
  {
   "cell_type": "code",
   "execution_count": 13,
   "metadata": {},
   "outputs": [],
   "source": [
    "model.load_weights(checkpoint_dir)"
   ]
  },
  {
   "cell_type": "code",
   "execution_count": 14,
   "metadata": {},
   "outputs": [
    {
     "data": {
      "text/plain": [
       "(2210, (2210, 256), (2210, 256), (2210,))"
      ]
     },
     "execution_count": 14,
     "metadata": {},
     "output_type": "execute_result"
    }
   ],
   "source": [
    "test_dataframe = pd.read_csv(\"../resources/datasets/StanfordSentimentTreebank/split/SST2Processed2-test.csv\", index_col=0)\n",
    "ids_test, x_test, mask_test, y_test = get_dataset(test_dataframe, word_index)\n",
    "len(ids_test), x_test.shape, mask_test.shape, y_test.shape"
   ]
  },
  {
   "cell_type": "code",
   "execution_count": 15,
   "metadata": {},
   "outputs": [
    {
     "name": "stdout",
     "output_type": "stream",
     "text": [
      "70/70 [==============================] - 3s 36ms/step\n"
     ]
    },
    {
     "data": {
      "text/plain": [
       "(2210, 1)"
      ]
     },
     "execution_count": 15,
     "metadata": {},
     "output_type": "execute_result"
    }
   ],
   "source": [
    "preds = model.predict([x_test, mask_test])\n",
    "preds.shape"
   ]
  },
  {
   "cell_type": "code",
   "execution_count": 16,
   "metadata": {},
   "outputs": [
    {
     "data": {
      "text/html": [
       "<div>\n",
       "<style scoped>\n",
       "    .dataframe tbody tr th:only-of-type {\n",
       "        vertical-align: middle;\n",
       "    }\n",
       "\n",
       "    .dataframe tbody tr th {\n",
       "        vertical-align: top;\n",
       "    }\n",
       "\n",
       "    .dataframe thead th {\n",
       "        text-align: right;\n",
       "    }\n",
       "</style>\n",
       "<table border=\"1\" class=\"dataframe\">\n",
       "  <thead>\n",
       "    <tr style=\"text-align: right;\">\n",
       "      <th></th>\n",
       "      <th>predictions</th>\n",
       "    </tr>\n",
       "  </thead>\n",
       "  <tbody>\n",
       "    <tr>\n",
       "      <th>3</th>\n",
       "      <td>0.746446</td>\n",
       "    </tr>\n",
       "    <tr>\n",
       "      <th>4</th>\n",
       "      <td>0.661802</td>\n",
       "    </tr>\n",
       "    <tr>\n",
       "      <th>5</th>\n",
       "      <td>0.958351</td>\n",
       "    </tr>\n",
       "    <tr>\n",
       "      <th>6</th>\n",
       "      <td>0.806756</td>\n",
       "    </tr>\n",
       "    <tr>\n",
       "      <th>7</th>\n",
       "      <td>0.914440</td>\n",
       "    </tr>\n",
       "    <tr>\n",
       "      <th>...</th>\n",
       "      <td>...</td>\n",
       "    </tr>\n",
       "    <tr>\n",
       "      <th>11621</th>\n",
       "      <td>0.785671</td>\n",
       "    </tr>\n",
       "    <tr>\n",
       "      <th>11623</th>\n",
       "      <td>0.993600</td>\n",
       "    </tr>\n",
       "    <tr>\n",
       "      <th>11626</th>\n",
       "      <td>0.950738</td>\n",
       "    </tr>\n",
       "    <tr>\n",
       "      <th>11628</th>\n",
       "      <td>0.007955</td>\n",
       "    </tr>\n",
       "    <tr>\n",
       "      <th>11798</th>\n",
       "      <td>0.012930</td>\n",
       "    </tr>\n",
       "  </tbody>\n",
       "</table>\n",
       "<p>2210 rows × 1 columns</p>\n",
       "</div>"
      ],
      "text/plain": [
       "       predictions\n",
       "3         0.746446\n",
       "4         0.661802\n",
       "5         0.958351\n",
       "6         0.806756\n",
       "7         0.914440\n",
       "...            ...\n",
       "11621     0.785671\n",
       "11623     0.993600\n",
       "11626     0.950738\n",
       "11628     0.007955\n",
       "11798     0.012930\n",
       "\n",
       "[2210 rows x 1 columns]"
      ]
     },
     "execution_count": 16,
     "metadata": {},
     "output_type": "execute_result"
    }
   ],
   "source": [
    "preds_df = pd.DataFrame(preds, index=ids_test, columns=[\"predictions\"])\n",
    "preds_df"
   ]
  },
  {
   "cell_type": "code",
   "execution_count": 17,
   "metadata": {},
   "outputs": [
    {
     "data": {
      "text/html": [
       "<div>\n",
       "<style scoped>\n",
       "    .dataframe tbody tr th:only-of-type {\n",
       "        vertical-align: middle;\n",
       "    }\n",
       "\n",
       "    .dataframe tbody tr th {\n",
       "        vertical-align: top;\n",
       "    }\n",
       "\n",
       "    .dataframe thead th {\n",
       "        text-align: right;\n",
       "    }\n",
       "</style>\n",
       "<table border=\"1\" class=\"dataframe\">\n",
       "  <thead>\n",
       "    <tr style=\"text-align: right;\">\n",
       "      <th></th>\n",
       "      <th>text</th>\n",
       "      <th>phrase_id</th>\n",
       "      <th>class</th>\n",
       "      <th>predictions</th>\n",
       "    </tr>\n",
       "  </thead>\n",
       "  <tbody>\n",
       "    <tr>\n",
       "      <th>3</th>\n",
       "      <td>&lt;start&gt; effective but too tepid biopic</td>\n",
       "      <td>13995</td>\n",
       "      <td>0.513890</td>\n",
       "      <td>0.746446</td>\n",
       "    </tr>\n",
       "    <tr>\n",
       "      <th>4</th>\n",
       "      <td>&lt;start&gt; if you sometimes like to go to the mov...</td>\n",
       "      <td>14123</td>\n",
       "      <td>0.736110</td>\n",
       "      <td>0.661802</td>\n",
       "    </tr>\n",
       "    <tr>\n",
       "      <th>5</th>\n",
       "      <td>&lt;start&gt; emerges as something rare an issue mov...</td>\n",
       "      <td>13999</td>\n",
       "      <td>0.861110</td>\n",
       "      <td>0.958351</td>\n",
       "    </tr>\n",
       "    <tr>\n",
       "      <th>6</th>\n",
       "      <td>&lt;start&gt; the film provides some great insight i...</td>\n",
       "      <td>14498</td>\n",
       "      <td>0.597220</td>\n",
       "      <td>0.806756</td>\n",
       "    </tr>\n",
       "    <tr>\n",
       "      <th>7</th>\n",
       "      <td>&lt;start&gt; offers that rare combination of entert...</td>\n",
       "      <td>14351</td>\n",
       "      <td>0.833330</td>\n",
       "      <td>0.914440</td>\n",
       "    </tr>\n",
       "    <tr>\n",
       "      <th>...</th>\n",
       "      <td>...</td>\n",
       "      <td>...</td>\n",
       "      <td>...</td>\n",
       "      <td>...</td>\n",
       "    </tr>\n",
       "    <tr>\n",
       "      <th>11621</th>\n",
       "      <td>&lt;start&gt; an imaginative comedythriller</td>\n",
       "      <td>13851</td>\n",
       "      <td>0.777780</td>\n",
       "      <td>0.785671</td>\n",
       "    </tr>\n",
       "    <tr>\n",
       "      <th>11623</th>\n",
       "      <td>&lt;start&gt; a rare beautiful film</td>\n",
       "      <td>18182</td>\n",
       "      <td>0.916670</td>\n",
       "      <td>0.993600</td>\n",
       "    </tr>\n",
       "    <tr>\n",
       "      <th>11626</th>\n",
       "      <td>&lt;start&gt; an hilarious romantic comedy</td>\n",
       "      <td>23211</td>\n",
       "      <td>0.888890</td>\n",
       "      <td>0.950738</td>\n",
       "    </tr>\n",
       "    <tr>\n",
       "      <th>11628</th>\n",
       "      <td>&lt;start&gt; never sinks into exploitation</td>\n",
       "      <td>26177</td>\n",
       "      <td>0.625000</td>\n",
       "      <td>0.007955</td>\n",
       "    </tr>\n",
       "    <tr>\n",
       "      <th>11798</th>\n",
       "      <td>&lt;start&gt; u nrelentingly stupid</td>\n",
       "      <td>141831</td>\n",
       "      <td>0.069444</td>\n",
       "      <td>0.012930</td>\n",
       "    </tr>\n",
       "  </tbody>\n",
       "</table>\n",
       "<p>2210 rows × 4 columns</p>\n",
       "</div>"
      ],
      "text/plain": [
       "                                                    text  phrase_id     class  \\\n",
       "3                 <start> effective but too tepid biopic      13995  0.513890   \n",
       "4      <start> if you sometimes like to go to the mov...      14123  0.736110   \n",
       "5      <start> emerges as something rare an issue mov...      13999  0.861110   \n",
       "6      <start> the film provides some great insight i...      14498  0.597220   \n",
       "7      <start> offers that rare combination of entert...      14351  0.833330   \n",
       "...                                                  ...        ...       ...   \n",
       "11621              <start> an imaginative comedythriller      13851  0.777780   \n",
       "11623                      <start> a rare beautiful film      18182  0.916670   \n",
       "11626               <start> an hilarious romantic comedy      23211  0.888890   \n",
       "11628              <start> never sinks into exploitation      26177  0.625000   \n",
       "11798                      <start> u nrelentingly stupid     141831  0.069444   \n",
       "\n",
       "       predictions  \n",
       "3         0.746446  \n",
       "4         0.661802  \n",
       "5         0.958351  \n",
       "6         0.806756  \n",
       "7         0.914440  \n",
       "...            ...  \n",
       "11621     0.785671  \n",
       "11623     0.993600  \n",
       "11626     0.950738  \n",
       "11628     0.007955  \n",
       "11798     0.012930  \n",
       "\n",
       "[2210 rows x 4 columns]"
      ]
     },
     "execution_count": 17,
     "metadata": {},
     "output_type": "execute_result"
    }
   ],
   "source": [
    "dataset_with_preds_df = pd.concat([test_dataframe, preds_df], axis=1)\n",
    "dataset_with_preds_df"
   ]
  },
  {
   "cell_type": "code",
   "execution_count": 18,
   "metadata": {},
   "outputs": [
    {
     "data": {
      "text/plain": [
       "0.7339366515837104"
      ]
     },
     "execution_count": 18,
     "metadata": {},
     "output_type": "execute_result"
    }
   ],
   "source": [
    "hits, total = 0, 0\n",
    "for _, row in dataset_with_preds_df.iterrows() :\n",
    "    total += 1\n",
    "    pred  = row[\"predictions\"] >= .5\n",
    "    label = row[\"class\"]       >= .5\n",
    "    if pred == label : \n",
    "        hits += 1\n",
    "accuracy = hits / total\n",
    "accuracy"
   ]
  },
  {
   "cell_type": "code",
   "execution_count": 19,
   "metadata": {},
   "outputs": [
    {
     "data": {
      "text/plain": [
       "0.23118134717691702"
      ]
     },
     "execution_count": 19,
     "metadata": {},
     "output_type": "execute_result"
    }
   ],
   "source": [
    "hits, total = 0, 0\n",
    "for _, row in dataset_with_preds_df.iterrows() :\n",
    "    total += 1\n",
    "    pred  = row[\"predictions\"]\n",
    "    label = row[\"class\"]\n",
    "    diff = label - pred\n",
    "    hits += abs(diff)\n",
    "avg_dev = hits / total\n",
    "avg_dev"
   ]
  },
  {
   "cell_type": "code",
   "execution_count": 20,
   "metadata": {},
   "outputs": [
    {
     "name": "stdout",
     "output_type": "stream",
     "text": [
      "757 865 234 354\n"
     ]
    }
   ],
   "source": [
    "true_positives, true_negatives, false_positives, false_negatives = 0, 0, 0, 0\n",
    "for _, row in dataset_with_preds_df.iterrows() :\n",
    "    pred  = row[\"predictions\"] >= .5\n",
    "    label = row[\"class\"]       >= .5\n",
    "    if pred == label :\n",
    "        if pred :\n",
    "            true_positives  += 1\n",
    "        else :\n",
    "            true_negatives  += 1\n",
    "    else :\n",
    "        if pred :\n",
    "            false_positives += 1\n",
    "        else :\n",
    "            false_negatives += 1\n",
    "print(true_positives, true_negatives, false_positives, false_negatives)"
   ]
  },
  {
   "cell_type": "code",
   "execution_count": 21,
   "metadata": {},
   "outputs": [
    {
     "data": {
      "text/plain": [
       "0.763874873864783"
      ]
     },
     "execution_count": 21,
     "metadata": {},
     "output_type": "execute_result"
    }
   ],
   "source": [
    "precision = true_positives / (true_positives + false_positives)\n",
    "precision"
   ]
  },
  {
   "cell_type": "code",
   "execution_count": 22,
   "metadata": {},
   "outputs": [
    {
     "data": {
      "text/plain": [
       "0.6813681368136814"
      ]
     },
     "execution_count": 22,
     "metadata": {},
     "output_type": "execute_result"
    }
   ],
   "source": [
    "recall = true_positives / (true_positives + false_negatives)\n",
    "recall"
   ]
  },
  {
   "cell_type": "code",
   "execution_count": 23,
   "metadata": {},
   "outputs": [
    {
     "data": {
      "text/plain": [
       "0.7202664129400571"
      ]
     },
     "execution_count": 23,
     "metadata": {},
     "output_type": "execute_result"
    }
   ],
   "source": [
    "f1 = (2 * precision * recall) / (precision + recall)\n",
    "f1"
   ]
  },
  {
   "cell_type": "code",
   "execution_count": 24,
   "metadata": {},
   "outputs": [],
   "source": [
    "eval_dict = {\n",
    "    'model'     : checkpoint_dir,\n",
    "    'accuracy'  : accuracy,\n",
    "    'precision' : precision,\n",
    "    'recall'    : recall,\n",
    "    'f1-score'  : f1\n",
    "}"
   ]
  },
  {
   "cell_type": "code",
   "execution_count": 25,
   "metadata": {},
   "outputs": [],
   "source": [
    "with open(f\"{eval_dict['model']}-eval-dict.json\", \"w\") as f :\n",
    "    f.write(json.dumps(eval_dict))"
   ]
  }
 ],
 "metadata": {
  "kernelspec": {
   "display_name": "Python 3.10.4 64-bit",
   "language": "python",
   "name": "python3"
  },
  "language_info": {
   "codemirror_mode": {
    "name": "ipython",
    "version": 3
   },
   "file_extension": ".py",
   "mimetype": "text/x-python",
   "name": "python",
   "nbconvert_exporter": "python",
   "pygments_lexer": "ipython3",
   "version": "3.10.4"
  },
  "orig_nbformat": 4,
  "vscode": {
   "interpreter": {
    "hash": "fb071969cc081d156db4658a52cc12ff3302089485c0c8cb524fcf02c6362775"
   }
  }
 },
 "nbformat": 4,
 "nbformat_minor": 2
}
