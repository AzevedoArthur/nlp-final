{
 "cells": [
  {
   "cell_type": "code",
   "execution_count": 1,
   "metadata": {},
   "outputs": [],
   "source": [
    "import tensorflow as tf\n",
    "from tensorflow import keras\n",
    "\n",
    "import numpy as np"
   ]
  },
  {
   "cell_type": "code",
   "execution_count": 2,
   "metadata": {},
   "outputs": [],
   "source": [
    "def get_model(vocab_size, emb_dim, max_len=256) :\n",
    "    inputs      = tf.keras.Input(shape=(max_len,), dtype='int32')\n",
    "    inputs_mask = tf.keras.Input(shape=(max_len,), dtype='bool')\n",
    "    \n",
    "    embedding_layer = keras.layers.Embedding(vocab_size, emb_dim, input_length=max_len, mask_zero=True)\n",
    "    embedding = embedding_layer(inputs)\n",
    "    \n",
    "    enc_conv1 = keras.layers.Conv1D(filters=128, kernel_size=3, activation='relu', padding='same')(embedding)\n",
    "\n",
    "    attention = keras.layers.Attention(causal=False)(\n",
    "        [\n",
    "         enc_conv1, \n",
    "         enc_conv1\n",
    "        ],\n",
    "        mask=[ \n",
    "         inputs_mask, \n",
    "         inputs_mask\n",
    "        ]\n",
    "    )\n",
    "\n",
    "    last  = attention\n",
    "    \n",
    "    conv1 = keras.layers.Conv1D(filters=64, kernel_size=3, activation='relu', padding='same')(last)\n",
    "    last  = conv1\n",
    "    \n",
    "    conv2 = keras.layers.Conv1D(filters=32, kernel_size=3, activation='relu', padding='same')(last)\n",
    "    last  = conv2\n",
    "    \n",
    "    pool1 = keras.layers.MaxPooling1D(pool_size=2, padding='same')(last)\n",
    "    last  = pool1\n",
    "    \n",
    "    drop1 = keras.layers.Dropout(0.05)(last)\n",
    "    last  = drop1\n",
    "    \n",
    "    conv3 = keras.layers.Conv1D(filters=16, kernel_size=3, activation='relu', padding='same')(last)\n",
    "    last  = conv3\n",
    "    \n",
    "    conv4 = keras.layers.Conv1D(filters=8,  kernel_size=3, activation='relu', padding='same')(last)\n",
    "    last  = conv4\n",
    "    \n",
    "    pool2 = keras.layers.GlobalAveragePooling1D()(last)\n",
    "    last  = pool2\n",
    "    \n",
    "    drop2 = keras.layers.Dropout(0.05)(last)\n",
    "    last  = drop2\n",
    "\n",
    "    outputs = keras.layers.Dense(1, activation='sigmoid')(last)\n",
    "\n",
    "    model = keras.models.Model(inputs=[inputs, inputs_mask], outputs=outputs)\n",
    "\n",
    "    model.summary()\n",
    "\n",
    "    return model, embedding_layer"
   ]
  },
  {
   "cell_type": "code",
   "execution_count": 3,
   "metadata": {},
   "outputs": [],
   "source": [
    "import pandas as pd\n",
    "import json\n",
    "\n",
    "def get_word_index(sentences) :\n",
    "    all_tokens = []\n",
    "    for txt in sentences :\n",
    "        all_tokens += txt.split()\n",
    "\n",
    "    tokens = pd.Series(all_tokens, range(len(all_tokens)), name=\"tokens\")\n",
    "    types = tokens.unique()\n",
    "    word_index = {word : i for i, word in enumerate([\"<pad>\", \"<unk>\"] + list(types))}\n",
    "    \n",
    "    def decode_review(text):\n",
    "        reverse_word_index = dict([(value, key) for (key, value) in word_index.items()])\n",
    "        return ' '.join([reverse_word_index.get(i, '?') for i in text])\n",
    "    \n",
    "    return word_index, decode_review\n",
    "\n",
    "def get_dataset(dataframe, word_index, max_len=256) :\n",
    "    x_series, y_series = dataframe[\"text\"], dataframe[\"class\"]\n",
    "\n",
    "    x_list = [txt.split() for txt in list(x_series)]\n",
    "    \n",
    "    x_seq = []\n",
    "    for tknlst in x_list :\n",
    "        seq = []\n",
    "        for tkn in tknlst :\n",
    "            try :\n",
    "                seq.append(word_index[tkn])\n",
    "            except KeyError :\n",
    "                seq.append(word_index[\"<unk>\"])\n",
    "        seq = (seq + [0] * (max_len - len(seq))) if (len(seq) < max_len) else (seq[ : max_len])\n",
    "        x_seq.append(seq)\n",
    "    \n",
    "    y_int = [1 if lb >= .5 else 0 for lb in list(y_series)]\n",
    "\n",
    "    x = np.array(x_seq, dtype=int) \n",
    "    mask = x != 0\n",
    "\n",
    "    y = np.array(y_int, dtype=int) \n",
    "\n",
    "    return x, mask, y"
   ]
  },
  {
   "cell_type": "code",
   "execution_count": 4,
   "metadata": {},
   "outputs": [
    {
     "data": {
      "text/plain": [
       "((8544, 256), (8544, 256), (8544,))"
      ]
     },
     "execution_count": 4,
     "metadata": {},
     "output_type": "execute_result"
    }
   ],
   "source": [
    "train_dataframe = pd.read_csv(\"../resources/datasets/StanfordSentimentTreebank/split/SST2Processed2-train.csv\", index_col=0)\n",
    "word_index, decode_review = get_word_index(train_dataframe[\"text\"])\n",
    "x_train, mask_train, y_train = get_dataset(train_dataframe, word_index)\n",
    "x_train.shape, mask_train.shape, y_train.shape"
   ]
  },
  {
   "cell_type": "code",
   "execution_count": 5,
   "metadata": {},
   "outputs": [
    {
     "data": {
      "text/plain": [
       "(array([ 2,  3, 32, 33, 34, 35,  3, 36, 35,  3, 37, 38,  5, 39, 40, 14, 18,\n",
       "        41, 35, 42, 43, 44, 45, 46, 47, 48, 49, 50, 51, 52, 35, 53, 54, 55,\n",
       "        56,  0,  0,  0,  0,  0,  0,  0,  0,  0,  0,  0,  0,  0,  0,  0,  0,\n",
       "         0,  0,  0,  0,  0,  0,  0,  0,  0,  0,  0,  0,  0,  0,  0,  0,  0,\n",
       "         0,  0,  0,  0,  0,  0,  0,  0,  0,  0,  0,  0,  0,  0,  0,  0,  0,\n",
       "         0,  0,  0,  0,  0,  0,  0,  0,  0,  0,  0,  0,  0,  0,  0,  0,  0,\n",
       "         0,  0,  0,  0,  0,  0,  0,  0,  0,  0,  0,  0,  0,  0,  0,  0,  0,\n",
       "         0,  0,  0,  0,  0,  0,  0,  0,  0,  0,  0,  0,  0,  0,  0,  0,  0,\n",
       "         0,  0,  0,  0,  0,  0,  0,  0,  0,  0,  0,  0,  0,  0,  0,  0,  0,\n",
       "         0,  0,  0,  0,  0,  0,  0,  0,  0,  0,  0,  0,  0,  0,  0,  0,  0,\n",
       "         0,  0,  0,  0,  0,  0,  0,  0,  0,  0,  0,  0,  0,  0,  0,  0,  0,\n",
       "         0,  0,  0,  0,  0,  0,  0,  0,  0,  0,  0,  0,  0,  0,  0,  0,  0,\n",
       "         0,  0,  0,  0,  0,  0,  0,  0,  0,  0,  0,  0,  0,  0,  0,  0,  0,\n",
       "         0,  0,  0,  0,  0,  0,  0,  0,  0,  0,  0,  0,  0,  0,  0,  0,  0,\n",
       "         0,  0,  0,  0,  0,  0,  0,  0,  0,  0,  0,  0,  0,  0,  0,  0,  0,\n",
       "         0]),\n",
       " array([ True,  True,  True,  True,  True,  True,  True,  True,  True,\n",
       "         True,  True,  True,  True,  True,  True,  True,  True,  True,\n",
       "         True,  True,  True,  True,  True,  True,  True,  True,  True,\n",
       "         True,  True,  True,  True,  True,  True,  True,  True, False,\n",
       "        False, False, False, False, False, False, False, False, False,\n",
       "        False, False, False, False, False, False, False, False, False,\n",
       "        False, False, False, False, False, False, False, False, False,\n",
       "        False, False, False, False, False, False, False, False, False,\n",
       "        False, False, False, False, False, False, False, False, False,\n",
       "        False, False, False, False, False, False, False, False, False,\n",
       "        False, False, False, False, False, False, False, False, False,\n",
       "        False, False, False, False, False, False, False, False, False,\n",
       "        False, False, False, False, False, False, False, False, False,\n",
       "        False, False, False, False, False, False, False, False, False,\n",
       "        False, False, False, False, False, False, False, False, False,\n",
       "        False, False, False, False, False, False, False, False, False,\n",
       "        False, False, False, False, False, False, False, False, False,\n",
       "        False, False, False, False, False, False, False, False, False,\n",
       "        False, False, False, False, False, False, False, False, False,\n",
       "        False, False, False, False, False, False, False, False, False,\n",
       "        False, False, False, False, False, False, False, False, False,\n",
       "        False, False, False, False, False, False, False, False, False,\n",
       "        False, False, False, False, False, False, False, False, False,\n",
       "        False, False, False, False, False, False, False, False, False,\n",
       "        False, False, False, False, False, False, False, False, False,\n",
       "        False, False, False, False, False, False, False, False, False,\n",
       "        False, False, False, False, False, False, False, False, False,\n",
       "        False, False, False, False, False, False, False, False, False,\n",
       "        False, False, False, False]))"
      ]
     },
     "execution_count": 5,
     "metadata": {},
     "output_type": "execute_result"
    }
   ],
   "source": [
    "x_train[1], mask_train[1]"
   ]
  },
  {
   "cell_type": "code",
   "execution_count": 6,
   "metadata": {},
   "outputs": [
    {
     "data": {
      "text/plain": [
       "1"
      ]
     },
     "execution_count": 6,
     "metadata": {},
     "output_type": "execute_result"
    }
   ],
   "source": [
    "y_train[1]"
   ]
  },
  {
   "cell_type": "code",
   "execution_count": 7,
   "metadata": {},
   "outputs": [
    {
     "data": {
      "text/plain": [
       "\"<start> the gorgeously elaborate continuation of the lord of the rings trilogy is so huge that a column of words can not adequately describe co writerdirector peter jackson's expanded vision of jrr tolkien's middle earth <pad> <pad> <pad> <pad> <pad> <pad> <pad> <pad> <pad> <pad> <pad> <pad> <pad> <pad> <pad> <pad> <pad> <pad> <pad> <pad> <pad> <pad> <pad> <pad> <pad> <pad> <pad> <pad> <pad> <pad> <pad> <pad> <pad> <pad> <pad> <pad> <pad> <pad> <pad> <pad> <pad> <pad> <pad> <pad> <pad> <pad> <pad> <pad> <pad> <pad> <pad> <pad> <pad> <pad> <pad> <pad> <pad> <pad> <pad> <pad> <pad> <pad> <pad> <pad> <pad> <pad> <pad> <pad> <pad> <pad> <pad> <pad> <pad> <pad> <pad> <pad> <pad> <pad> <pad> <pad> <pad> <pad> <pad> <pad> <pad> <pad> <pad> <pad> <pad> <pad> <pad> <pad> <pad> <pad> <pad> <pad> <pad> <pad> <pad> <pad> <pad> <pad> <pad> <pad> <pad> <pad> <pad> <pad> <pad> <pad> <pad> <pad> <pad> <pad> <pad> <pad> <pad> <pad> <pad> <pad> <pad> <pad> <pad> <pad> <pad> <pad> <pad> <pad> <pad> <pad> <pad> <pad> <pad> <pad> <pad> <pad> <pad> <pad> <pad> <pad> <pad> <pad> <pad> <pad> <pad> <pad> <pad> <pad> <pad> <pad> <pad> <pad> <pad> <pad> <pad> <pad> <pad> <pad> <pad> <pad> <pad> <pad> <pad> <pad> <pad> <pad> <pad> <pad> <pad> <pad> <pad> <pad> <pad> <pad> <pad> <pad> <pad> <pad> <pad> <pad> <pad> <pad> <pad> <pad> <pad> <pad> <pad> <pad> <pad> <pad> <pad> <pad> <pad> <pad> <pad> <pad> <pad> <pad> <pad> <pad> <pad> <pad> <pad> <pad> <pad> <pad> <pad> <pad> <pad> <pad> <pad> <pad> <pad> <pad> <pad> <pad> <pad> <pad> <pad> <pad> <pad>\""
      ]
     },
     "execution_count": 7,
     "metadata": {},
     "output_type": "execute_result"
    }
   ],
   "source": [
    "decode_review(x_train[1])"
   ]
  },
  {
   "cell_type": "code",
   "execution_count": 8,
   "metadata": {},
   "outputs": [
    {
     "data": {
      "text/plain": [
       "((1101, 256), (1101, 256), (1101,))"
      ]
     },
     "execution_count": 8,
     "metadata": {},
     "output_type": "execute_result"
    }
   ],
   "source": [
    "val_dataframe = pd.read_csv(\"../resources/datasets/StanfordSentimentTreebank/split/SST2Processed2-dev.csv\", index_col=0)\n",
    "x_val, mask_val, y_val = get_dataset(val_dataframe, word_index)\n",
    "x_val.shape, mask_val.shape, y_val.shape"
   ]
  },
  {
   "cell_type": "code",
   "execution_count": 9,
   "metadata": {},
   "outputs": [
    {
     "data": {
      "text/plain": [
       "16177"
      ]
     },
     "execution_count": 9,
     "metadata": {},
     "output_type": "execute_result"
    }
   ],
   "source": [
    "len(word_index)"
   ]
  },
  {
   "cell_type": "code",
   "execution_count": 10,
   "metadata": {},
   "outputs": [
    {
     "name": "stdout",
     "output_type": "stream",
     "text": [
      "Model: \"model\"\n",
      "__________________________________________________________________________________________________\n",
      " Layer (type)                   Output Shape         Param #     Connected to                     \n",
      "==================================================================================================\n",
      " input_1 (InputLayer)           [(None, 256)]        0           []                               \n",
      "                                                                                                  \n",
      " embedding (Embedding)          (None, 256, 300)     4853100     ['input_1[0][0]']                \n",
      "                                                                                                  \n",
      " conv1d (Conv1D)                (None, 256, 128)     115328      ['embedding[0][0]']              \n",
      "                                                                                                  \n",
      " input_2 (InputLayer)           [(None, 256)]        0           []                               \n",
      "                                                                                                  \n",
      " attention (Attention)          (None, 256, 128)     0           ['conv1d[0][0]',                 \n",
      "                                                                  'conv1d[0][0]',                 \n",
      "                                                                  'input_2[0][0]',                \n",
      "                                                                  'input_2[0][0]']                \n",
      "                                                                                                  \n",
      " conv1d_1 (Conv1D)              (None, 256, 64)      24640       ['attention[0][0]']              \n",
      "                                                                                                  \n",
      " conv1d_2 (Conv1D)              (None, 256, 32)      6176        ['conv1d_1[0][0]']               \n",
      "                                                                                                  \n",
      " max_pooling1d (MaxPooling1D)   (None, 128, 32)      0           ['conv1d_2[0][0]']               \n",
      "                                                                                                  \n",
      " dropout (Dropout)              (None, 128, 32)      0           ['max_pooling1d[0][0]']          \n",
      "                                                                                                  \n",
      " conv1d_3 (Conv1D)              (None, 128, 16)      1552        ['dropout[0][0]']                \n",
      "                                                                                                  \n",
      " conv1d_4 (Conv1D)              (None, 128, 8)       392         ['conv1d_3[0][0]']               \n",
      "                                                                                                  \n",
      " global_average_pooling1d (Glob  (None, 8)           0           ['conv1d_4[0][0]']               \n",
      " alAveragePooling1D)                                                                              \n",
      "                                                                                                  \n",
      " dropout_1 (Dropout)            (None, 8)            0           ['global_average_pooling1d[0][0]'\n",
      "                                                                 ]                                \n",
      "                                                                                                  \n",
      " dense (Dense)                  (None, 1)            9           ['dropout_1[0][0]']              \n",
      "                                                                                                  \n",
      "==================================================================================================\n",
      "Total params: 5,001,197\n",
      "Trainable params: 5,001,197\n",
      "Non-trainable params: 0\n",
      "__________________________________________________________________________________________________\n"
     ]
    }
   ],
   "source": [
    "embed_dim = 768\n",
    "model, emb_layer = get_model(len(word_index), embed_dim)"
   ]
  },
  {
   "cell_type": "code",
   "execution_count": 11,
   "metadata": {},
   "outputs": [],
   "source": [
    "embeddings_df = pd.read_csv(f\"../resources/embeddings/StanfordSentimentTreebank/SST2Processed2-train_dim{embed_dim}.csv\", index_col=0)\n",
    "emb_wgts = emb_layer.get_weights()\n",
    "emb_wgts[0][0] = embeddings_df.iloc[0].values\n",
    "emb_wgts[0][1 - embeddings_df.shape[0] : ] = embeddings_df.values[1:]\n",
    "emb_layer.set_weights(emb_wgts)"
   ]
  },
  {
   "cell_type": "code",
   "execution_count": 12,
   "metadata": {},
   "outputs": [
    {
     "name": "stdout",
     "output_type": "stream",
     "text": [
      "Epoch 1/50\n",
      "134/134 [==============================] - ETA: 0s - loss: 0.6924 - accuracy: 0.5186\n",
      "Epoch 1: val_loss improved from inf to 0.68875, saving model to ../resources/output/SST2Processed2\\checkpoint_cnn1d.h5\n",
      "134/134 [==============================] - 31s 225ms/step - loss: 0.6924 - accuracy: 0.5186 - val_loss: 0.6887 - val_accuracy: 0.5504\n",
      "Epoch 2/50\n",
      "134/134 [==============================] - ETA: 0s - loss: 0.6768 - accuracy: 0.5789\n",
      "Epoch 2: val_loss improved from 0.68875 to 0.66507, saving model to ../resources/output/SST2Processed2\\checkpoint_cnn1d.h5\n",
      "134/134 [==============================] - 30s 227ms/step - loss: 0.6768 - accuracy: 0.5789 - val_loss: 0.6651 - val_accuracy: 0.5995\n",
      "Epoch 3/50\n",
      "134/134 [==============================] - ETA: 0s - loss: 0.6479 - accuracy: 0.6243\n",
      "Epoch 3: val_loss improved from 0.66507 to 0.64307, saving model to ../resources/output/SST2Processed2\\checkpoint_cnn1d.h5\n",
      "134/134 [==============================] - 30s 225ms/step - loss: 0.6479 - accuracy: 0.6243 - val_loss: 0.6431 - val_accuracy: 0.6358\n",
      "Epoch 4/50\n",
      "134/134 [==============================] - ETA: 0s - loss: 0.5946 - accuracy: 0.6847\n",
      "Epoch 4: val_loss improved from 0.64307 to 0.63397, saving model to ../resources/output/SST2Processed2\\checkpoint_cnn1d.h5\n",
      "134/134 [==============================] - 30s 226ms/step - loss: 0.5946 - accuracy: 0.6847 - val_loss: 0.6340 - val_accuracy: 0.6585\n",
      "Epoch 5/50\n",
      "134/134 [==============================] - ETA: 0s - loss: 0.5187 - accuracy: 0.7547\n",
      "Epoch 5: val_loss did not improve from 0.63397\n",
      "134/134 [==============================] - 30s 227ms/step - loss: 0.5187 - accuracy: 0.7547 - val_loss: 0.6344 - val_accuracy: 0.6748\n",
      "Epoch 6/50\n",
      "134/134 [==============================] - ETA: 0s - loss: 0.4121 - accuracy: 0.8166\n",
      "Epoch 6: val_loss did not improve from 0.63397\n",
      "134/134 [==============================] - 30s 228ms/step - loss: 0.4121 - accuracy: 0.8166 - val_loss: 0.6345 - val_accuracy: 0.6921\n",
      "Epoch 7/50\n",
      "134/134 [==============================] - ETA: 0s - loss: 0.2983 - accuracy: 0.8763\n",
      "Epoch 7: val_loss did not improve from 0.63397\n",
      "134/134 [==============================] - 30s 226ms/step - loss: 0.2983 - accuracy: 0.8763 - val_loss: 0.7100 - val_accuracy: 0.6839\n",
      "Epoch 8/50\n",
      "134/134 [==============================] - ETA: 0s - loss: 0.2218 - accuracy: 0.9130\n",
      "Epoch 8: val_loss did not improve from 0.63397\n",
      "134/134 [==============================] - 30s 227ms/step - loss: 0.2218 - accuracy: 0.9130 - val_loss: 0.8270 - val_accuracy: 0.6957\n",
      "Epoch 9/50\n",
      "134/134 [==============================] - ETA: 0s - loss: 0.1616 - accuracy: 0.9411\n",
      "Epoch 9: val_loss did not improve from 0.63397\n",
      "134/134 [==============================] - 30s 225ms/step - loss: 0.1616 - accuracy: 0.9411 - val_loss: 1.0188 - val_accuracy: 0.7030\n",
      "Epoch 10/50\n",
      "134/134 [==============================] - ETA: 0s - loss: 0.1274 - accuracy: 0.9507\n",
      "Epoch 10: val_loss did not improve from 0.63397\n",
      "134/134 [==============================] - 31s 229ms/step - loss: 0.1274 - accuracy: 0.9507 - val_loss: 1.0548 - val_accuracy: 0.7021\n",
      "Epoch 11/50\n",
      "134/134 [==============================] - ETA: 0s - loss: 0.0929 - accuracy: 0.9682\n",
      "Epoch 11: val_loss did not improve from 0.63397\n",
      "134/134 [==============================] - 30s 227ms/step - loss: 0.0929 - accuracy: 0.9682 - val_loss: 1.3203 - val_accuracy: 0.7012\n",
      "Epoch 12/50\n",
      "134/134 [==============================] - ETA: 0s - loss: 0.0760 - accuracy: 0.9730\n",
      "Epoch 12: val_loss did not improve from 0.63397\n",
      "134/134 [==============================] - 30s 227ms/step - loss: 0.0760 - accuracy: 0.9730 - val_loss: 1.3813 - val_accuracy: 0.6839\n",
      "Epoch 13/50\n",
      "134/134 [==============================] - ETA: 0s - loss: 0.0695 - accuracy: 0.9775\n",
      "Epoch 13: val_loss did not improve from 0.63397\n",
      "134/134 [==============================] - 30s 228ms/step - loss: 0.0695 - accuracy: 0.9775 - val_loss: 1.5570 - val_accuracy: 0.6985\n",
      "Epoch 14/50\n",
      "134/134 [==============================] - ETA: 0s - loss: 0.0561 - accuracy: 0.9837\n",
      "Epoch 14: val_loss did not improve from 0.63397\n",
      "134/134 [==============================] - 30s 227ms/step - loss: 0.0561 - accuracy: 0.9837 - val_loss: 1.6101 - val_accuracy: 0.7121\n",
      "Epoch 15/50\n",
      "134/134 [==============================] - ETA: 0s - loss: 0.0416 - accuracy: 0.9882\n",
      "Epoch 15: val_loss did not improve from 0.63397\n",
      "134/134 [==============================] - 30s 227ms/step - loss: 0.0416 - accuracy: 0.9882 - val_loss: 2.0528 - val_accuracy: 0.7157\n",
      "Epoch 16/50\n",
      "134/134 [==============================] - ETA: 0s - loss: 0.0444 - accuracy: 0.9871\n",
      "Epoch 16: val_loss did not improve from 0.63397\n",
      "134/134 [==============================] - 30s 227ms/step - loss: 0.0444 - accuracy: 0.9871 - val_loss: 1.8741 - val_accuracy: 0.6894\n",
      "Epoch 17/50\n",
      "134/134 [==============================] - ETA: 0s - loss: 0.0452 - accuracy: 0.9872\n",
      "Epoch 17: val_loss did not improve from 0.63397\n",
      "134/134 [==============================] - 31s 228ms/step - loss: 0.0452 - accuracy: 0.9872 - val_loss: 1.8268 - val_accuracy: 0.6966\n",
      "Epoch 18/50\n",
      "134/134 [==============================] - ETA: 0s - loss: 0.0472 - accuracy: 0.9864\n",
      "Epoch 18: val_loss did not improve from 0.63397\n",
      "134/134 [==============================] - 30s 227ms/step - loss: 0.0472 - accuracy: 0.9864 - val_loss: 1.9013 - val_accuracy: 0.6994\n",
      "Epoch 19/50\n",
      "134/134 [==============================] - ETA: 0s - loss: 0.0336 - accuracy: 0.9930\n",
      "Epoch 19: val_loss did not improve from 0.63397\n",
      "134/134 [==============================] - 30s 227ms/step - loss: 0.0336 - accuracy: 0.9930 - val_loss: 1.9663 - val_accuracy: 0.6876\n",
      "Epoch 20/50\n",
      "134/134 [==============================] - ETA: 0s - loss: 0.0226 - accuracy: 0.9963\n",
      "Epoch 20: val_loss did not improve from 0.63397\n",
      "134/134 [==============================] - 30s 226ms/step - loss: 0.0226 - accuracy: 0.9963 - val_loss: 2.5254 - val_accuracy: 0.6857\n",
      "Epoch 21/50\n",
      "134/134 [==============================] - ETA: 0s - loss: 0.0305 - accuracy: 0.9936\n",
      "Epoch 21: val_loss did not improve from 0.63397\n",
      "134/134 [==============================] - 30s 227ms/step - loss: 0.0305 - accuracy: 0.9936 - val_loss: 2.0971 - val_accuracy: 0.7057\n",
      "Epoch 22/50\n",
      "134/134 [==============================] - ETA: 0s - loss: 0.0504 - accuracy: 0.9871\n",
      "Epoch 22: val_loss did not improve from 0.63397\n",
      "134/134 [==============================] - 30s 227ms/step - loss: 0.0504 - accuracy: 0.9871 - val_loss: 1.6431 - val_accuracy: 0.6939\n",
      "Epoch 23/50\n",
      "134/134 [==============================] - ETA: 0s - loss: 0.0351 - accuracy: 0.9922\n",
      "Epoch 23: val_loss did not improve from 0.63397\n",
      "134/134 [==============================] - 31s 228ms/step - loss: 0.0351 - accuracy: 0.9922 - val_loss: 2.2038 - val_accuracy: 0.6748\n",
      "Epoch 24/50\n",
      "134/134 [==============================] - ETA: 0s - loss: 0.0372 - accuracy: 0.9897\n",
      "Epoch 24: val_loss did not improve from 0.63397\n",
      "134/134 [==============================] - 31s 229ms/step - loss: 0.0372 - accuracy: 0.9897 - val_loss: 2.3341 - val_accuracy: 0.6975\n",
      "Epoch 25/50\n",
      "134/134 [==============================] - ETA: 0s - loss: 0.0300 - accuracy: 0.9943\n",
      "Epoch 25: val_loss did not improve from 0.63397\n",
      "134/134 [==============================] - 31s 228ms/step - loss: 0.0300 - accuracy: 0.9943 - val_loss: 2.2103 - val_accuracy: 0.6848\n",
      "Epoch 26/50\n",
      "134/134 [==============================] - ETA: 0s - loss: 0.0219 - accuracy: 0.9954\n",
      "Epoch 26: val_loss did not improve from 0.63397\n",
      "134/134 [==============================] - 30s 228ms/step - loss: 0.0219 - accuracy: 0.9954 - val_loss: 2.6109 - val_accuracy: 0.6894\n",
      "Epoch 27/50\n",
      "134/134 [==============================] - ETA: 0s - loss: 0.0276 - accuracy: 0.9946\n",
      "Epoch 27: val_loss did not improve from 0.63397\n",
      "134/134 [==============================] - 31s 228ms/step - loss: 0.0276 - accuracy: 0.9946 - val_loss: 2.4995 - val_accuracy: 0.6794\n",
      "Epoch 28/50\n",
      "134/134 [==============================] - ETA: 0s - loss: 0.0249 - accuracy: 0.9957\n",
      "Epoch 28: val_loss did not improve from 0.63397\n",
      "134/134 [==============================] - 30s 228ms/step - loss: 0.0249 - accuracy: 0.9957 - val_loss: 2.5671 - val_accuracy: 0.6866\n",
      "Epoch 29/50\n",
      "134/134 [==============================] - ETA: 0s - loss: 0.0267 - accuracy: 0.9938\n",
      "Epoch 29: val_loss did not improve from 0.63397\n",
      "134/134 [==============================] - 30s 227ms/step - loss: 0.0267 - accuracy: 0.9938 - val_loss: 2.4094 - val_accuracy: 0.6803\n",
      "Epoch 30/50\n",
      "134/134 [==============================] - ETA: 0s - loss: 0.0213 - accuracy: 0.9953\n",
      "Epoch 30: val_loss did not improve from 0.63397\n",
      "134/134 [==============================] - 30s 227ms/step - loss: 0.0213 - accuracy: 0.9953 - val_loss: 2.5609 - val_accuracy: 0.6767\n",
      "Epoch 31/50\n",
      "134/134 [==============================] - ETA: 0s - loss: 0.0184 - accuracy: 0.9960\n",
      "Epoch 31: val_loss did not improve from 0.63397\n",
      "134/134 [==============================] - 30s 227ms/step - loss: 0.0184 - accuracy: 0.9960 - val_loss: 2.6295 - val_accuracy: 0.6939\n",
      "Epoch 32/50\n",
      "134/134 [==============================] - ETA: 0s - loss: 0.0158 - accuracy: 0.9973\n",
      "Epoch 32: val_loss did not improve from 0.63397\n",
      "134/134 [==============================] - 30s 226ms/step - loss: 0.0158 - accuracy: 0.9973 - val_loss: 2.7918 - val_accuracy: 0.6803\n",
      "Epoch 33/50\n",
      "134/134 [==============================] - ETA: 0s - loss: 0.0168 - accuracy: 0.9966\n",
      "Epoch 33: val_loss did not improve from 0.63397\n",
      "134/134 [==============================] - 31s 228ms/step - loss: 0.0168 - accuracy: 0.9966 - val_loss: 2.8339 - val_accuracy: 0.7021\n",
      "Epoch 34/50\n",
      "134/134 [==============================] - ETA: 0s - loss: 0.0212 - accuracy: 0.9946\n",
      "Epoch 34: val_loss did not improve from 0.63397\n",
      "134/134 [==============================] - 31s 230ms/step - loss: 0.0212 - accuracy: 0.9946 - val_loss: 2.5281 - val_accuracy: 0.6948\n",
      "Epoch 35/50\n",
      "134/134 [==============================] - ETA: 0s - loss: 0.0284 - accuracy: 0.9933\n",
      "Epoch 35: val_loss did not improve from 0.63397\n",
      "134/134 [==============================] - 31s 228ms/step - loss: 0.0284 - accuracy: 0.9933 - val_loss: 2.4560 - val_accuracy: 0.6839\n",
      "Epoch 36/50\n",
      "134/134 [==============================] - ETA: 0s - loss: 0.0296 - accuracy: 0.9929\n",
      "Epoch 36: val_loss did not improve from 0.63397\n",
      "134/134 [==============================] - 31s 228ms/step - loss: 0.0296 - accuracy: 0.9929 - val_loss: 2.2602 - val_accuracy: 0.6930\n",
      "Epoch 37/50\n",
      "134/134 [==============================] - ETA: 0s - loss: 0.0256 - accuracy: 0.9930\n",
      "Epoch 37: val_loss did not improve from 0.63397\n",
      "134/134 [==============================] - 30s 226ms/step - loss: 0.0256 - accuracy: 0.9930 - val_loss: 2.2865 - val_accuracy: 0.6848\n",
      "Epoch 38/50\n",
      "134/134 [==============================] - ETA: 0s - loss: 0.0257 - accuracy: 0.9938\n",
      "Epoch 38: val_loss did not improve from 0.63397\n",
      "134/134 [==============================] - 30s 227ms/step - loss: 0.0257 - accuracy: 0.9938 - val_loss: 2.2072 - val_accuracy: 0.6876\n",
      "Epoch 39/50\n",
      "134/134 [==============================] - ETA: 0s - loss: 0.0143 - accuracy: 0.9965\n",
      "Epoch 39: val_loss did not improve from 0.63397\n",
      "134/134 [==============================] - 30s 228ms/step - loss: 0.0143 - accuracy: 0.9965 - val_loss: 2.6404 - val_accuracy: 0.6939\n",
      "Epoch 40/50\n",
      "134/134 [==============================] - ETA: 0s - loss: 0.0142 - accuracy: 0.9961\n",
      "Epoch 40: val_loss did not improve from 0.63397\n",
      "134/134 [==============================] - 31s 228ms/step - loss: 0.0142 - accuracy: 0.9961 - val_loss: 2.4977 - val_accuracy: 0.6866\n",
      "Epoch 41/50\n",
      "134/134 [==============================] - ETA: 0s - loss: 0.0110 - accuracy: 0.9982\n",
      "Epoch 41: val_loss did not improve from 0.63397\n",
      "134/134 [==============================] - 30s 227ms/step - loss: 0.0110 - accuracy: 0.9982 - val_loss: 2.7776 - val_accuracy: 0.6912\n",
      "Epoch 42/50\n",
      "134/134 [==============================] - ETA: 0s - loss: 0.0106 - accuracy: 0.9982\n",
      "Epoch 42: val_loss did not improve from 0.63397\n",
      "134/134 [==============================] - 30s 227ms/step - loss: 0.0106 - accuracy: 0.9982 - val_loss: 2.9120 - val_accuracy: 0.6930\n",
      "Epoch 43/50\n",
      "134/134 [==============================] - ETA: 0s - loss: 0.0119 - accuracy: 0.9979\n",
      "Epoch 43: val_loss did not improve from 0.63397\n",
      "134/134 [==============================] - 30s 227ms/step - loss: 0.0119 - accuracy: 0.9979 - val_loss: 2.6390 - val_accuracy: 0.6903\n",
      "Epoch 44/50\n",
      "134/134 [==============================] - ETA: 0s - loss: 0.0070 - accuracy: 0.9993\n",
      "Epoch 44: val_loss did not improve from 0.63397\n",
      "134/134 [==============================] - 30s 227ms/step - loss: 0.0070 - accuracy: 0.9993 - val_loss: 2.9592 - val_accuracy: 0.6839\n",
      "Epoch 45/50\n",
      "134/134 [==============================] - ETA: 0s - loss: 0.0079 - accuracy: 0.9986\n",
      "Epoch 45: val_loss did not improve from 0.63397\n",
      "134/134 [==============================] - 30s 227ms/step - loss: 0.0079 - accuracy: 0.9986 - val_loss: 2.9712 - val_accuracy: 0.6757\n",
      "Epoch 46/50\n",
      "134/134 [==============================] - ETA: 0s - loss: 0.0081 - accuracy: 0.9988\n",
      "Epoch 46: val_loss did not improve from 0.63397\n",
      "134/134 [==============================] - 30s 227ms/step - loss: 0.0081 - accuracy: 0.9988 - val_loss: 3.1682 - val_accuracy: 0.6685\n",
      "Epoch 47/50\n",
      "134/134 [==============================] - ETA: 0s - loss: 0.0090 - accuracy: 0.9984\n",
      "Epoch 47: val_loss did not improve from 0.63397\n",
      "134/134 [==============================] - 30s 227ms/step - loss: 0.0090 - accuracy: 0.9984 - val_loss: 4.1375 - val_accuracy: 0.6957\n",
      "Epoch 48/50\n",
      "134/134 [==============================] - ETA: 0s - loss: 0.0206 - accuracy: 0.9957\n",
      "Epoch 48: val_loss did not improve from 0.63397\n",
      "134/134 [==============================] - 30s 227ms/step - loss: 0.0206 - accuracy: 0.9957 - val_loss: 2.5827 - val_accuracy: 0.6721\n",
      "Epoch 49/50\n",
      "134/134 [==============================] - ETA: 0s - loss: 0.0305 - accuracy: 0.9912\n",
      "Epoch 49: val_loss did not improve from 0.63397\n",
      "134/134 [==============================] - 30s 226ms/step - loss: 0.0305 - accuracy: 0.9912 - val_loss: 2.5255 - val_accuracy: 0.6857\n",
      "Epoch 50/50\n",
      "134/134 [==============================] - ETA: 0s - loss: 0.0122 - accuracy: 0.9975\n",
      "Epoch 50: val_loss did not improve from 0.63397\n",
      "134/134 [==============================] - 31s 235ms/step - loss: 0.0122 - accuracy: 0.9975 - val_loss: 2.9117 - val_accuracy: 0.6794\n"
     ]
    }
   ],
   "source": [
    "model.compile(optimizer='adam',\n",
    "              loss='binary_crossentropy',\n",
    "              metrics=['accuracy'])\n",
    "history = model.fit([x_train, mask_train],\n",
    "                    y_train,\n",
    "                    epochs=50,\n",
    "                    batch_size=64,\n",
    "                    validation_data=([x_val, mask_val], y_val),\n",
    "                    callbacks=[\n",
    "                        keras.callbacks.ModelCheckpoint(\n",
    "                            f\"../resources/output/SST2Processed2/checkpoint_cnn1d_embed{embed_dim}.h5\",\n",
    "                            save_best_only=True,\n",
    "                            save_weights_only=True,\n",
    "                            verbose=1\n",
    "                        )\n",
    "                    ],\n",
    "                    verbose=1)"
   ]
  }
 ],
 "metadata": {
  "kernelspec": {
   "display_name": "Python 3.10.4 64-bit",
   "language": "python",
   "name": "python3"
  },
  "language_info": {
   "codemirror_mode": {
    "name": "ipython",
    "version": 3
   },
   "file_extension": ".py",
   "mimetype": "text/x-python",
   "name": "python",
   "nbconvert_exporter": "python",
   "pygments_lexer": "ipython3",
   "version": "3.10.4"
  },
  "orig_nbformat": 4,
  "vscode": {
   "interpreter": {
    "hash": "fb071969cc081d156db4658a52cc12ff3302089485c0c8cb524fcf02c6362775"
   }
  }
 },
 "nbformat": 4,
 "nbformat_minor": 2
}
