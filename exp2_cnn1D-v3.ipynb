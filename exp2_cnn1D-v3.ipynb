{
 "cells": [
  {
   "cell_type": "code",
   "execution_count": 1,
   "metadata": {},
   "outputs": [],
   "source": [
    "import tensorflow as tf\n",
    "from tensorflow import keras\n",
    "\n",
    "import numpy as np"
   ]
  },
  {
   "cell_type": "code",
   "execution_count": 2,
   "metadata": {},
   "outputs": [],
   "source": [
    "def get_model(vocab_size, emb_dim, max_len=256, n_attention_heads=6, emb_trainable=True) :\n",
    "    inputs      = tf.keras.Input(shape=(max_len,), dtype='int32')\n",
    "    inputs_mask = tf.keras.Input(shape=(max_len,), dtype='bool')\n",
    "    \n",
    "    embedding_layer = keras.layers.Embedding(vocab_size, emb_dim, input_length=max_len, mask_zero=True, trainable=emb_trainable)\n",
    "    \n",
    "    embedding  = embedding_layer(inputs)\n",
    "    last       = embedding\n",
    "    \n",
    "    enc_conv1  = keras.layers.Conv1D(filters=128, kernel_size=3, activation='relu', padding='same')(last)\n",
    "    last       = enc_conv1\n",
    "\n",
    "    if n_attention_heads == 1 :\n",
    "        attention = keras.layers.Attention(causal=False)(\n",
    "            [\n",
    "            last, \n",
    "            last\n",
    "            ],\n",
    "            mask=[ \n",
    "            inputs_mask, \n",
    "            inputs_mask\n",
    "            ]\n",
    "        )\n",
    "        last  = attention\n",
    "    elif n_attention_heads > 1 :\n",
    "        attentions = []\n",
    "        for _ in range(n_attention_heads) :\n",
    "            attentions.append(\n",
    "                attention = keras.layers.Attention(causal=False)(\n",
    "                    [\n",
    "                        last, \n",
    "                        last\n",
    "                    ],\n",
    "                    mask=[ \n",
    "                        inputs_mask, \n",
    "                        inputs_mask\n",
    "                    ]\n",
    "                )\n",
    "            )\n",
    "        attention = keras.layers.Add()(attentions)\n",
    "        attention = keras.layers.BatchNormalization()(attention)\n",
    "        last  = attention\n",
    "    else :\n",
    "        pass\n",
    "    \n",
    "    conv1 = keras.layers.Conv1D(filters=64, kernel_size=3, activation='relu', padding='same')(last)\n",
    "    last  = conv1\n",
    "    \n",
    "    conv2 = keras.layers.Conv1D(filters=32, kernel_size=3, activation='relu', padding='same')(last)\n",
    "    last  = conv2\n",
    "    \n",
    "    pool1 = keras.layers.MaxPooling1D(pool_size=2, padding='same')(last)\n",
    "    last  = pool1\n",
    "    \n",
    "    drop1 = keras.layers.Dropout(0.05)(last)\n",
    "    last  = drop1\n",
    "    \n",
    "    conv3 = keras.layers.Conv1D(filters=16, kernel_size=3, activation='relu', padding='same')(last)\n",
    "    last  = conv3\n",
    "    \n",
    "    conv4 = keras.layers.Conv1D(filters=8,  kernel_size=3, activation='relu', padding='same')(last)\n",
    "    last  = conv4\n",
    "    \n",
    "    pool2 = keras.layers.GlobalAveragePooling1D()(last)\n",
    "    last  = pool2\n",
    "    \n",
    "    drop2 = keras.layers.Dropout(0.05)(last)\n",
    "    last  = drop2\n",
    "\n",
    "    outputs = keras.layers.Dense(1, activation='sigmoid')(last)\n",
    "\n",
    "    model = keras.models.Model(inputs=[inputs, inputs_mask], outputs=outputs)\n",
    "\n",
    "    model.summary()\n",
    "\n",
    "    return model, embedding_layer"
   ]
  },
  {
   "cell_type": "code",
   "execution_count": 3,
   "metadata": {},
   "outputs": [],
   "source": [
    "import pandas as pd\n",
    "import json\n",
    "\n",
    "def get_word_index(sentences) :\n",
    "    all_tokens = []\n",
    "    for txt in sentences :\n",
    "        all_tokens += txt.split()\n",
    "\n",
    "    tokens = pd.Series(all_tokens, range(len(all_tokens)), name=\"tokens\")\n",
    "    types = tokens.unique()\n",
    "    word_index = {word : i for i, word in enumerate([\"<pad>\", \"<unk>\"] + list(types))}\n",
    "    \n",
    "    def decode_review(text):\n",
    "        reverse_word_index = dict([(value, key) for (key, value) in word_index.items()])\n",
    "        return ' '.join([reverse_word_index.get(i, '?') for i in text])\n",
    "    \n",
    "    return word_index, decode_review\n",
    "\n",
    "def get_dataset(dataframe, word_index, max_len=256) :\n",
    "    index_series, x_series, y_series = dataframe.index, dataframe[\"text\"], dataframe[\"class\"]\n",
    "\n",
    "    index = list(index_series)\n",
    "\n",
    "    x_list = [txt.split() for txt in list(x_series)]\n",
    "    \n",
    "    x_seq = []\n",
    "    for tknlst in x_list :\n",
    "        seq = []\n",
    "        for tkn in tknlst :\n",
    "            try :\n",
    "                seq.append(word_index[tkn])\n",
    "            except KeyError :\n",
    "                seq.append(word_index[\"<unk>\"])\n",
    "        seq = (seq + [0] * (max_len - len(seq))) if (len(seq) < max_len) else (seq[ : max_len])\n",
    "        x_seq.append(seq)\n",
    "    \n",
    "    y_int = [1 if lb >= .5 else 0 for lb in list(y_series)]\n",
    "\n",
    "    x = np.array(x_seq, dtype=int) \n",
    "    mask = x != 0\n",
    "\n",
    "    y = np.array(y_int, dtype=int) \n",
    "\n",
    "    return index, x, mask, y"
   ]
  },
  {
   "cell_type": "code",
   "execution_count": 4,
   "metadata": {},
   "outputs": [
    {
     "data": {
      "text/plain": [
       "(8544, (8544, 256), (8544, 256), (8544,))"
      ]
     },
     "execution_count": 4,
     "metadata": {},
     "output_type": "execute_result"
    }
   ],
   "source": [
    "train_dataframe = pd.read_csv(\"../resources/datasets/StanfordSentimentTreebank/split/SST2Processed2-train.csv\", index_col=0)\n",
    "word_index, decode_review = get_word_index(train_dataframe[\"text\"])\n",
    "ids_train, x_train, mask_train, y_train = get_dataset(train_dataframe, word_index)\n",
    "len(ids_train), x_train.shape, mask_train.shape, y_train.shape"
   ]
  },
  {
   "cell_type": "code",
   "execution_count": 5,
   "metadata": {},
   "outputs": [
    {
     "data": {
      "text/plain": [
       "(array([ 2,  3, 32, 33, 34, 35,  3, 36, 35,  3, 37, 38,  5, 39, 40, 14, 18,\n",
       "        41, 35, 42, 43, 44, 45, 46, 47, 48, 49, 50, 51, 52, 35, 53, 54, 55,\n",
       "        56,  0,  0,  0,  0,  0,  0,  0,  0,  0,  0,  0,  0,  0,  0,  0,  0,\n",
       "         0,  0,  0,  0,  0,  0,  0,  0,  0,  0,  0,  0,  0,  0,  0,  0,  0,\n",
       "         0,  0,  0,  0,  0,  0,  0,  0,  0,  0,  0,  0,  0,  0,  0,  0,  0,\n",
       "         0,  0,  0,  0,  0,  0,  0,  0,  0,  0,  0,  0,  0,  0,  0,  0,  0,\n",
       "         0,  0,  0,  0,  0,  0,  0,  0,  0,  0,  0,  0,  0,  0,  0,  0,  0,\n",
       "         0,  0,  0,  0,  0,  0,  0,  0,  0,  0,  0,  0,  0,  0,  0,  0,  0,\n",
       "         0,  0,  0,  0,  0,  0,  0,  0,  0,  0,  0,  0,  0,  0,  0,  0,  0,\n",
       "         0,  0,  0,  0,  0,  0,  0,  0,  0,  0,  0,  0,  0,  0,  0,  0,  0,\n",
       "         0,  0,  0,  0,  0,  0,  0,  0,  0,  0,  0,  0,  0,  0,  0,  0,  0,\n",
       "         0,  0,  0,  0,  0,  0,  0,  0,  0,  0,  0,  0,  0,  0,  0,  0,  0,\n",
       "         0,  0,  0,  0,  0,  0,  0,  0,  0,  0,  0,  0,  0,  0,  0,  0,  0,\n",
       "         0,  0,  0,  0,  0,  0,  0,  0,  0,  0,  0,  0,  0,  0,  0,  0,  0,\n",
       "         0,  0,  0,  0,  0,  0,  0,  0,  0,  0,  0,  0,  0,  0,  0,  0,  0,\n",
       "         0]),\n",
       " array([ True,  True,  True,  True,  True,  True,  True,  True,  True,\n",
       "         True,  True,  True,  True,  True,  True,  True,  True,  True,\n",
       "         True,  True,  True,  True,  True,  True,  True,  True,  True,\n",
       "         True,  True,  True,  True,  True,  True,  True,  True, False,\n",
       "        False, False, False, False, False, False, False, False, False,\n",
       "        False, False, False, False, False, False, False, False, False,\n",
       "        False, False, False, False, False, False, False, False, False,\n",
       "        False, False, False, False, False, False, False, False, False,\n",
       "        False, False, False, False, False, False, False, False, False,\n",
       "        False, False, False, False, False, False, False, False, False,\n",
       "        False, False, False, False, False, False, False, False, False,\n",
       "        False, False, False, False, False, False, False, False, False,\n",
       "        False, False, False, False, False, False, False, False, False,\n",
       "        False, False, False, False, False, False, False, False, False,\n",
       "        False, False, False, False, False, False, False, False, False,\n",
       "        False, False, False, False, False, False, False, False, False,\n",
       "        False, False, False, False, False, False, False, False, False,\n",
       "        False, False, False, False, False, False, False, False, False,\n",
       "        False, False, False, False, False, False, False, False, False,\n",
       "        False, False, False, False, False, False, False, False, False,\n",
       "        False, False, False, False, False, False, False, False, False,\n",
       "        False, False, False, False, False, False, False, False, False,\n",
       "        False, False, False, False, False, False, False, False, False,\n",
       "        False, False, False, False, False, False, False, False, False,\n",
       "        False, False, False, False, False, False, False, False, False,\n",
       "        False, False, False, False, False, False, False, False, False,\n",
       "        False, False, False, False, False, False, False, False, False,\n",
       "        False, False, False, False, False, False, False, False, False,\n",
       "        False, False, False, False]))"
      ]
     },
     "execution_count": 5,
     "metadata": {},
     "output_type": "execute_result"
    }
   ],
   "source": [
    "x_train[1], mask_train[1]"
   ]
  },
  {
   "cell_type": "code",
   "execution_count": 6,
   "metadata": {},
   "outputs": [
    {
     "data": {
      "text/plain": [
       "1"
      ]
     },
     "execution_count": 6,
     "metadata": {},
     "output_type": "execute_result"
    }
   ],
   "source": [
    "y_train[1]"
   ]
  },
  {
   "cell_type": "code",
   "execution_count": 7,
   "metadata": {},
   "outputs": [
    {
     "data": {
      "text/plain": [
       "\"<start> the gorgeously elaborate continuation of the lord of the rings trilogy is so huge that a column of words can not adequately describe co writerdirector peter jackson's expanded vision of jrr tolkien's middle earth <pad> <pad> <pad> <pad> <pad> <pad> <pad> <pad> <pad> <pad> <pad> <pad> <pad> <pad> <pad> <pad> <pad> <pad> <pad> <pad> <pad> <pad> <pad> <pad> <pad> <pad> <pad> <pad> <pad> <pad> <pad> <pad> <pad> <pad> <pad> <pad> <pad> <pad> <pad> <pad> <pad> <pad> <pad> <pad> <pad> <pad> <pad> <pad> <pad> <pad> <pad> <pad> <pad> <pad> <pad> <pad> <pad> <pad> <pad> <pad> <pad> <pad> <pad> <pad> <pad> <pad> <pad> <pad> <pad> <pad> <pad> <pad> <pad> <pad> <pad> <pad> <pad> <pad> <pad> <pad> <pad> <pad> <pad> <pad> <pad> <pad> <pad> <pad> <pad> <pad> <pad> <pad> <pad> <pad> <pad> <pad> <pad> <pad> <pad> <pad> <pad> <pad> <pad> <pad> <pad> <pad> <pad> <pad> <pad> <pad> <pad> <pad> <pad> <pad> <pad> <pad> <pad> <pad> <pad> <pad> <pad> <pad> <pad> <pad> <pad> <pad> <pad> <pad> <pad> <pad> <pad> <pad> <pad> <pad> <pad> <pad> <pad> <pad> <pad> <pad> <pad> <pad> <pad> <pad> <pad> <pad> <pad> <pad> <pad> <pad> <pad> <pad> <pad> <pad> <pad> <pad> <pad> <pad> <pad> <pad> <pad> <pad> <pad> <pad> <pad> <pad> <pad> <pad> <pad> <pad> <pad> <pad> <pad> <pad> <pad> <pad> <pad> <pad> <pad> <pad> <pad> <pad> <pad> <pad> <pad> <pad> <pad> <pad> <pad> <pad> <pad> <pad> <pad> <pad> <pad> <pad> <pad> <pad> <pad> <pad> <pad> <pad> <pad> <pad> <pad> <pad> <pad> <pad> <pad> <pad> <pad> <pad> <pad> <pad> <pad> <pad> <pad> <pad> <pad> <pad> <pad>\""
      ]
     },
     "execution_count": 7,
     "metadata": {},
     "output_type": "execute_result"
    }
   ],
   "source": [
    "decode_review(x_train[1])"
   ]
  },
  {
   "cell_type": "code",
   "execution_count": 8,
   "metadata": {},
   "outputs": [
    {
     "data": {
      "text/plain": [
       "(1101, (1101, 256), (1101, 256), (1101,))"
      ]
     },
     "execution_count": 8,
     "metadata": {},
     "output_type": "execute_result"
    }
   ],
   "source": [
    "val_dataframe = pd.read_csv(\"../resources/datasets/StanfordSentimentTreebank/split/SST2Processed2-dev.csv\", index_col=0)\n",
    "ids_val, x_val, mask_val, y_val = get_dataset(val_dataframe, word_index)\n",
    "len(ids_val), x_val.shape, mask_val.shape, y_val.shape"
   ]
  },
  {
   "cell_type": "code",
   "execution_count": 9,
   "metadata": {},
   "outputs": [
    {
     "data": {
      "text/plain": [
       "16177"
      ]
     },
     "execution_count": 9,
     "metadata": {},
     "output_type": "execute_result"
    }
   ],
   "source": [
    "len(word_index)"
   ]
  },
  {
   "cell_type": "code",
   "execution_count": 10,
   "metadata": {},
   "outputs": [
    {
     "name": "stdout",
     "output_type": "stream",
     "text": [
      "Model: \"model\"\n",
      "__________________________________________________________________________________________________\n",
      " Layer (type)                   Output Shape         Param #     Connected to                     \n",
      "==================================================================================================\n",
      " input_1 (InputLayer)           [(None, 256)]        0           []                               \n",
      "                                                                                                  \n",
      " embedding (Embedding)          (None, 256, 768)     12423936    ['input_1[0][0]']                \n",
      "                                                                                                  \n",
      " conv1d (Conv1D)                (None, 256, 128)     295040      ['embedding[0][0]']              \n",
      "                                                                                                  \n",
      " conv1d_1 (Conv1D)              (None, 256, 64)      24640       ['conv1d[0][0]']                 \n",
      "                                                                                                  \n",
      " conv1d_2 (Conv1D)              (None, 256, 32)      6176        ['conv1d_1[0][0]']               \n",
      "                                                                                                  \n",
      " max_pooling1d (MaxPooling1D)   (None, 128, 32)      0           ['conv1d_2[0][0]']               \n",
      "                                                                                                  \n",
      " dropout (Dropout)              (None, 128, 32)      0           ['max_pooling1d[0][0]']          \n",
      "                                                                                                  \n",
      " conv1d_3 (Conv1D)              (None, 128, 16)      1552        ['dropout[0][0]']                \n",
      "                                                                                                  \n",
      " conv1d_4 (Conv1D)              (None, 128, 8)       392         ['conv1d_3[0][0]']               \n",
      "                                                                                                  \n",
      " global_average_pooling1d (Glob  (None, 8)           0           ['conv1d_4[0][0]']               \n",
      " alAveragePooling1D)                                                                              \n",
      "                                                                                                  \n",
      " dropout_1 (Dropout)            (None, 8)            0           ['global_average_pooling1d[0][0]'\n",
      "                                                                 ]                                \n",
      "                                                                                                  \n",
      " input_2 (InputLayer)           [(None, 256)]        0           []                               \n",
      "                                                                                                  \n",
      " dense (Dense)                  (None, 1)            9           ['dropout_1[0][0]']              \n",
      "                                                                                                  \n",
      "==================================================================================================\n",
      "Total params: 12,751,745\n",
      "Trainable params: 12,751,745\n",
      "Non-trainable params: 0\n",
      "__________________________________________________________________________________________________\n"
     ]
    }
   ],
   "source": [
    "embed_dim = 768\n",
    "embeddings_df = pd.read_csv(f\"../resources/embeddings/StanfordSentimentTreebank/SST2Processed2-train_dim{embed_dim}.csv\", index_col=0)\n",
    "n_attention_heads = 1\n",
    "emb_trainable = True\n",
    "experimet_name = \"cnn1d_1ATTENTION\"\n",
    "checkpoint_dir = f\"../resources/output/SST2Processed2/checkpoint_{experimet_name}_embed{embed_dim}.hdf5\"\n",
    "\n",
    "model, emb_layer = get_model(len(word_index), embed_dim, n_attention_heads=n_attention_heads, emb_trainable=emb_trainable)"
   ]
  },
  {
   "cell_type": "code",
   "execution_count": 11,
   "metadata": {},
   "outputs": [],
   "source": [
    "emb_wgts = emb_layer.get_weights()\n",
    "emb_wgts[0][0] = embeddings_df.iloc[0].values\n",
    "emb_wgts[0][1 - embeddings_df.shape[0] : ] = embeddings_df.values[1:]\n",
    "emb_layer.set_weights(emb_wgts)"
   ]
  },
  {
   "cell_type": "code",
   "execution_count": 12,
   "metadata": {},
   "outputs": [
    {
     "name": "stdout",
     "output_type": "stream",
     "text": [
      "Epoch 1/100\n",
      "134/134 [==============================] - ETA: 0s - loss: 0.6922 - accuracy: 0.5274\n",
      "Epoch 1: val_loss improved from inf to 0.68129, saving model to ../resources/output/SST2Processed2\\checkpoint_cnn1d_NO_ATTENTION_embed768.hdf5\n",
      "134/134 [==============================] - 51s 376ms/step - loss: 0.6922 - accuracy: 0.5274 - val_loss: 0.6813 - val_accuracy: 0.5831\n",
      "Epoch 2/100\n",
      "134/134 [==============================] - ETA: 0s - loss: 0.6385 - accuracy: 0.6250\n",
      "Epoch 2: val_loss improved from 0.68129 to 0.57933, saving model to ../resources/output/SST2Processed2\\checkpoint_cnn1d_NO_ATTENTION_embed768.hdf5\n",
      "134/134 [==============================] - 48s 362ms/step - loss: 0.6385 - accuracy: 0.6250 - val_loss: 0.5793 - val_accuracy: 0.6994\n",
      "Epoch 3/100\n",
      "134/134 [==============================] - ETA: 0s - loss: 0.4468 - accuracy: 0.7971\n",
      "Epoch 3: val_loss improved from 0.57933 to 0.54289, saving model to ../resources/output/SST2Processed2\\checkpoint_cnn1d_NO_ATTENTION_embed768.hdf5\n",
      "134/134 [==============================] - 48s 358ms/step - loss: 0.4468 - accuracy: 0.7971 - val_loss: 0.5429 - val_accuracy: 0.7530\n",
      "Epoch 4/100\n",
      "134/134 [==============================] - ETA: 0s - loss: 0.2663 - accuracy: 0.8947\n",
      "Epoch 4: val_loss did not improve from 0.54289\n",
      "134/134 [==============================] - 46s 342ms/step - loss: 0.2663 - accuracy: 0.8947 - val_loss: 0.6705 - val_accuracy: 0.7239\n",
      "Epoch 5/100\n",
      "134/134 [==============================] - ETA: 0s - loss: 0.1558 - accuracy: 0.9404\n",
      "Epoch 5: val_loss did not improve from 0.54289\n",
      "134/134 [==============================] - 45s 337ms/step - loss: 0.1558 - accuracy: 0.9404 - val_loss: 0.8418 - val_accuracy: 0.7221\n",
      "Epoch 6/100\n",
      "134/134 [==============================] - ETA: 0s - loss: 0.0855 - accuracy: 0.9662\n",
      "Epoch 6: val_loss did not improve from 0.54289\n",
      "134/134 [==============================] - 45s 338ms/step - loss: 0.0855 - accuracy: 0.9662 - val_loss: 1.2131 - val_accuracy: 0.7121\n",
      "Epoch 7/100\n",
      "134/134 [==============================] - ETA: 0s - loss: 0.0522 - accuracy: 0.9801\n",
      "Epoch 7: val_loss did not improve from 0.54289\n",
      "134/134 [==============================] - 46s 342ms/step - loss: 0.0522 - accuracy: 0.9801 - val_loss: 1.4442 - val_accuracy: 0.7184\n",
      "Epoch 8/100\n",
      "134/134 [==============================] - ETA: 0s - loss: 0.0456 - accuracy: 0.9830\n",
      "Epoch 8: val_loss did not improve from 0.54289\n",
      "134/134 [==============================] - 45s 335ms/step - loss: 0.0456 - accuracy: 0.9830 - val_loss: 1.6712 - val_accuracy: 0.7039\n",
      "Epoch 9/100\n",
      "134/134 [==============================] - ETA: 0s - loss: 0.0371 - accuracy: 0.9869\n",
      "Epoch 9: val_loss did not improve from 0.54289\n",
      "134/134 [==============================] - 45s 336ms/step - loss: 0.0371 - accuracy: 0.9869 - val_loss: 2.1232 - val_accuracy: 0.6939\n",
      "Epoch 10/100\n",
      "134/134 [==============================] - ETA: 0s - loss: 0.0362 - accuracy: 0.9877\n",
      "Epoch 10: val_loss did not improve from 0.54289\n",
      "134/134 [==============================] - 45s 337ms/step - loss: 0.0362 - accuracy: 0.9877 - val_loss: 2.1031 - val_accuracy: 0.6966\n",
      "Epoch 11/100\n",
      "134/134 [==============================] - ETA: 0s - loss: 0.0149 - accuracy: 0.9952\n",
      "Epoch 11: val_loss did not improve from 0.54289\n",
      "134/134 [==============================] - 45s 336ms/step - loss: 0.0149 - accuracy: 0.9952 - val_loss: 2.5189 - val_accuracy: 0.7103\n",
      "Epoch 12/100\n",
      "134/134 [==============================] - ETA: 0s - loss: 0.0152 - accuracy: 0.9949\n",
      "Epoch 12: val_loss did not improve from 0.54289\n",
      "134/134 [==============================] - 45s 336ms/step - loss: 0.0152 - accuracy: 0.9949 - val_loss: 2.6529 - val_accuracy: 0.6975\n",
      "Epoch 13/100\n",
      "134/134 [==============================] - ETA: 0s - loss: 0.0235 - accuracy: 0.9937\n",
      "Epoch 13: val_loss did not improve from 0.54289\n",
      "134/134 [==============================] - 45s 336ms/step - loss: 0.0235 - accuracy: 0.9937 - val_loss: 2.4781 - val_accuracy: 0.7021\n",
      "Epoch 14/100\n",
      "134/134 [==============================] - ETA: 0s - loss: 0.0147 - accuracy: 0.9949\n",
      "Epoch 14: val_loss did not improve from 0.54289\n",
      "134/134 [==============================] - 45s 336ms/step - loss: 0.0147 - accuracy: 0.9949 - val_loss: 2.5528 - val_accuracy: 0.7003\n",
      "Epoch 15/100\n",
      "134/134 [==============================] - ETA: 0s - loss: 0.0154 - accuracy: 0.9957\n",
      "Epoch 15: val_loss did not improve from 0.54289\n",
      "134/134 [==============================] - 45s 336ms/step - loss: 0.0154 - accuracy: 0.9957 - val_loss: 2.8587 - val_accuracy: 0.7094\n",
      "Epoch 16/100\n",
      "134/134 [==============================] - ETA: 0s - loss: 0.0055 - accuracy: 0.9985\n",
      "Epoch 16: val_loss did not improve from 0.54289\n",
      "134/134 [==============================] - 45s 336ms/step - loss: 0.0055 - accuracy: 0.9985 - val_loss: 3.2511 - val_accuracy: 0.7039\n",
      "Epoch 17/100\n",
      "134/134 [==============================] - ETA: 0s - loss: 0.0175 - accuracy: 0.9933\n",
      "Epoch 17: val_loss did not improve from 0.54289\n",
      "134/134 [==============================] - 45s 336ms/step - loss: 0.0175 - accuracy: 0.9933 - val_loss: 2.8781 - val_accuracy: 0.7021\n",
      "Epoch 18/100\n",
      "134/134 [==============================] - ETA: 0s - loss: 0.0088 - accuracy: 0.9968\n",
      "Epoch 18: val_loss did not improve from 0.54289\n",
      "134/134 [==============================] - 45s 336ms/step - loss: 0.0088 - accuracy: 0.9968 - val_loss: 3.3403 - val_accuracy: 0.7048\n",
      "Epoch 19/100\n",
      "134/134 [==============================] - ETA: 0s - loss: 0.0150 - accuracy: 0.9957\n",
      "Epoch 19: val_loss did not improve from 0.54289\n",
      "134/134 [==============================] - 45s 335ms/step - loss: 0.0150 - accuracy: 0.9957 - val_loss: 2.7592 - val_accuracy: 0.7039\n",
      "Epoch 20/100\n",
      "134/134 [==============================] - ETA: 0s - loss: 0.0058 - accuracy: 0.9986\n",
      "Epoch 20: val_loss did not improve from 0.54289\n",
      "134/134 [==============================] - 45s 337ms/step - loss: 0.0058 - accuracy: 0.9986 - val_loss: 3.1350 - val_accuracy: 0.7066\n",
      "Epoch 21/100\n",
      "134/134 [==============================] - ETA: 0s - loss: 0.0026 - accuracy: 0.9993\n",
      "Epoch 21: val_loss did not improve from 0.54289\n",
      "134/134 [==============================] - 45s 335ms/step - loss: 0.0026 - accuracy: 0.9993 - val_loss: 3.6039 - val_accuracy: 0.7012\n",
      "Epoch 22/100\n",
      "134/134 [==============================] - ETA: 0s - loss: 0.0068 - accuracy: 0.9984\n",
      "Epoch 22: val_loss did not improve from 0.54289\n",
      "134/134 [==============================] - 45s 335ms/step - loss: 0.0068 - accuracy: 0.9984 - val_loss: 3.6098 - val_accuracy: 0.7012\n",
      "Epoch 23/100\n",
      "134/134 [==============================] - ETA: 0s - loss: 0.0224 - accuracy: 0.9946\n",
      "Epoch 23: val_loss did not improve from 0.54289\n",
      "134/134 [==============================] - 45s 337ms/step - loss: 0.0224 - accuracy: 0.9946 - val_loss: 3.1310 - val_accuracy: 0.7021\n",
      "Epoch 24/100\n",
      "134/134 [==============================] - ETA: 0s - loss: 0.0146 - accuracy: 0.9952\n",
      "Epoch 24: val_loss did not improve from 0.54289\n",
      "134/134 [==============================] - 45s 336ms/step - loss: 0.0146 - accuracy: 0.9952 - val_loss: 2.8820 - val_accuracy: 0.6930\n",
      "Epoch 25/100\n",
      "134/134 [==============================] - ETA: 0s - loss: 0.0157 - accuracy: 0.9944\n",
      "Epoch 25: val_loss did not improve from 0.54289\n",
      "134/134 [==============================] - 45s 337ms/step - loss: 0.0157 - accuracy: 0.9944 - val_loss: 3.2577 - val_accuracy: 0.7048\n",
      "Epoch 26/100\n",
      "134/134 [==============================] - ETA: 0s - loss: 0.0067 - accuracy: 0.9984\n",
      "Epoch 26: val_loss did not improve from 0.54289\n",
      "134/134 [==============================] - 45s 336ms/step - loss: 0.0067 - accuracy: 0.9984 - val_loss: 3.3810 - val_accuracy: 0.7012\n",
      "Epoch 27/100\n",
      "134/134 [==============================] - ETA: 0s - loss: 0.0059 - accuracy: 0.9980\n",
      "Epoch 27: val_loss did not improve from 0.54289\n",
      "134/134 [==============================] - 46s 340ms/step - loss: 0.0059 - accuracy: 0.9980 - val_loss: 3.4425 - val_accuracy: 0.6939\n",
      "Epoch 28/100\n",
      "134/134 [==============================] - ETA: 0s - loss: 0.0069 - accuracy: 0.9988\n",
      "Epoch 28: val_loss did not improve from 0.54289\n",
      "134/134 [==============================] - 45s 337ms/step - loss: 0.0069 - accuracy: 0.9988 - val_loss: 3.4013 - val_accuracy: 0.7003\n",
      "Epoch 29/100\n",
      "134/134 [==============================] - ETA: 0s - loss: 0.0040 - accuracy: 0.9991\n",
      "Epoch 29: val_loss did not improve from 0.54289\n",
      "134/134 [==============================] - 45s 335ms/step - loss: 0.0040 - accuracy: 0.9991 - val_loss: 3.6785 - val_accuracy: 0.7030\n",
      "Epoch 30/100\n",
      "134/134 [==============================] - ETA: 0s - loss: 0.0053 - accuracy: 0.9984\n",
      "Epoch 30: val_loss did not improve from 0.54289\n",
      "134/134 [==============================] - 45s 335ms/step - loss: 0.0053 - accuracy: 0.9984 - val_loss: 4.2234 - val_accuracy: 0.6794\n",
      "Epoch 31/100\n",
      "134/134 [==============================] - ETA: 0s - loss: 0.0163 - accuracy: 0.9965\n",
      "Epoch 31: val_loss did not improve from 0.54289\n",
      "134/134 [==============================] - 45s 336ms/step - loss: 0.0163 - accuracy: 0.9965 - val_loss: 3.4894 - val_accuracy: 0.6921\n",
      "Epoch 32/100\n",
      "134/134 [==============================] - ETA: 0s - loss: 0.0098 - accuracy: 0.9971\n",
      "Epoch 32: val_loss did not improve from 0.54289\n",
      "134/134 [==============================] - 45s 335ms/step - loss: 0.0098 - accuracy: 0.9971 - val_loss: 3.2234 - val_accuracy: 0.7103\n",
      "Epoch 33/100\n",
      "134/134 [==============================] - ETA: 0s - loss: 0.0051 - accuracy: 0.9989\n",
      "Epoch 33: val_loss did not improve from 0.54289\n",
      "134/134 [==============================] - 45s 337ms/step - loss: 0.0051 - accuracy: 0.9989 - val_loss: 3.5647 - val_accuracy: 0.7184\n",
      "Epoch 34/100\n",
      "134/134 [==============================] - ETA: 0s - loss: 0.0075 - accuracy: 0.9981\n",
      "Epoch 34: val_loss did not improve from 0.54289\n",
      "134/134 [==============================] - 45s 336ms/step - loss: 0.0075 - accuracy: 0.9981 - val_loss: 3.6492 - val_accuracy: 0.7130\n",
      "Epoch 35/100\n",
      "134/134 [==============================] - ETA: 0s - loss: 0.0056 - accuracy: 0.9988\n",
      "Epoch 35: val_loss did not improve from 0.54289\n",
      "134/134 [==============================] - 45s 336ms/step - loss: 0.0056 - accuracy: 0.9988 - val_loss: 3.7097 - val_accuracy: 0.7121\n",
      "Epoch 36/100\n",
      "134/134 [==============================] - ETA: 0s - loss: 0.0066 - accuracy: 0.9981\n",
      "Epoch 36: val_loss did not improve from 0.54289\n",
      "134/134 [==============================] - 45s 337ms/step - loss: 0.0066 - accuracy: 0.9981 - val_loss: 3.8615 - val_accuracy: 0.6994\n",
      "Epoch 37/100\n",
      "134/134 [==============================] - ETA: 0s - loss: 0.0042 - accuracy: 0.9994\n",
      "Epoch 37: val_loss did not improve from 0.54289\n",
      "134/134 [==============================] - 45s 335ms/step - loss: 0.0042 - accuracy: 0.9994 - val_loss: 4.1754 - val_accuracy: 0.6957\n",
      "Epoch 38/100\n",
      "134/134 [==============================] - ETA: 0s - loss: 0.0040 - accuracy: 0.9989\n",
      "Epoch 38: val_loss did not improve from 0.54289\n",
      "134/134 [==============================] - 45s 336ms/step - loss: 0.0040 - accuracy: 0.9989 - val_loss: 5.1915 - val_accuracy: 0.6912\n",
      "Epoch 39/100\n",
      "134/134 [==============================] - ETA: 0s - loss: 0.0181 - accuracy: 0.9951\n",
      "Epoch 39: val_loss did not improve from 0.54289\n",
      "134/134 [==============================] - 45s 336ms/step - loss: 0.0181 - accuracy: 0.9951 - val_loss: 3.4863 - val_accuracy: 0.6876\n",
      "Epoch 40/100\n",
      "134/134 [==============================] - ETA: 0s - loss: 0.0086 - accuracy: 0.9984\n",
      "Epoch 40: val_loss did not improve from 0.54289\n",
      "134/134 [==============================] - 45s 338ms/step - loss: 0.0086 - accuracy: 0.9984 - val_loss: 3.2346 - val_accuracy: 0.7130\n",
      "Epoch 41/100\n",
      "134/134 [==============================] - ETA: 0s - loss: 0.0049 - accuracy: 0.9987\n",
      "Epoch 41: val_loss did not improve from 0.54289\n",
      "134/134 [==============================] - 45s 337ms/step - loss: 0.0049 - accuracy: 0.9987 - val_loss: 3.8648 - val_accuracy: 0.7021\n",
      "Epoch 42/100\n",
      "134/134 [==============================] - ETA: 0s - loss: 0.0047 - accuracy: 0.9984\n",
      "Epoch 42: val_loss did not improve from 0.54289\n",
      "134/134 [==============================] - 45s 337ms/step - loss: 0.0047 - accuracy: 0.9984 - val_loss: 4.4495 - val_accuracy: 0.7084\n",
      "Epoch 43/100\n",
      "134/134 [==============================] - ETA: 0s - loss: 0.0012 - accuracy: 0.9998\n",
      "Epoch 43: val_loss did not improve from 0.54289\n",
      "134/134 [==============================] - 45s 337ms/step - loss: 0.0012 - accuracy: 0.9998 - val_loss: 4.7411 - val_accuracy: 0.7066\n",
      "Epoch 44/100\n",
      "134/134 [==============================] - ETA: 0s - loss: 0.0015 - accuracy: 0.9998\n",
      "Epoch 44: val_loss did not improve from 0.54289\n",
      "134/134 [==============================] - 45s 338ms/step - loss: 0.0015 - accuracy: 0.9998 - val_loss: 4.9207 - val_accuracy: 0.7057\n",
      "Epoch 45/100\n",
      "134/134 [==============================] - ETA: 0s - loss: 2.6121e-04 - accuracy: 1.0000\n",
      "Epoch 45: val_loss did not improve from 0.54289\n",
      "134/134 [==============================] - 45s 336ms/step - loss: 2.6121e-04 - accuracy: 1.0000 - val_loss: 5.1051 - val_accuracy: 0.7148\n",
      "Epoch 46/100\n",
      "134/134 [==============================] - ETA: 0s - loss: 0.0050 - accuracy: 0.9982\n",
      "Epoch 46: val_loss did not improve from 0.54289\n",
      "134/134 [==============================] - 45s 337ms/step - loss: 0.0050 - accuracy: 0.9982 - val_loss: 4.8816 - val_accuracy: 0.7121\n",
      "Epoch 47/100\n",
      "134/134 [==============================] - ETA: 0s - loss: 0.0089 - accuracy: 0.9974\n",
      "Epoch 47: val_loss did not improve from 0.54289\n",
      "134/134 [==============================] - 45s 339ms/step - loss: 0.0089 - accuracy: 0.9974 - val_loss: 4.6806 - val_accuracy: 0.6930\n",
      "Epoch 48/100\n",
      "134/134 [==============================] - ETA: 0s - loss: 0.0079 - accuracy: 0.9982\n",
      "Epoch 48: val_loss did not improve from 0.54289\n",
      "134/134 [==============================] - 45s 338ms/step - loss: 0.0079 - accuracy: 0.9982 - val_loss: 4.8325 - val_accuracy: 0.6866\n",
      "Epoch 49/100\n",
      "134/134 [==============================] - ETA: 0s - loss: 0.0102 - accuracy: 0.9972\n",
      "Epoch 49: val_loss did not improve from 0.54289\n",
      "134/134 [==============================] - 45s 337ms/step - loss: 0.0102 - accuracy: 0.9972 - val_loss: 4.1784 - val_accuracy: 0.7030\n",
      "Epoch 50/100\n",
      "134/134 [==============================] - ETA: 0s - loss: 0.0041 - accuracy: 0.9984\n",
      "Epoch 50: val_loss did not improve from 0.54289\n",
      "134/134 [==============================] - 45s 337ms/step - loss: 0.0041 - accuracy: 0.9984 - val_loss: 4.1661 - val_accuracy: 0.6948\n",
      "Epoch 51/100\n",
      "134/134 [==============================] - ETA: 0s - loss: 0.0019 - accuracy: 0.9994\n",
      "Epoch 51: val_loss did not improve from 0.54289\n",
      "134/134 [==============================] - 45s 338ms/step - loss: 0.0019 - accuracy: 0.9994 - val_loss: 4.5332 - val_accuracy: 0.6975\n",
      "Epoch 52/100\n",
      "134/134 [==============================] - ETA: 0s - loss: 0.0022 - accuracy: 0.9999\n",
      "Epoch 52: val_loss did not improve from 0.54289\n",
      "134/134 [==============================] - 45s 336ms/step - loss: 0.0022 - accuracy: 0.9999 - val_loss: 4.5797 - val_accuracy: 0.6939\n",
      "Epoch 53/100\n",
      "134/134 [==============================] - ETA: 0s - loss: 0.0012 - accuracy: 0.9996\n",
      "Epoch 53: val_loss did not improve from 0.54289\n",
      "134/134 [==============================] - 45s 337ms/step - loss: 0.0012 - accuracy: 0.9996 - val_loss: 4.6880 - val_accuracy: 0.7003\n",
      "Epoch 54/100\n",
      "134/134 [==============================] - ETA: 0s - loss: 2.8478e-04 - accuracy: 1.0000\n",
      "Epoch 54: val_loss did not improve from 0.54289\n",
      "134/134 [==============================] - 45s 337ms/step - loss: 2.8478e-04 - accuracy: 1.0000 - val_loss: 5.0965 - val_accuracy: 0.6966\n",
      "Epoch 55/100\n",
      "134/134 [==============================] - ETA: 0s - loss: 2.1370e-04 - accuracy: 1.0000\n",
      "Epoch 55: val_loss did not improve from 0.54289\n",
      "134/134 [==============================] - 45s 336ms/step - loss: 2.1370e-04 - accuracy: 1.0000 - val_loss: 5.1766 - val_accuracy: 0.7003\n",
      "Epoch 56/100\n",
      "134/134 [==============================] - ETA: 0s - loss: 2.0153e-04 - accuracy: 1.0000\n",
      "Epoch 56: val_loss did not improve from 0.54289\n",
      "134/134 [==============================] - 45s 337ms/step - loss: 2.0153e-04 - accuracy: 1.0000 - val_loss: 5.3885 - val_accuracy: 0.7003\n",
      "Epoch 57/100\n",
      "134/134 [==============================] - ETA: 0s - loss: 4.2240e-04 - accuracy: 0.9998\n",
      "Epoch 57: val_loss did not improve from 0.54289\n",
      "134/134 [==============================] - 45s 337ms/step - loss: 4.2240e-04 - accuracy: 0.9998 - val_loss: 5.6280 - val_accuracy: 0.6921\n",
      "Epoch 58/100\n",
      "134/134 [==============================] - ETA: 0s - loss: 8.4227e-04 - accuracy: 0.9999\n",
      "Epoch 58: val_loss did not improve from 0.54289\n",
      "134/134 [==============================] - 45s 336ms/step - loss: 8.4227e-04 - accuracy: 0.9999 - val_loss: 6.2186 - val_accuracy: 0.6939\n",
      "Epoch 59/100\n",
      "134/134 [==============================] - ETA: 0s - loss: 7.6637e-04 - accuracy: 0.9998\n",
      "Epoch 59: val_loss did not improve from 0.54289\n",
      "134/134 [==============================] - 45s 337ms/step - loss: 7.6637e-04 - accuracy: 0.9998 - val_loss: 6.0167 - val_accuracy: 0.6885\n",
      "Epoch 60/100\n",
      "134/134 [==============================] - ETA: 0s - loss: 0.0118 - accuracy: 0.9971\n",
      "Epoch 60: val_loss did not improve from 0.54289\n",
      "134/134 [==============================] - 45s 337ms/step - loss: 0.0118 - accuracy: 0.9971 - val_loss: 4.4025 - val_accuracy: 0.6894\n",
      "Epoch 61/100\n",
      "134/134 [==============================] - ETA: 0s - loss: 0.0180 - accuracy: 0.9943\n",
      "Epoch 61: val_loss did not improve from 0.54289\n",
      "134/134 [==============================] - 45s 337ms/step - loss: 0.0180 - accuracy: 0.9943 - val_loss: 3.4882 - val_accuracy: 0.6966\n",
      "Epoch 62/100\n",
      "134/134 [==============================] - ETA: 0s - loss: 0.0015 - accuracy: 0.9998\n",
      "Epoch 62: val_loss did not improve from 0.54289\n",
      "134/134 [==============================] - 45s 337ms/step - loss: 0.0015 - accuracy: 0.9998 - val_loss: 4.2591 - val_accuracy: 0.7057\n",
      "Epoch 63/100\n",
      "134/134 [==============================] - ETA: 0s - loss: 4.5498e-04 - accuracy: 1.0000\n",
      "Epoch 63: val_loss did not improve from 0.54289\n",
      "134/134 [==============================] - 45s 336ms/step - loss: 4.5498e-04 - accuracy: 1.0000 - val_loss: 4.7077 - val_accuracy: 0.7084\n",
      "Epoch 64/100\n",
      "134/134 [==============================] - ETA: 0s - loss: 2.4761e-04 - accuracy: 1.0000\n",
      "Epoch 64: val_loss did not improve from 0.54289\n",
      "134/134 [==============================] - 45s 336ms/step - loss: 2.4761e-04 - accuracy: 1.0000 - val_loss: 5.0181 - val_accuracy: 0.7066\n",
      "Epoch 65/100\n",
      "134/134 [==============================] - ETA: 0s - loss: 1.4082e-04 - accuracy: 1.0000\n",
      "Epoch 65: val_loss did not improve from 0.54289\n",
      "134/134 [==============================] - 45s 336ms/step - loss: 1.4082e-04 - accuracy: 1.0000 - val_loss: 5.2428 - val_accuracy: 0.7039\n",
      "Epoch 66/100\n",
      "134/134 [==============================] - ETA: 0s - loss: 1.8310e-04 - accuracy: 0.9999\n",
      "Epoch 66: val_loss did not improve from 0.54289\n",
      "134/134 [==============================] - 45s 336ms/step - loss: 1.8310e-04 - accuracy: 0.9999 - val_loss: 5.4875 - val_accuracy: 0.7048\n",
      "Epoch 67/100\n",
      "134/134 [==============================] - ETA: 0s - loss: 2.5141e-04 - accuracy: 0.9999\n",
      "Epoch 67: val_loss did not improve from 0.54289\n",
      "134/134 [==============================] - 45s 338ms/step - loss: 2.5141e-04 - accuracy: 0.9999 - val_loss: 5.4837 - val_accuracy: 0.7021\n",
      "Epoch 68/100\n",
      "134/134 [==============================] - ETA: 0s - loss: 7.7238e-04 - accuracy: 0.9998\n",
      "Epoch 68: val_loss did not improve from 0.54289\n",
      "134/134 [==============================] - 45s 339ms/step - loss: 7.7238e-04 - accuracy: 0.9998 - val_loss: 5.9980 - val_accuracy: 0.6912\n",
      "Epoch 69/100\n",
      "134/134 [==============================] - ETA: 0s - loss: 0.0090 - accuracy: 0.9977\n",
      "Epoch 69: val_loss did not improve from 0.54289\n",
      "134/134 [==============================] - 45s 336ms/step - loss: 0.0090 - accuracy: 0.9977 - val_loss: 4.7000 - val_accuracy: 0.6894\n",
      "Epoch 70/100\n",
      "134/134 [==============================] - ETA: 0s - loss: 0.0098 - accuracy: 0.9977\n",
      "Epoch 70: val_loss did not improve from 0.54289\n",
      "134/134 [==============================] - 45s 337ms/step - loss: 0.0098 - accuracy: 0.9977 - val_loss: 4.1834 - val_accuracy: 0.7048\n",
      "Epoch 71/100\n",
      "134/134 [==============================] - ETA: 0s - loss: 0.0029 - accuracy: 0.9991\n",
      "Epoch 71: val_loss did not improve from 0.54289\n",
      "134/134 [==============================] - 45s 336ms/step - loss: 0.0029 - accuracy: 0.9991 - val_loss: 4.5225 - val_accuracy: 0.7130\n",
      "Epoch 72/100\n",
      "134/134 [==============================] - ETA: 0s - loss: 0.0027 - accuracy: 0.9994\n",
      "Epoch 72: val_loss did not improve from 0.54289\n",
      "134/134 [==============================] - 45s 339ms/step - loss: 0.0027 - accuracy: 0.9994 - val_loss: 4.6470 - val_accuracy: 0.6939\n",
      "Epoch 73/100\n",
      "134/134 [==============================] - ETA: 0s - loss: 0.0014 - accuracy: 0.9998\n",
      "Epoch 73: val_loss did not improve from 0.54289\n",
      "134/134 [==============================] - 46s 340ms/step - loss: 0.0014 - accuracy: 0.9998 - val_loss: 4.9265 - val_accuracy: 0.6994\n"
     ]
    }
   ],
   "source": [
    "model.compile(optimizer='adam',\n",
    "              loss='binary_crossentropy',\n",
    "              metrics=['accuracy'])\n",
    "history = model.fit([x_train, mask_train],\n",
    "                    y_train,\n",
    "                    epochs=100,\n",
    "                    batch_size=64,\n",
    "                    validation_data=([x_val, mask_val], y_val),\n",
    "                    callbacks=[\n",
    "                        keras.callbacks.ModelCheckpoint(\n",
    "                            checkpoint_dir,\n",
    "                            save_best_only=True,\n",
    "                            save_weights_only=False,\n",
    "                            verbose=1\n",
    "                        ),\n",
    "                        keras.callbacks.EarlyStopping(\n",
    "                            monitor='accuracy',\n",
    "                            min_delta=.001,\n",
    "                            patience=30\n",
    "                        )\n",
    "                    ],\n",
    "                    verbose=1)"
   ]
  },
  {
   "cell_type": "code",
   "execution_count": 13,
   "metadata": {},
   "outputs": [],
   "source": [
    "model.load_weights(checkpoint_dir)"
   ]
  },
  {
   "cell_type": "code",
   "execution_count": 14,
   "metadata": {},
   "outputs": [
    {
     "data": {
      "text/plain": [
       "(2210, (2210, 256), (2210, 256), (2210,))"
      ]
     },
     "execution_count": 14,
     "metadata": {},
     "output_type": "execute_result"
    }
   ],
   "source": [
    "test_dataframe = pd.read_csv(\"../resources/datasets/StanfordSentimentTreebank/split/SST2Processed2-test.csv\", index_col=0)\n",
    "ids_test, x_test, mask_test, y_test = get_dataset(test_dataframe, word_index)\n",
    "len(ids_test), x_test.shape, mask_test.shape, y_test.shape"
   ]
  },
  {
   "cell_type": "code",
   "execution_count": 15,
   "metadata": {},
   "outputs": [
    {
     "name": "stdout",
     "output_type": "stream",
     "text": [
      "70/70 [==============================] - 2s 25ms/step\n"
     ]
    },
    {
     "data": {
      "text/plain": [
       "(2210, 1)"
      ]
     },
     "execution_count": 15,
     "metadata": {},
     "output_type": "execute_result"
    }
   ],
   "source": [
    "preds = model.predict([x_test, mask_test])\n",
    "preds.shape"
   ]
  },
  {
   "cell_type": "code",
   "execution_count": 16,
   "metadata": {},
   "outputs": [
    {
     "data": {
      "text/html": [
       "<div>\n",
       "<style scoped>\n",
       "    .dataframe tbody tr th:only-of-type {\n",
       "        vertical-align: middle;\n",
       "    }\n",
       "\n",
       "    .dataframe tbody tr th {\n",
       "        vertical-align: top;\n",
       "    }\n",
       "\n",
       "    .dataframe thead th {\n",
       "        text-align: right;\n",
       "    }\n",
       "</style>\n",
       "<table border=\"1\" class=\"dataframe\">\n",
       "  <thead>\n",
       "    <tr style=\"text-align: right;\">\n",
       "      <th></th>\n",
       "      <th>predictions</th>\n",
       "    </tr>\n",
       "  </thead>\n",
       "  <tbody>\n",
       "    <tr>\n",
       "      <th>3</th>\n",
       "      <td>0.180711</td>\n",
       "    </tr>\n",
       "    <tr>\n",
       "      <th>4</th>\n",
       "      <td>0.723724</td>\n",
       "    </tr>\n",
       "    <tr>\n",
       "      <th>5</th>\n",
       "      <td>0.840086</td>\n",
       "    </tr>\n",
       "    <tr>\n",
       "      <th>6</th>\n",
       "      <td>0.768156</td>\n",
       "    </tr>\n",
       "    <tr>\n",
       "      <th>7</th>\n",
       "      <td>0.933851</td>\n",
       "    </tr>\n",
       "    <tr>\n",
       "      <th>...</th>\n",
       "      <td>...</td>\n",
       "    </tr>\n",
       "    <tr>\n",
       "      <th>11621</th>\n",
       "      <td>0.630594</td>\n",
       "    </tr>\n",
       "    <tr>\n",
       "      <th>11623</th>\n",
       "      <td>0.943358</td>\n",
       "    </tr>\n",
       "    <tr>\n",
       "      <th>11626</th>\n",
       "      <td>0.848387</td>\n",
       "    </tr>\n",
       "    <tr>\n",
       "      <th>11628</th>\n",
       "      <td>0.171943</td>\n",
       "    </tr>\n",
       "    <tr>\n",
       "      <th>11798</th>\n",
       "      <td>0.267872</td>\n",
       "    </tr>\n",
       "  </tbody>\n",
       "</table>\n",
       "<p>2210 rows × 1 columns</p>\n",
       "</div>"
      ],
      "text/plain": [
       "       predictions\n",
       "3         0.180711\n",
       "4         0.723724\n",
       "5         0.840086\n",
       "6         0.768156\n",
       "7         0.933851\n",
       "...            ...\n",
       "11621     0.630594\n",
       "11623     0.943358\n",
       "11626     0.848387\n",
       "11628     0.171943\n",
       "11798     0.267872\n",
       "\n",
       "[2210 rows x 1 columns]"
      ]
     },
     "execution_count": 16,
     "metadata": {},
     "output_type": "execute_result"
    }
   ],
   "source": [
    "preds_df = pd.DataFrame(preds, index=ids_test, columns=[\"predictions\"])\n",
    "preds_df"
   ]
  },
  {
   "cell_type": "code",
   "execution_count": 17,
   "metadata": {},
   "outputs": [
    {
     "data": {
      "text/html": [
       "<div>\n",
       "<style scoped>\n",
       "    .dataframe tbody tr th:only-of-type {\n",
       "        vertical-align: middle;\n",
       "    }\n",
       "\n",
       "    .dataframe tbody tr th {\n",
       "        vertical-align: top;\n",
       "    }\n",
       "\n",
       "    .dataframe thead th {\n",
       "        text-align: right;\n",
       "    }\n",
       "</style>\n",
       "<table border=\"1\" class=\"dataframe\">\n",
       "  <thead>\n",
       "    <tr style=\"text-align: right;\">\n",
       "      <th></th>\n",
       "      <th>text</th>\n",
       "      <th>phrase_id</th>\n",
       "      <th>class</th>\n",
       "      <th>predictions</th>\n",
       "    </tr>\n",
       "  </thead>\n",
       "  <tbody>\n",
       "    <tr>\n",
       "      <th>3</th>\n",
       "      <td>&lt;start&gt; effective but too tepid biopic</td>\n",
       "      <td>13995</td>\n",
       "      <td>0.513890</td>\n",
       "      <td>0.180711</td>\n",
       "    </tr>\n",
       "    <tr>\n",
       "      <th>4</th>\n",
       "      <td>&lt;start&gt; if you sometimes like to go to the mov...</td>\n",
       "      <td>14123</td>\n",
       "      <td>0.736110</td>\n",
       "      <td>0.723724</td>\n",
       "    </tr>\n",
       "    <tr>\n",
       "      <th>5</th>\n",
       "      <td>&lt;start&gt; emerges as something rare an issue mov...</td>\n",
       "      <td>13999</td>\n",
       "      <td>0.861110</td>\n",
       "      <td>0.840086</td>\n",
       "    </tr>\n",
       "    <tr>\n",
       "      <th>6</th>\n",
       "      <td>&lt;start&gt; the film provides some great insight i...</td>\n",
       "      <td>14498</td>\n",
       "      <td>0.597220</td>\n",
       "      <td>0.768156</td>\n",
       "    </tr>\n",
       "    <tr>\n",
       "      <th>7</th>\n",
       "      <td>&lt;start&gt; offers that rare combination of entert...</td>\n",
       "      <td>14351</td>\n",
       "      <td>0.833330</td>\n",
       "      <td>0.933851</td>\n",
       "    </tr>\n",
       "    <tr>\n",
       "      <th>...</th>\n",
       "      <td>...</td>\n",
       "      <td>...</td>\n",
       "      <td>...</td>\n",
       "      <td>...</td>\n",
       "    </tr>\n",
       "    <tr>\n",
       "      <th>11621</th>\n",
       "      <td>&lt;start&gt; an imaginative comedythriller</td>\n",
       "      <td>13851</td>\n",
       "      <td>0.777780</td>\n",
       "      <td>0.630594</td>\n",
       "    </tr>\n",
       "    <tr>\n",
       "      <th>11623</th>\n",
       "      <td>&lt;start&gt; a rare beautiful film</td>\n",
       "      <td>18182</td>\n",
       "      <td>0.916670</td>\n",
       "      <td>0.943358</td>\n",
       "    </tr>\n",
       "    <tr>\n",
       "      <th>11626</th>\n",
       "      <td>&lt;start&gt; an hilarious romantic comedy</td>\n",
       "      <td>23211</td>\n",
       "      <td>0.888890</td>\n",
       "      <td>0.848387</td>\n",
       "    </tr>\n",
       "    <tr>\n",
       "      <th>11628</th>\n",
       "      <td>&lt;start&gt; never sinks into exploitation</td>\n",
       "      <td>26177</td>\n",
       "      <td>0.625000</td>\n",
       "      <td>0.171943</td>\n",
       "    </tr>\n",
       "    <tr>\n",
       "      <th>11798</th>\n",
       "      <td>&lt;start&gt; u nrelentingly stupid</td>\n",
       "      <td>141831</td>\n",
       "      <td>0.069444</td>\n",
       "      <td>0.267872</td>\n",
       "    </tr>\n",
       "  </tbody>\n",
       "</table>\n",
       "<p>2210 rows × 4 columns</p>\n",
       "</div>"
      ],
      "text/plain": [
       "                                                    text  phrase_id     class  \\\n",
       "3                 <start> effective but too tepid biopic      13995  0.513890   \n",
       "4      <start> if you sometimes like to go to the mov...      14123  0.736110   \n",
       "5      <start> emerges as something rare an issue mov...      13999  0.861110   \n",
       "6      <start> the film provides some great insight i...      14498  0.597220   \n",
       "7      <start> offers that rare combination of entert...      14351  0.833330   \n",
       "...                                                  ...        ...       ...   \n",
       "11621              <start> an imaginative comedythriller      13851  0.777780   \n",
       "11623                      <start> a rare beautiful film      18182  0.916670   \n",
       "11626               <start> an hilarious romantic comedy      23211  0.888890   \n",
       "11628              <start> never sinks into exploitation      26177  0.625000   \n",
       "11798                      <start> u nrelentingly stupid     141831  0.069444   \n",
       "\n",
       "       predictions  \n",
       "3         0.180711  \n",
       "4         0.723724  \n",
       "5         0.840086  \n",
       "6         0.768156  \n",
       "7         0.933851  \n",
       "...            ...  \n",
       "11621     0.630594  \n",
       "11623     0.943358  \n",
       "11626     0.848387  \n",
       "11628     0.171943  \n",
       "11798     0.267872  \n",
       "\n",
       "[2210 rows x 4 columns]"
      ]
     },
     "execution_count": 17,
     "metadata": {},
     "output_type": "execute_result"
    }
   ],
   "source": [
    "dataset_with_preds_df = pd.concat([test_dataframe, preds_df], axis=1)\n",
    "dataset_with_preds_df"
   ]
  },
  {
   "cell_type": "code",
   "execution_count": 18,
   "metadata": {},
   "outputs": [
    {
     "data": {
      "text/plain": [
       "0.7552036199095022"
      ]
     },
     "execution_count": 18,
     "metadata": {},
     "output_type": "execute_result"
    }
   ],
   "source": [
    "hits, total = 0, 0\n",
    "for _, row in dataset_with_preds_df.iterrows() :\n",
    "    total += 1\n",
    "    pred  = row[\"predictions\"] >= .5\n",
    "    label = row[\"class\"]       >= .5\n",
    "    if pred == label : \n",
    "        hits += 1\n",
    "accuracy = hits / total\n",
    "accuracy"
   ]
  },
  {
   "cell_type": "code",
   "execution_count": 19,
   "metadata": {},
   "outputs": [
    {
     "data": {
      "text/plain": [
       "0.19856765723799943"
      ]
     },
     "execution_count": 19,
     "metadata": {},
     "output_type": "execute_result"
    }
   ],
   "source": [
    "hits, total = 0, 0\n",
    "for _, row in dataset_with_preds_df.iterrows() :\n",
    "    total += 1\n",
    "    pred  = row[\"predictions\"]\n",
    "    label = row[\"class\"]\n",
    "    diff = label - pred\n",
    "    hits += abs(diff)\n",
    "avg_dev = hits / total\n",
    "avg_dev"
   ]
  },
  {
   "cell_type": "code",
   "execution_count": 20,
   "metadata": {},
   "outputs": [
    {
     "name": "stdout",
     "output_type": "stream",
     "text": [
      "851 818 281 260\n"
     ]
    }
   ],
   "source": [
    "true_positives, true_negatives, false_positives, false_negatives = 0, 0, 0, 0\n",
    "for _, row in dataset_with_preds_df.iterrows() :\n",
    "    pred  = row[\"predictions\"] >= .5\n",
    "    label = row[\"class\"]       >= .5\n",
    "    if pred == label :\n",
    "        if pred :\n",
    "            true_positives  += 1\n",
    "        else :\n",
    "            true_negatives  += 1\n",
    "    else :\n",
    "        if pred :\n",
    "            false_positives += 1\n",
    "        else :\n",
    "            false_negatives += 1\n",
    "print(true_positives, true_negatives, false_positives, false_negatives)"
   ]
  },
  {
   "cell_type": "code",
   "execution_count": 21,
   "metadata": {},
   "outputs": [
    {
     "data": {
      "text/plain": [
       "0.7517667844522968"
      ]
     },
     "execution_count": 21,
     "metadata": {},
     "output_type": "execute_result"
    }
   ],
   "source": [
    "precision = true_positives / (true_positives + false_positives)\n",
    "precision"
   ]
  },
  {
   "cell_type": "code",
   "execution_count": 22,
   "metadata": {},
   "outputs": [
    {
     "data": {
      "text/plain": [
       "0.765976597659766"
      ]
     },
     "execution_count": 22,
     "metadata": {},
     "output_type": "execute_result"
    }
   ],
   "source": [
    "recall = true_positives / (true_positives + false_negatives)\n",
    "recall"
   ]
  },
  {
   "cell_type": "code",
   "execution_count": 23,
   "metadata": {},
   "outputs": [
    {
     "data": {
      "text/plain": [
       "0.7588051716451182"
      ]
     },
     "execution_count": 23,
     "metadata": {},
     "output_type": "execute_result"
    }
   ],
   "source": [
    "f1 = (2 * precision * recall) / (precision + recall)\n",
    "f1"
   ]
  },
  {
   "cell_type": "code",
   "execution_count": 24,
   "metadata": {},
   "outputs": [],
   "source": [
    "eval_dict = {\n",
    "    'model'     : checkpoint_dir,\n",
    "    'accuracy'  : accuracy,\n",
    "    'precision' : precision,\n",
    "    'recall'    : recall,\n",
    "    'f1-score'  : f1\n",
    "}"
   ]
  },
  {
   "cell_type": "code",
   "execution_count": 25,
   "metadata": {},
   "outputs": [],
   "source": [
    "with open(f\"{eval_dict['model']}-eval-dict.json\", \"w\") as f :\n",
    "    f.write(json.dumps(eval_dict))"
   ]
  }
 ],
 "metadata": {
  "kernelspec": {
   "display_name": "Python 3.10.4 64-bit",
   "language": "python",
   "name": "python3"
  },
  "language_info": {
   "codemirror_mode": {
    "name": "ipython",
    "version": 3
   },
   "file_extension": ".py",
   "mimetype": "text/x-python",
   "name": "python",
   "nbconvert_exporter": "python",
   "pygments_lexer": "ipython3",
   "version": "3.10.4"
  },
  "orig_nbformat": 4,
  "vscode": {
   "interpreter": {
    "hash": "fb071969cc081d156db4658a52cc12ff3302089485c0c8cb524fcf02c6362775"
   }
  }
 },
 "nbformat": 4,
 "nbformat_minor": 2
}
