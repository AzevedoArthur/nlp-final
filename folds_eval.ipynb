{
 "cells": [
  {
   "cell_type": "code",
   "execution_count": 1,
   "metadata": {},
   "outputs": [],
   "source": [
    "import json, os\n",
    "import pandas as pd\n",
    "import numpy as np"
   ]
  },
  {
   "cell_type": "code",
   "execution_count": 3,
   "metadata": {},
   "outputs": [
    {
     "data": {
      "text/plain": [
       "['checkpoint_lstm_NO_ATTENTION_embed768',\n",
       " 'checkpoint_lstm_WITH_ATTENTION_embed768']"
      ]
     },
     "execution_count": 3,
     "metadata": {},
     "output_type": "execute_result"
    }
   ],
   "source": [
    "os.listdir(\"../resources/output/TweetsProcessed2/lstm\")"
   ]
  },
  {
   "cell_type": "code",
   "execution_count": null,
   "metadata": {},
   "outputs": [],
   "source": [
    "experiments = [\n",
    " '../resources/output/TweetsProcessed2/cnn1d/checkpoint_cnn1d_STARTATTENTION0_ENDATTENTION0_embed768',\n",
    " '../resources/output/TweetsProcessed2/cnn1d/checkpoint_cnn1d_STARTATTENTION0_ENDATTENTION1_embed768',\n",
    " '../resources/output/TweetsProcessed2/cnn1d/checkpoint_cnn1d_STARTATTENTION0_ENDATTENTION1_LSTM_END_RETSEQ_embed768',\n",
    " '../resources/output/TweetsProcessed2/lstm/checkpoint_lstm_WITH_ATTENTION_embed768'\n",
    "]\n",
    "for experiment_dir in experiments :\n",
    "    accuracies = []\n",
    "    for i_fold in range(10) :\n",
    "        preds_df = pd.read_csv(f\"{experiment_dir}/fold{i_fold + 1}-predictions.csv\", index_col=0)\n",
    "\n",
    "        hits = 0\n",
    "        for _, row in preds_df.iterrows() :\n",
    "            truth = row[\"class\"]\n",
    "            confidence_0 = row[\"preds_0\"]\n",
    "            confidence_1 = row[\"preds_1\"]\n",
    "            confidence_2 = row[\"preds_2\"]\n",
    "            pred = np.argmax([confidence_0, confidence_1, confidence_2])\n",
    "            if truth == pred : \n",
    "                hits += 1\n",
    "        accuracy = hits / preds_df.shape[0]\n",
    "        accuracies.append(accuracy)\n",
    "    print(experiment_dir)\n",
    "    for fold, acc in enumerate(accuracies) :\n",
    "        print(\"   \", f\"Fold {fold + 1}:\", acc)\n",
    "    print(\"    Average:\", np.mean(accuracies))"
   ]
  }
 ],
 "metadata": {
  "kernelspec": {
   "display_name": "Python 3.10.4 64-bit",
   "language": "python",
   "name": "python3"
  },
  "language_info": {
   "codemirror_mode": {
    "name": "ipython",
    "version": 3
   },
   "file_extension": ".py",
   "mimetype": "text/x-python",
   "name": "python",
   "nbconvert_exporter": "python",
   "pygments_lexer": "ipython3",
   "version": "3.10.4"
  },
  "orig_nbformat": 4,
  "vscode": {
   "interpreter": {
    "hash": "fb071969cc081d156db4658a52cc12ff3302089485c0c8cb524fcf02c6362775"
   }
  }
 },
 "nbformat": 4,
 "nbformat_minor": 2
}
