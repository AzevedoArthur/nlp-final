{
 "cells": [
  {
   "cell_type": "code",
   "execution_count": 1,
   "metadata": {},
   "outputs": [],
   "source": [
    "import tensorflow as tf\n",
    "from tensorflow import keras\n",
    "\n",
    "import numpy as np"
   ]
  },
  {
   "cell_type": "code",
   "execution_count": 11,
   "metadata": {},
   "outputs": [],
   "source": [
    "def get_attention(inputs, mask, n_heads, causal) :\n",
    "    if n_heads == 1 :\n",
    "        attention = keras.layers.Attention(causal=causal)(\n",
    "            [\n",
    "            inputs, \n",
    "            inputs\n",
    "            ],\n",
    "            mask=[ \n",
    "            mask, \n",
    "            mask\n",
    "            ]\n",
    "        )\n",
    "    elif n_heads > 1 :\n",
    "        attentions = []\n",
    "        for _ in range(n_heads) :\n",
    "            attentions.append(\n",
    "                keras.layers.Attention(causal=causal)(\n",
    "                    [\n",
    "                        inputs, \n",
    "                        inputs\n",
    "                    ],\n",
    "                    mask=[ \n",
    "                        mask, \n",
    "                        mask\n",
    "                    ]\n",
    "                )\n",
    "            )\n",
    "        attention = keras.layers.Add()(attentions)\n",
    "        attention = keras.layers.BatchNormalization()(attention)\n",
    "    else :\n",
    "        return inputs\n",
    "    return attention\n",
    "\n",
    "def pooling_on_mask(inputs_mask:tf.Tensor) :\n",
    "    inputs_mask = tf.cast(inputs_mask, tf.int8)\n",
    "    shape = inputs_mask.get_shape().as_list()\n",
    "    inputs_mask = keras.layers.Reshape((shape[1], 1))(inputs_mask)\n",
    "    inputs_mask = keras.layers.MaxPooling1D(pool_size=2, padding='same')(inputs_mask)\n",
    "    shape = inputs_mask.get_shape().as_list()\n",
    "    inputs_mask = keras.layers.Reshape((shape[1],))(inputs_mask)\n",
    "    inputs_mask = tf.cast(inputs_mask, tf.bool)\n",
    "    return inputs_mask\n",
    "\n",
    "def get_model(vocab_size, \n",
    "              emb_dim, \n",
    "              max_len=256, \n",
    "              n_attention_heads=6, \n",
    "              n_end_attention_heads=0, \n",
    "              emb_trainable=True, \n",
    "              causal=False, \n",
    "              with_pooling=False,\n",
    "              residual_connections=False,\n",
    "              global_avg_pool=True) :\n",
    "    inputs      = tf.keras.Input(shape=(max_len,), dtype='int32')\n",
    "    inputs_mask = tf.keras.Input(shape=(max_len,), dtype='bool')\n",
    "    mask = inputs_mask\n",
    "\n",
    "    embedding_layer = keras.layers.Embedding(vocab_size, emb_dim, input_length=max_len, mask_zero=True, trainable=emb_trainable)\n",
    "    \n",
    "    embedding  = embedding_layer(inputs)\n",
    "    last       = embedding\n",
    "    \n",
    "    reshape    = keras.layers.Reshape((max_len, emb_dim, 1))(last)\n",
    "    last       = reshape\n",
    "    \n",
    "    last       = keras.layers.Concatenate(axis=3)([last, tf.reverse(last, axis=[1])])\n",
    "\n",
    "    enc_conv1  = keras.layers.Conv2D(filters=32, kernel_size=3, strides=(1, 3), activation='relu', padding='same')(last)\n",
    "    last       = enc_conv1\n",
    "    \n",
    "    drop = keras.layers.Dropout(0.05)(last)\n",
    "    last  = drop\n",
    "    \n",
    "    # unshape    = keras.layers.Reshape((max_len, emb_dim))(last)\n",
    "    # last       = unshape\n",
    "\n",
    "    # last = get_attention(last, mask, n_attention_heads, causal)\n",
    "    \n",
    "    # reshape    = keras.layers.Reshape((max_len, emb_dim, 1))(last)\n",
    "    # last       = reshape\n",
    "    \n",
    "    conv1 = keras.layers.Conv2D(filters=16, kernel_size=3, activation='relu', padding='same')(last)\n",
    "    last  = conv1\n",
    "    \n",
    "    conv2 = keras.layers.Conv2D(filters=8, kernel_size=3, activation='relu', padding='same')(last)\n",
    "    last  = conv2\n",
    "    \n",
    "    if n_end_attention_heads <= 0 or with_pooling:\n",
    "        pool1 = keras.layers.MaxPooling2D(pool_size=2, padding='same')(last)\n",
    "        last  = pool1\n",
    "        if n_end_attention_heads >= 1 :\n",
    "            mask = pooling_on_mask(mask)\n",
    "    \n",
    "    drop = keras.layers.Dropout(0.05)(last)\n",
    "    last  = drop\n",
    "    \n",
    "    conv3 = keras.layers.Conv2D(filters=4, kernel_size=3, activation='relu', padding='same')(last)\n",
    "    last  = conv3\n",
    "    \n",
    "    # conv4 = keras.layers.Conv2D(filters=2,  kernel_size=3, activation='relu', padding='same')(last)\n",
    "    \n",
    "    conv5 = keras.layers.Conv2D(filters=1,  kernel_size=3, activation='relu', padding='same')(last)\n",
    "    last  = conv5\n",
    "    \n",
    "    unshape    = keras.layers.Reshape((max_len, int(emb_dim/3)))(last)\n",
    "    last       = unshape\n",
    "\n",
    "    pre_attention = last\n",
    "    last = get_attention(last, mask, n_end_attention_heads, causal)\n",
    "    \n",
    "    if global_avg_pool :\n",
    "        ga_pool = keras.layers.GlobalAveragePooling1D()(last)\n",
    "        last  = ga_pool\n",
    "        if residual_connections :\n",
    "            pre_attention = keras.layers.GlobalAveragePooling1D()(pre_attention)\n",
    "            last = keras.layers.Concatenate()([last, pre_attention])\n",
    "    else :\n",
    "        last = keras.layers.Flatten()(last)\n",
    "        if residual_connections :\n",
    "            pre_attention = keras.layers.Flatten()(pre_attention)\n",
    "            last = keras.layers.Concatenate()([last, pre_attention])\n",
    "        last = keras.layers.Dense(units=1024, activation='relu')(last)\n",
    "        last = keras.layers.Dense(units=128, activation='relu')(last)\n",
    "        last = keras.layers.Dense(units=16, activation='relu')(last)\n",
    "    \n",
    "    drop = keras.layers.Dropout(0.05)(last)\n",
    "    last  = drop\n",
    "\n",
    "    # last = keras.layers.Dense(units=int(emb_dim/2), activation='relu')(last)\n",
    "    last = keras.layers.Dense(units=int(emb_dim/6), activation='relu')(last)\n",
    "    outputs = keras.layers.Dense(1, activation='sigmoid')(last)\n",
    "\n",
    "    model = keras.models.Model(inputs=[inputs, inputs_mask], outputs=outputs)\n",
    "\n",
    "    model.summary()\n",
    "\n",
    "    return model, embedding_layer"
   ]
  },
  {
   "cell_type": "code",
   "execution_count": 3,
   "metadata": {},
   "outputs": [],
   "source": [
    "import pandas as pd\n",
    "import json\n",
    "\n",
    "def get_word_index(sentences) :\n",
    "    all_tokens = []\n",
    "    for txt in sentences :\n",
    "        all_tokens += txt.split()\n",
    "\n",
    "    tokens = pd.Series(all_tokens, range(len(all_tokens)), name=\"tokens\")\n",
    "    types = tokens.unique()\n",
    "    word_index = {word : i for i, word in enumerate([\"<pad>\", \"<unk>\"] + list(types))}\n",
    "    \n",
    "    def decode_review(text):\n",
    "        reverse_word_index = dict([(value, key) for (key, value) in word_index.items()])\n",
    "        return ' '.join([reverse_word_index.get(i, '?') for i in text])\n",
    "    \n",
    "    return word_index, decode_review\n",
    "\n",
    "def get_dataset(dataframe, word_index, max_len=256) :\n",
    "    index_series, x_series, y_series = dataframe.index, dataframe[\"text\"], dataframe[\"class\"]\n",
    "\n",
    "    index = list(index_series)\n",
    "\n",
    "    x_list = [txt.split() for txt in list(x_series)]\n",
    "    \n",
    "    x_seq = []\n",
    "    for tknlst in x_list :\n",
    "        seq = []\n",
    "        for tkn in tknlst :\n",
    "            try :\n",
    "                seq.append(word_index[tkn])\n",
    "            except KeyError :\n",
    "                seq.append(word_index[\"<unk>\"])\n",
    "        seq = (seq + [0] * (max_len - len(seq))) if (len(seq) < max_len) else (seq[ : max_len])\n",
    "        x_seq.append(seq)\n",
    "    \n",
    "    y_int = [1 if lb >= .5 else 0 for lb in list(y_series)]\n",
    "\n",
    "    x = np.array(x_seq, dtype=int) \n",
    "    mask = x != 0\n",
    "\n",
    "    y = np.array(y_int, dtype=int) \n",
    "\n",
    "    return index, x, mask, y"
   ]
  },
  {
   "cell_type": "code",
   "execution_count": 4,
   "metadata": {},
   "outputs": [
    {
     "data": {
      "text/plain": [
       "(8544, (8544, 256), (8544, 256), (8544,))"
      ]
     },
     "execution_count": 4,
     "metadata": {},
     "output_type": "execute_result"
    }
   ],
   "source": [
    "train_dataframe = pd.read_csv(\"../resources/datasets/StanfordSentimentTreebank/split/SST2Processed2-train.csv\", index_col=0)\n",
    "word_index, decode_review = get_word_index(train_dataframe[\"text\"])\n",
    "ids_train, x_train, mask_train, y_train = get_dataset(train_dataframe, word_index)\n",
    "len(ids_train), x_train.shape, mask_train.shape, y_train.shape"
   ]
  },
  {
   "cell_type": "code",
   "execution_count": 5,
   "metadata": {},
   "outputs": [
    {
     "data": {
      "text/plain": [
       "(array([ 2,  3, 32, 33, 34, 35,  3, 36, 35,  3, 37, 38,  5, 39, 40, 14, 18,\n",
       "        41, 35, 42, 43, 44, 45, 46, 47, 48, 49, 50, 51, 52, 35, 53, 54, 55,\n",
       "        56,  0,  0,  0,  0,  0,  0,  0,  0,  0,  0,  0,  0,  0,  0,  0,  0,\n",
       "         0,  0,  0,  0,  0,  0,  0,  0,  0,  0,  0,  0,  0,  0,  0,  0,  0,\n",
       "         0,  0,  0,  0,  0,  0,  0,  0,  0,  0,  0,  0,  0,  0,  0,  0,  0,\n",
       "         0,  0,  0,  0,  0,  0,  0,  0,  0,  0,  0,  0,  0,  0,  0,  0,  0,\n",
       "         0,  0,  0,  0,  0,  0,  0,  0,  0,  0,  0,  0,  0,  0,  0,  0,  0,\n",
       "         0,  0,  0,  0,  0,  0,  0,  0,  0,  0,  0,  0,  0,  0,  0,  0,  0,\n",
       "         0,  0,  0,  0,  0,  0,  0,  0,  0,  0,  0,  0,  0,  0,  0,  0,  0,\n",
       "         0,  0,  0,  0,  0,  0,  0,  0,  0,  0,  0,  0,  0,  0,  0,  0,  0,\n",
       "         0,  0,  0,  0,  0,  0,  0,  0,  0,  0,  0,  0,  0,  0,  0,  0,  0,\n",
       "         0,  0,  0,  0,  0,  0,  0,  0,  0,  0,  0,  0,  0,  0,  0,  0,  0,\n",
       "         0,  0,  0,  0,  0,  0,  0,  0,  0,  0,  0,  0,  0,  0,  0,  0,  0,\n",
       "         0,  0,  0,  0,  0,  0,  0,  0,  0,  0,  0,  0,  0,  0,  0,  0,  0,\n",
       "         0,  0,  0,  0,  0,  0,  0,  0,  0,  0,  0,  0,  0,  0,  0,  0,  0,\n",
       "         0]),\n",
       " array([ True,  True,  True,  True,  True,  True,  True,  True,  True,\n",
       "         True,  True,  True,  True,  True,  True,  True,  True,  True,\n",
       "         True,  True,  True,  True,  True,  True,  True,  True,  True,\n",
       "         True,  True,  True,  True,  True,  True,  True,  True, False,\n",
       "        False, False, False, False, False, False, False, False, False,\n",
       "        False, False, False, False, False, False, False, False, False,\n",
       "        False, False, False, False, False, False, False, False, False,\n",
       "        False, False, False, False, False, False, False, False, False,\n",
       "        False, False, False, False, False, False, False, False, False,\n",
       "        False, False, False, False, False, False, False, False, False,\n",
       "        False, False, False, False, False, False, False, False, False,\n",
       "        False, False, False, False, False, False, False, False, False,\n",
       "        False, False, False, False, False, False, False, False, False,\n",
       "        False, False, False, False, False, False, False, False, False,\n",
       "        False, False, False, False, False, False, False, False, False,\n",
       "        False, False, False, False, False, False, False, False, False,\n",
       "        False, False, False, False, False, False, False, False, False,\n",
       "        False, False, False, False, False, False, False, False, False,\n",
       "        False, False, False, False, False, False, False, False, False,\n",
       "        False, False, False, False, False, False, False, False, False,\n",
       "        False, False, False, False, False, False, False, False, False,\n",
       "        False, False, False, False, False, False, False, False, False,\n",
       "        False, False, False, False, False, False, False, False, False,\n",
       "        False, False, False, False, False, False, False, False, False,\n",
       "        False, False, False, False, False, False, False, False, False,\n",
       "        False, False, False, False, False, False, False, False, False,\n",
       "        False, False, False, False, False, False, False, False, False,\n",
       "        False, False, False, False, False, False, False, False, False,\n",
       "        False, False, False, False]))"
      ]
     },
     "execution_count": 5,
     "metadata": {},
     "output_type": "execute_result"
    }
   ],
   "source": [
    "x_train[1], mask_train[1]"
   ]
  },
  {
   "cell_type": "code",
   "execution_count": 6,
   "metadata": {},
   "outputs": [
    {
     "data": {
      "text/plain": [
       "1"
      ]
     },
     "execution_count": 6,
     "metadata": {},
     "output_type": "execute_result"
    }
   ],
   "source": [
    "y_train[1]"
   ]
  },
  {
   "cell_type": "code",
   "execution_count": 7,
   "metadata": {},
   "outputs": [
    {
     "data": {
      "text/plain": [
       "\"<start> the gorgeously elaborate continuation of the lord of the rings trilogy is so huge that a column of words can not adequately describe co writerdirector peter jackson's expanded vision of jrr tolkien's middle earth <pad> <pad> <pad> <pad> <pad> <pad> <pad> <pad> <pad> <pad> <pad> <pad> <pad> <pad> <pad> <pad> <pad> <pad> <pad> <pad> <pad> <pad> <pad> <pad> <pad> <pad> <pad> <pad> <pad> <pad> <pad> <pad> <pad> <pad> <pad> <pad> <pad> <pad> <pad> <pad> <pad> <pad> <pad> <pad> <pad> <pad> <pad> <pad> <pad> <pad> <pad> <pad> <pad> <pad> <pad> <pad> <pad> <pad> <pad> <pad> <pad> <pad> <pad> <pad> <pad> <pad> <pad> <pad> <pad> <pad> <pad> <pad> <pad> <pad> <pad> <pad> <pad> <pad> <pad> <pad> <pad> <pad> <pad> <pad> <pad> <pad> <pad> <pad> <pad> <pad> <pad> <pad> <pad> <pad> <pad> <pad> <pad> <pad> <pad> <pad> <pad> <pad> <pad> <pad> <pad> <pad> <pad> <pad> <pad> <pad> <pad> <pad> <pad> <pad> <pad> <pad> <pad> <pad> <pad> <pad> <pad> <pad> <pad> <pad> <pad> <pad> <pad> <pad> <pad> <pad> <pad> <pad> <pad> <pad> <pad> <pad> <pad> <pad> <pad> <pad> <pad> <pad> <pad> <pad> <pad> <pad> <pad> <pad> <pad> <pad> <pad> <pad> <pad> <pad> <pad> <pad> <pad> <pad> <pad> <pad> <pad> <pad> <pad> <pad> <pad> <pad> <pad> <pad> <pad> <pad> <pad> <pad> <pad> <pad> <pad> <pad> <pad> <pad> <pad> <pad> <pad> <pad> <pad> <pad> <pad> <pad> <pad> <pad> <pad> <pad> <pad> <pad> <pad> <pad> <pad> <pad> <pad> <pad> <pad> <pad> <pad> <pad> <pad> <pad> <pad> <pad> <pad> <pad> <pad> <pad> <pad> <pad> <pad> <pad> <pad> <pad> <pad> <pad> <pad> <pad> <pad>\""
      ]
     },
     "execution_count": 7,
     "metadata": {},
     "output_type": "execute_result"
    }
   ],
   "source": [
    "decode_review(x_train[1])"
   ]
  },
  {
   "cell_type": "code",
   "execution_count": 8,
   "metadata": {},
   "outputs": [
    {
     "data": {
      "text/plain": [
       "(1101, (1101, 256), (1101, 256), (1101,))"
      ]
     },
     "execution_count": 8,
     "metadata": {},
     "output_type": "execute_result"
    }
   ],
   "source": [
    "val_dataframe = pd.read_csv(\"../resources/datasets/StanfordSentimentTreebank/split/SST2Processed2-dev.csv\", index_col=0)\n",
    "ids_val, x_val, mask_val, y_val = get_dataset(val_dataframe, word_index)\n",
    "len(ids_val), x_val.shape, mask_val.shape, y_val.shape"
   ]
  },
  {
   "cell_type": "code",
   "execution_count": 9,
   "metadata": {},
   "outputs": [
    {
     "data": {
      "text/plain": [
       "16177"
      ]
     },
     "execution_count": 9,
     "metadata": {},
     "output_type": "execute_result"
    }
   ],
   "source": [
    "len(word_index)"
   ]
  },
  {
   "cell_type": "code",
   "execution_count": 16,
   "metadata": {},
   "outputs": [
    {
     "name": "stdout",
     "output_type": "stream",
     "text": [
      "Model: \"model_1\"\n",
      "__________________________________________________________________________________________________\n",
      " Layer (type)                   Output Shape         Param #     Connected to                     \n",
      "==================================================================================================\n",
      " input_5 (InputLayer)           [(None, 256)]        0           []                               \n",
      "                                                                                                  \n",
      " embedding_2 (Embedding)        (None, 256, 768)     12423936    ['input_5[0][0]']                \n",
      "                                                                                                  \n",
      " reshape_3 (Reshape)            (None, 256, 768, 1)  0           ['embedding_2[0][0]']            \n",
      "                                                                                                  \n",
      " tf.reverse_2 (TFOpLambda)      (None, 256, 768, 1)  0           ['reshape_3[0][0]']              \n",
      "                                                                                                  \n",
      " concatenate_2 (Concatenate)    (None, 256, 768, 2)  0           ['reshape_3[0][0]',              \n",
      "                                                                  'tf.reverse_2[0][0]']           \n",
      "                                                                                                  \n",
      " conv2d_5 (Conv2D)              (None, 256, 256, 32  608         ['concatenate_2[0][0]']          \n",
      "                                )                                                                 \n",
      "                                                                                                  \n",
      " dropout_3 (Dropout)            (None, 256, 256, 32  0           ['conv2d_5[0][0]']               \n",
      "                                )                                                                 \n",
      "                                                                                                  \n",
      " conv2d_6 (Conv2D)              (None, 256, 256, 16  4624        ['dropout_3[0][0]']              \n",
      "                                )                                                                 \n",
      "                                                                                                  \n",
      " conv2d_7 (Conv2D)              (None, 256, 256, 8)  1160        ['conv2d_6[0][0]']               \n",
      "                                                                                                  \n",
      " dropout_4 (Dropout)            (None, 256, 256, 8)  0           ['conv2d_7[0][0]']               \n",
      "                                                                                                  \n",
      " conv2d_8 (Conv2D)              (None, 256, 256, 4)  292         ['dropout_4[0][0]']              \n",
      "                                                                                                  \n",
      " conv2d_9 (Conv2D)              (None, 256, 256, 1)  37          ['conv2d_8[0][0]']               \n",
      "                                                                                                  \n",
      " reshape_4 (Reshape)            (None, 256, 256)     0           ['conv2d_9[0][0]']               \n",
      "                                                                                                  \n",
      " input_6 (InputLayer)           [(None, 256)]        0           []                               \n",
      "                                                                                                  \n",
      " attention_1 (Attention)        (None, 256, 256)     0           ['reshape_4[0][0]',              \n",
      "                                                                  'reshape_4[0][0]',              \n",
      "                                                                  'input_6[0][0]',                \n",
      "                                                                  'input_6[0][0]']                \n",
      "                                                                                                  \n",
      " global_average_pooling1d_1 (Gl  (None, 256)         0           ['attention_1[0][0]']            \n",
      " obalAveragePooling1D)                                                                            \n",
      "                                                                                                  \n",
      " dropout_5 (Dropout)            (None, 256)          0           ['global_average_pooling1d_1[0][0\n",
      "                                                                 ]']                              \n",
      "                                                                                                  \n",
      " dense_2 (Dense)                (None, 128)          32896       ['dropout_5[0][0]']              \n",
      "                                                                                                  \n",
      " dense_3 (Dense)                (None, 1)            129         ['dense_2[0][0]']                \n",
      "                                                                                                  \n",
      "==================================================================================================\n",
      "Total params: 12,463,682\n",
      "Trainable params: 12,463,682\n",
      "Non-trainable params: 0\n",
      "__________________________________________________________________________________________________\n"
     ]
    }
   ],
   "source": [
    "embed_dim = 768\n",
    "embeddings_df = pd.read_csv(f\"../resources/embeddings/StanfordSentimentTreebank/SST2Processed2-train_dim{embed_dim}.csv\", index_col=0)\n",
    "n_attention_heads = 0\n",
    "n_end_attention_heads = 1\n",
    "emb_trainable = True\n",
    "causal = False\n",
    "pooling = False\n",
    "residual_connections = False\n",
    "global_avg_pool = True\n",
    "experimet_name = f\"cnn2d_{n_attention_heads}ATTENTION_{n_end_attention_heads}ENDATTENTION_embed{embed_dim}\"\n",
    "checkpoint_dir = f\"../resources/output/SST2Processed2/cnn2d/checkpoint_{experimet_name}.hdf5\"\n",
    "\n",
    "model, emb_layer = get_model(\n",
    "    len(word_index),\n",
    "    embed_dim,\n",
    "    n_attention_heads=n_attention_heads,\n",
    "    n_end_attention_heads=n_end_attention_heads,\n",
    "    emb_trainable=emb_trainable,\n",
    "    with_pooling=pooling,\n",
    "    causal=causal,\n",
    "    residual_connections=residual_connections,\n",
    "    global_avg_pool=global_avg_pool\n",
    ")"
   ]
  },
  {
   "cell_type": "code",
   "execution_count": 13,
   "metadata": {},
   "outputs": [],
   "source": [
    "emb_wgts = emb_layer.get_weights()\n",
    "emb_wgts[0][0] = embeddings_df.iloc[0].values\n",
    "emb_wgts[0][1 - embeddings_df.shape[0] : ] = embeddings_df.values[1:]\n",
    "emb_layer.set_weights(emb_wgts)"
   ]
  },
  {
   "cell_type": "code",
   "execution_count": 14,
   "metadata": {},
   "outputs": [
    {
     "name": "stdout",
     "output_type": "stream",
     "text": [
      "Epoch 1/50\n",
      "134/134 [==============================] - ETA: 0s - loss: 0.6911 - accuracy: 0.5260\n",
      "Epoch 1: val_loss improved from inf to 0.68512, saving model to ../resources/output/SST2Processed2/cnn2d\\checkpoint_cnn2d_0ATTENTION_1ENDATTENTION_DROPOUT_embed768.hdf5\n",
      "134/134 [==============================] - 793s 6s/step - loss: 0.6911 - accuracy: 0.5260 - val_loss: 0.6851 - val_accuracy: 0.6004\n",
      "Epoch 2/50\n",
      "134/134 [==============================] - ETA: 0s - loss: 0.6337 - accuracy: 0.6327\n",
      "Epoch 2: val_loss improved from 0.68512 to 0.59402, saving model to ../resources/output/SST2Processed2/cnn2d\\checkpoint_cnn2d_0ATTENTION_1ENDATTENTION_DROPOUT_embed768.hdf5\n",
      "134/134 [==============================] - 794s 6s/step - loss: 0.6337 - accuracy: 0.6327 - val_loss: 0.5940 - val_accuracy: 0.6667\n",
      "Epoch 3/50\n",
      "134/134 [==============================] - ETA: 0s - loss: 0.3875 - accuracy: 0.8294\n",
      "Epoch 3: val_loss improved from 0.59402 to 0.54601, saving model to ../resources/output/SST2Processed2/cnn2d\\checkpoint_cnn2d_0ATTENTION_1ENDATTENTION_DROPOUT_embed768.hdf5\n",
      "134/134 [==============================] - 789s 6s/step - loss: 0.3875 - accuracy: 0.8294 - val_loss: 0.5460 - val_accuracy: 0.7357\n",
      "Epoch 4/50\n",
      "134/134 [==============================] - ETA: 0s - loss: 0.1569 - accuracy: 0.9429\n",
      "Epoch 4: val_loss did not improve from 0.54601\n",
      "134/134 [==============================] - 787s 6s/step - loss: 0.1569 - accuracy: 0.9429 - val_loss: 0.7507 - val_accuracy: 0.7293\n",
      "Epoch 5/50\n",
      "134/134 [==============================] - ETA: 0s - loss: 0.0556 - accuracy: 0.9808\n",
      "Epoch 5: val_loss did not improve from 0.54601\n",
      "134/134 [==============================] - 787s 6s/step - loss: 0.0556 - accuracy: 0.9808 - val_loss: 1.0615 - val_accuracy: 0.7293\n",
      "Epoch 6/50\n",
      "134/134 [==============================] - ETA: 0s - loss: 0.0195 - accuracy: 0.9939\n",
      "Epoch 6: val_loss did not improve from 0.54601\n",
      "134/134 [==============================] - 787s 6s/step - loss: 0.0195 - accuracy: 0.9939 - val_loss: 1.5296 - val_accuracy: 0.7275\n",
      "Epoch 7/50\n",
      "134/134 [==============================] - ETA: 0s - loss: 0.0132 - accuracy: 0.9960\n",
      "Epoch 7: val_loss did not improve from 0.54601\n",
      "134/134 [==============================] - 788s 6s/step - loss: 0.0132 - accuracy: 0.9960 - val_loss: 1.5966 - val_accuracy: 0.7157\n",
      "Epoch 8/50\n",
      "134/134 [==============================] - ETA: 0s - loss: 0.0076 - accuracy: 0.9982\n",
      "Epoch 8: val_loss did not improve from 0.54601\n",
      "134/134 [==============================] - 787s 6s/step - loss: 0.0076 - accuracy: 0.9982 - val_loss: 2.1323 - val_accuracy: 0.7075\n",
      "Epoch 9/50\n",
      "134/134 [==============================] - ETA: 0s - loss: 0.0049 - accuracy: 0.9984\n",
      "Epoch 9: val_loss did not improve from 0.54601\n",
      "134/134 [==============================] - 787s 6s/step - loss: 0.0049 - accuracy: 0.9984 - val_loss: 2.0601 - val_accuracy: 0.7148\n",
      "Epoch 10/50\n",
      "134/134 [==============================] - ETA: 0s - loss: 0.0039 - accuracy: 0.9987\n",
      "Epoch 10: val_loss did not improve from 0.54601\n",
      "134/134 [==============================] - 787s 6s/step - loss: 0.0039 - accuracy: 0.9987 - val_loss: 2.6825 - val_accuracy: 0.7012\n",
      "Epoch 11/50\n",
      "134/134 [==============================] - ETA: 0s - loss: 0.0031 - accuracy: 0.9991\n",
      "Epoch 11: val_loss did not improve from 0.54601\n",
      "134/134 [==============================] - 788s 6s/step - loss: 0.0031 - accuracy: 0.9991 - val_loss: 2.3750 - val_accuracy: 0.7094\n",
      "Epoch 12/50\n",
      "134/134 [==============================] - ETA: 0s - loss: 0.0043 - accuracy: 0.9988\n",
      "Epoch 12: val_loss did not improve from 0.54601\n",
      "134/134 [==============================] - 790s 6s/step - loss: 0.0043 - accuracy: 0.9988 - val_loss: 2.6745 - val_accuracy: 0.7003\n",
      "Epoch 13/50\n",
      "134/134 [==============================] - ETA: 0s - loss: 0.0059 - accuracy: 0.9973\n",
      "Epoch 13: val_loss did not improve from 0.54601\n",
      "134/134 [==============================] - 789s 6s/step - loss: 0.0059 - accuracy: 0.9973 - val_loss: 2.1272 - val_accuracy: 0.7030\n"
     ]
    }
   ],
   "source": [
    "model.compile(optimizer='adam',\n",
    "              loss='binary_crossentropy',\n",
    "              metrics=['accuracy'])\n",
    "history = model.fit([x_train, mask_train],\n",
    "                    y_train,\n",
    "                    epochs=50,\n",
    "                    batch_size=64,\n",
    "                    validation_data=([x_val, mask_val], y_val),\n",
    "                    callbacks=[\n",
    "                        keras.callbacks.ModelCheckpoint(\n",
    "                            checkpoint_dir,\n",
    "                            save_best_only=True,\n",
    "                            save_weights_only=False,\n",
    "                            verbose=1\n",
    "                        ),\n",
    "                        keras.callbacks.EarlyStopping(\n",
    "                            monitor='accuracy',\n",
    "                            min_delta=.001,\n",
    "                            patience=5\n",
    "                        )\n",
    "                    ],\n",
    "                    verbose=1)"
   ]
  },
  {
   "cell_type": "code",
   "execution_count": 17,
   "metadata": {},
   "outputs": [],
   "source": [
    "model.load_weights(checkpoint_dir)"
   ]
  },
  {
   "cell_type": "code",
   "execution_count": 18,
   "metadata": {},
   "outputs": [
    {
     "data": {
      "text/plain": [
       "(2210, (2210, 256), (2210, 256), (2210,))"
      ]
     },
     "execution_count": 18,
     "metadata": {},
     "output_type": "execute_result"
    }
   ],
   "source": [
    "test_dataframe = pd.read_csv(\"../resources/datasets/StanfordSentimentTreebank/split/SST2Processed2-test.csv\", index_col=0)\n",
    "ids_test, x_test, mask_test, y_test = get_dataset(test_dataframe, word_index)\n",
    "len(ids_test), x_test.shape, mask_test.shape, y_test.shape"
   ]
  },
  {
   "cell_type": "code",
   "execution_count": 19,
   "metadata": {},
   "outputs": [
    {
     "name": "stdout",
     "output_type": "stream",
     "text": [
      "70/70 [==============================] - 20s 289ms/step\n"
     ]
    },
    {
     "data": {
      "text/plain": [
       "(2210, 1)"
      ]
     },
     "execution_count": 19,
     "metadata": {},
     "output_type": "execute_result"
    }
   ],
   "source": [
    "preds = model.predict([x_test, mask_test])\n",
    "preds.shape"
   ]
  },
  {
   "cell_type": "code",
   "execution_count": 20,
   "metadata": {},
   "outputs": [
    {
     "data": {
      "text/html": [
       "<div>\n",
       "<style scoped>\n",
       "    .dataframe tbody tr th:only-of-type {\n",
       "        vertical-align: middle;\n",
       "    }\n",
       "\n",
       "    .dataframe tbody tr th {\n",
       "        vertical-align: top;\n",
       "    }\n",
       "\n",
       "    .dataframe thead th {\n",
       "        text-align: right;\n",
       "    }\n",
       "</style>\n",
       "<table border=\"1\" class=\"dataframe\">\n",
       "  <thead>\n",
       "    <tr style=\"text-align: right;\">\n",
       "      <th></th>\n",
       "      <th>predictions</th>\n",
       "    </tr>\n",
       "  </thead>\n",
       "  <tbody>\n",
       "    <tr>\n",
       "      <th>3</th>\n",
       "      <td>0.054791</td>\n",
       "    </tr>\n",
       "    <tr>\n",
       "      <th>4</th>\n",
       "      <td>0.829216</td>\n",
       "    </tr>\n",
       "    <tr>\n",
       "      <th>5</th>\n",
       "      <td>0.252992</td>\n",
       "    </tr>\n",
       "    <tr>\n",
       "      <th>6</th>\n",
       "      <td>0.876140</td>\n",
       "    </tr>\n",
       "    <tr>\n",
       "      <th>7</th>\n",
       "      <td>0.997403</td>\n",
       "    </tr>\n",
       "    <tr>\n",
       "      <th>...</th>\n",
       "      <td>...</td>\n",
       "    </tr>\n",
       "    <tr>\n",
       "      <th>11621</th>\n",
       "      <td>0.519608</td>\n",
       "    </tr>\n",
       "    <tr>\n",
       "      <th>11623</th>\n",
       "      <td>0.999923</td>\n",
       "    </tr>\n",
       "    <tr>\n",
       "      <th>11626</th>\n",
       "      <td>0.983892</td>\n",
       "    </tr>\n",
       "    <tr>\n",
       "      <th>11628</th>\n",
       "      <td>0.013041</td>\n",
       "    </tr>\n",
       "    <tr>\n",
       "      <th>11798</th>\n",
       "      <td>0.000524</td>\n",
       "    </tr>\n",
       "  </tbody>\n",
       "</table>\n",
       "<p>2210 rows × 1 columns</p>\n",
       "</div>"
      ],
      "text/plain": [
       "       predictions\n",
       "3         0.054791\n",
       "4         0.829216\n",
       "5         0.252992\n",
       "6         0.876140\n",
       "7         0.997403\n",
       "...            ...\n",
       "11621     0.519608\n",
       "11623     0.999923\n",
       "11626     0.983892\n",
       "11628     0.013041\n",
       "11798     0.000524\n",
       "\n",
       "[2210 rows x 1 columns]"
      ]
     },
     "execution_count": 20,
     "metadata": {},
     "output_type": "execute_result"
    }
   ],
   "source": [
    "preds_df = pd.DataFrame(preds, index=ids_test, columns=[\"predictions\"])\n",
    "preds_df"
   ]
  },
  {
   "cell_type": "code",
   "execution_count": 21,
   "metadata": {},
   "outputs": [
    {
     "data": {
      "text/html": [
       "<div>\n",
       "<style scoped>\n",
       "    .dataframe tbody tr th:only-of-type {\n",
       "        vertical-align: middle;\n",
       "    }\n",
       "\n",
       "    .dataframe tbody tr th {\n",
       "        vertical-align: top;\n",
       "    }\n",
       "\n",
       "    .dataframe thead th {\n",
       "        text-align: right;\n",
       "    }\n",
       "</style>\n",
       "<table border=\"1\" class=\"dataframe\">\n",
       "  <thead>\n",
       "    <tr style=\"text-align: right;\">\n",
       "      <th></th>\n",
       "      <th>text</th>\n",
       "      <th>phrase_id</th>\n",
       "      <th>class</th>\n",
       "      <th>predictions</th>\n",
       "    </tr>\n",
       "  </thead>\n",
       "  <tbody>\n",
       "    <tr>\n",
       "      <th>3</th>\n",
       "      <td>&lt;start&gt; effective but too tepid biopic</td>\n",
       "      <td>13995</td>\n",
       "      <td>0.513890</td>\n",
       "      <td>0.054791</td>\n",
       "    </tr>\n",
       "    <tr>\n",
       "      <th>4</th>\n",
       "      <td>&lt;start&gt; if you sometimes like to go to the mov...</td>\n",
       "      <td>14123</td>\n",
       "      <td>0.736110</td>\n",
       "      <td>0.829216</td>\n",
       "    </tr>\n",
       "    <tr>\n",
       "      <th>5</th>\n",
       "      <td>&lt;start&gt; emerges as something rare an issue mov...</td>\n",
       "      <td>13999</td>\n",
       "      <td>0.861110</td>\n",
       "      <td>0.252992</td>\n",
       "    </tr>\n",
       "    <tr>\n",
       "      <th>6</th>\n",
       "      <td>&lt;start&gt; the film provides some great insight i...</td>\n",
       "      <td>14498</td>\n",
       "      <td>0.597220</td>\n",
       "      <td>0.876140</td>\n",
       "    </tr>\n",
       "    <tr>\n",
       "      <th>7</th>\n",
       "      <td>&lt;start&gt; offers that rare combination of entert...</td>\n",
       "      <td>14351</td>\n",
       "      <td>0.833330</td>\n",
       "      <td>0.997403</td>\n",
       "    </tr>\n",
       "    <tr>\n",
       "      <th>...</th>\n",
       "      <td>...</td>\n",
       "      <td>...</td>\n",
       "      <td>...</td>\n",
       "      <td>...</td>\n",
       "    </tr>\n",
       "    <tr>\n",
       "      <th>11621</th>\n",
       "      <td>&lt;start&gt; an imaginative comedythriller</td>\n",
       "      <td>13851</td>\n",
       "      <td>0.777780</td>\n",
       "      <td>0.519608</td>\n",
       "    </tr>\n",
       "    <tr>\n",
       "      <th>11623</th>\n",
       "      <td>&lt;start&gt; a rare beautiful film</td>\n",
       "      <td>18182</td>\n",
       "      <td>0.916670</td>\n",
       "      <td>0.999923</td>\n",
       "    </tr>\n",
       "    <tr>\n",
       "      <th>11626</th>\n",
       "      <td>&lt;start&gt; an hilarious romantic comedy</td>\n",
       "      <td>23211</td>\n",
       "      <td>0.888890</td>\n",
       "      <td>0.983892</td>\n",
       "    </tr>\n",
       "    <tr>\n",
       "      <th>11628</th>\n",
       "      <td>&lt;start&gt; never sinks into exploitation</td>\n",
       "      <td>26177</td>\n",
       "      <td>0.625000</td>\n",
       "      <td>0.013041</td>\n",
       "    </tr>\n",
       "    <tr>\n",
       "      <th>11798</th>\n",
       "      <td>&lt;start&gt; u nrelentingly stupid</td>\n",
       "      <td>141831</td>\n",
       "      <td>0.069444</td>\n",
       "      <td>0.000524</td>\n",
       "    </tr>\n",
       "  </tbody>\n",
       "</table>\n",
       "<p>2210 rows × 4 columns</p>\n",
       "</div>"
      ],
      "text/plain": [
       "                                                    text  phrase_id     class  \\\n",
       "3                 <start> effective but too tepid biopic      13995  0.513890   \n",
       "4      <start> if you sometimes like to go to the mov...      14123  0.736110   \n",
       "5      <start> emerges as something rare an issue mov...      13999  0.861110   \n",
       "6      <start> the film provides some great insight i...      14498  0.597220   \n",
       "7      <start> offers that rare combination of entert...      14351  0.833330   \n",
       "...                                                  ...        ...       ...   \n",
       "11621              <start> an imaginative comedythriller      13851  0.777780   \n",
       "11623                      <start> a rare beautiful film      18182  0.916670   \n",
       "11626               <start> an hilarious romantic comedy      23211  0.888890   \n",
       "11628              <start> never sinks into exploitation      26177  0.625000   \n",
       "11798                      <start> u nrelentingly stupid     141831  0.069444   \n",
       "\n",
       "       predictions  \n",
       "3         0.054791  \n",
       "4         0.829216  \n",
       "5         0.252992  \n",
       "6         0.876140  \n",
       "7         0.997403  \n",
       "...            ...  \n",
       "11621     0.519608  \n",
       "11623     0.999923  \n",
       "11626     0.983892  \n",
       "11628     0.013041  \n",
       "11798     0.000524  \n",
       "\n",
       "[2210 rows x 4 columns]"
      ]
     },
     "execution_count": 21,
     "metadata": {},
     "output_type": "execute_result"
    }
   ],
   "source": [
    "dataset_with_preds_df = pd.concat([test_dataframe, preds_df], axis=1)\n",
    "dataset_with_preds_df"
   ]
  },
  {
   "cell_type": "code",
   "execution_count": 22,
   "metadata": {},
   "outputs": [
    {
     "data": {
      "text/plain": [
       "0.7651583710407239"
      ]
     },
     "execution_count": 22,
     "metadata": {},
     "output_type": "execute_result"
    }
   ],
   "source": [
    "hits, total = 0, 0\n",
    "for _, row in dataset_with_preds_df.iterrows() :\n",
    "    total += 1\n",
    "    pred  = row[\"predictions\"] >= .5\n",
    "    label = row[\"class\"]       >= .5\n",
    "    if pred == label : \n",
    "        hits += 1\n",
    "accuracy = hits / total\n",
    "accuracy"
   ]
  },
  {
   "cell_type": "code",
   "execution_count": 23,
   "metadata": {},
   "outputs": [
    {
     "data": {
      "text/plain": [
       "0.2129111063542746"
      ]
     },
     "execution_count": 23,
     "metadata": {},
     "output_type": "execute_result"
    }
   ],
   "source": [
    "hits, total = 0, 0\n",
    "for _, row in dataset_with_preds_df.iterrows() :\n",
    "    total += 1\n",
    "    pred  = row[\"predictions\"]\n",
    "    label = row[\"class\"]\n",
    "    diff = label - pred\n",
    "    hits += abs(diff)\n",
    "avg_dev = hits / total\n",
    "avg_dev"
   ]
  },
  {
   "cell_type": "code",
   "execution_count": 24,
   "metadata": {},
   "outputs": [
    {
     "name": "stdout",
     "output_type": "stream",
     "text": [
      "798 893 206 313\n"
     ]
    }
   ],
   "source": [
    "true_positives, true_negatives, false_positives, false_negatives = 0, 0, 0, 0\n",
    "for _, row in dataset_with_preds_df.iterrows() :\n",
    "    pred  = row[\"predictions\"] >= .5\n",
    "    label = row[\"class\"]       >= .5\n",
    "    if pred == label :\n",
    "        if pred :\n",
    "            true_positives  += 1\n",
    "        else :\n",
    "            true_negatives  += 1\n",
    "    else :\n",
    "        if pred :\n",
    "            false_positives += 1\n",
    "        else :\n",
    "            false_negatives += 1\n",
    "print(true_positives, true_negatives, false_positives, false_negatives)"
   ]
  },
  {
   "cell_type": "code",
   "execution_count": 25,
   "metadata": {},
   "outputs": [
    {
     "data": {
      "text/plain": [
       "0.7948207171314741"
      ]
     },
     "execution_count": 25,
     "metadata": {},
     "output_type": "execute_result"
    }
   ],
   "source": [
    "precision = true_positives / (true_positives + false_positives)\n",
    "precision"
   ]
  },
  {
   "cell_type": "code",
   "execution_count": 26,
   "metadata": {},
   "outputs": [
    {
     "data": {
      "text/plain": [
       "0.7182718271827183"
      ]
     },
     "execution_count": 26,
     "metadata": {},
     "output_type": "execute_result"
    }
   ],
   "source": [
    "recall = true_positives / (true_positives + false_negatives)\n",
    "recall"
   ]
  },
  {
   "cell_type": "code",
   "execution_count": 28,
   "metadata": {},
   "outputs": [
    {
     "data": {
      "text/plain": [
       "0.7546099290780143"
      ]
     },
     "execution_count": 28,
     "metadata": {},
     "output_type": "execute_result"
    }
   ],
   "source": [
    "f1 = (2 * precision * recall) / (precision + recall)\n",
    "f1"
   ]
  },
  {
   "cell_type": "code",
   "execution_count": 29,
   "metadata": {},
   "outputs": [],
   "source": [
    "eval_dict = {\n",
    "    'model'     : checkpoint_dir,\n",
    "    'accuracy'  : accuracy,\n",
    "    'precision' : precision,\n",
    "    'recall'    : recall,\n",
    "    'f1-score'  : f1\n",
    "}"
   ]
  },
  {
   "cell_type": "code",
   "execution_count": 30,
   "metadata": {},
   "outputs": [],
   "source": [
    "with open(f\"{eval_dict['model']}-eval-dict.json\", \"w\") as f :\n",
    "    f.write(json.dumps(eval_dict))"
   ]
  }
 ],
 "metadata": {
  "kernelspec": {
   "display_name": "Python 3.10.4 64-bit",
   "language": "python",
   "name": "python3"
  },
  "language_info": {
   "codemirror_mode": {
    "name": "ipython",
    "version": 3
   },
   "file_extension": ".py",
   "mimetype": "text/x-python",
   "name": "python",
   "nbconvert_exporter": "python",
   "pygments_lexer": "ipython3",
   "version": "3.10.4"
  },
  "orig_nbformat": 4,
  "vscode": {
   "interpreter": {
    "hash": "fb071969cc081d156db4658a52cc12ff3302089485c0c8cb524fcf02c6362775"
   }
  }
 },
 "nbformat": 4,
 "nbformat_minor": 2
}
