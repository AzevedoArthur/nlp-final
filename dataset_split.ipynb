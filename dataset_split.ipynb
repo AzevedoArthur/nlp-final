{
 "cells": [
  {
   "cell_type": "code",
   "execution_count": 2,
   "metadata": {},
   "outputs": [
    {
     "data": {
      "text/plain": [
       "'c:\\\\Users\\\\T-Gamer\\\\Documents\\\\SideDrive\\\\UFMA\\\\2022.1\\\\Topicos Especiais (NLP)\\\\Exercicios\\\\Trabalho Final\\\\Implementação\\\\source'"
      ]
     },
     "execution_count": 2,
     "metadata": {},
     "output_type": "execute_result"
    }
   ],
   "source": [
    "import pandas as pd\n",
    "import os, random\n",
    "os.getcwd()"
   ]
  },
  {
   "cell_type": "code",
   "execution_count": 2,
   "metadata": {},
   "outputs": [
    {
     "name": "stdout",
     "output_type": "stream",
     "text": [
      "DF Shape of Fold 1: (1464, 2)\n",
      "DF Shape of Fold 2: (1464, 2)\n",
      "DF Shape of Fold 3: (1464, 2)\n",
      "DF Shape of Fold 4: (1464, 2)\n",
      "DF Shape of Fold 5: (1464, 2)\n",
      "DF Shape of Fold 6: (1464, 2)\n",
      "DF Shape of Fold 7: (1464, 2)\n",
      "DF Shape of Fold 8: (1464, 2)\n",
      "DF Shape of Fold 9: (1464, 2)\n",
      "DF Shape of Fold 10: (1464, 2)\n"
     ]
    },
    {
     "data": {
      "text/html": [
       "<div>\n",
       "<style scoped>\n",
       "    .dataframe tbody tr th:only-of-type {\n",
       "        vertical-align: middle;\n",
       "    }\n",
       "\n",
       "    .dataframe tbody tr th {\n",
       "        vertical-align: top;\n",
       "    }\n",
       "\n",
       "    .dataframe thead th {\n",
       "        text-align: right;\n",
       "    }\n",
       "</style>\n",
       "<table border=\"1\" class=\"dataframe\">\n",
       "  <thead>\n",
       "    <tr style=\"text-align: right;\">\n",
       "      <th></th>\n",
       "      <th>text</th>\n",
       "      <th>class</th>\n",
       "    </tr>\n",
       "  </thead>\n",
       "  <tbody>\n",
       "    <tr>\n",
       "      <th>568598412544704512</th>\n",
       "      <td>want to book a multi city fare have miles for ...</td>\n",
       "      <td>1</td>\n",
       "    </tr>\n",
       "    <tr>\n",
       "      <th>568014845062332416</th>\n",
       "      <td>iad to jfk still has nt boarded what s today s...</td>\n",
       "      <td>0</td>\n",
       "    </tr>\n",
       "    <tr>\n",
       "      <th>569665738165891073</th>\n",
       "      <td>24 hrs amp 2 cncld flights late flightr i ve l...</td>\n",
       "      <td>0</td>\n",
       "    </tr>\n",
       "    <tr>\n",
       "      <th>569532924036407297</th>\n",
       "      <td>a member of your staff at phl just gave us exc...</td>\n",
       "      <td>0</td>\n",
       "    </tr>\n",
       "    <tr>\n",
       "      <th>569539746348675073</th>\n",
       "      <td>there was a closure people here need to inform...</td>\n",
       "      <td>0</td>\n",
       "    </tr>\n",
       "    <tr>\n",
       "      <th>...</th>\n",
       "      <td>...</td>\n",
       "      <td>...</td>\n",
       "    </tr>\n",
       "    <tr>\n",
       "      <th>570192105752039427</th>\n",
       "      <td>darn i bought it on the wrong device no way to...</td>\n",
       "      <td>0</td>\n",
       "    </tr>\n",
       "    <tr>\n",
       "      <th>569700785824669696</th>\n",
       "      <td>sweet home chicago</td>\n",
       "      <td>2</td>\n",
       "    </tr>\n",
       "    <tr>\n",
       "      <th>570292371340062720</th>\n",
       "      <td>sadly i m currently booked on one of your flig...</td>\n",
       "      <td>0</td>\n",
       "    </tr>\n",
       "    <tr>\n",
       "      <th>569358953567670272</th>\n",
       "      <td>cancelled flightled flight 1796 baggage held h...</td>\n",
       "      <td>0</td>\n",
       "    </tr>\n",
       "    <tr>\n",
       "      <th>570179455911481344</th>\n",
       "      <td>they were no where to be found at midnight las...</td>\n",
       "      <td>0</td>\n",
       "    </tr>\n",
       "  </tbody>\n",
       "</table>\n",
       "<p>1464 rows × 2 columns</p>\n",
       "</div>"
      ],
      "text/plain": [
       "                                                                 text  class\n",
       "568598412544704512  want to book a multi city fare have miles for ...      1\n",
       "568014845062332416  iad to jfk still has nt boarded what s today s...      0\n",
       "569665738165891073  24 hrs amp 2 cncld flights late flightr i ve l...      0\n",
       "569532924036407297  a member of your staff at phl just gave us exc...      0\n",
       "569539746348675073  there was a closure people here need to inform...      0\n",
       "...                                                               ...    ...\n",
       "570192105752039427  darn i bought it on the wrong device no way to...      0\n",
       "569700785824669696                                 sweet home chicago      2\n",
       "570292371340062720  sadly i m currently booked on one of your flig...      0\n",
       "569358953567670272  cancelled flightled flight 1796 baggage held h...      0\n",
       "570179455911481344  they were no where to be found at midnight las...      0\n",
       "\n",
       "[1464 rows x 2 columns]"
      ]
     },
     "execution_count": 2,
     "metadata": {},
     "output_type": "execute_result"
    }
   ],
   "source": [
    "# Fold Split\n",
    "# Args\n",
    "k = 10\n",
    "seed = 0\n",
    "dataset_folder = \"../resources/datasets/TwitterAirlines\"\n",
    "dataset_name = \"TweetsProcessed2\"\n",
    "# dataset_folder = \"../resources/datasets/IMDBMovieReviews\"\n",
    "# dataset_name = \"IMDB_MRProcessed\"\n",
    "\n",
    "# Exec\n",
    "dataset_path = f\"{dataset_folder}/{dataset_name}.csv\"\n",
    "save_path = f\"{dataset_folder}/folds\"\n",
    "\n",
    "if not os.path.exists(save_path) : os.makedirs(save_path)\n",
    "\n",
    "dataset = pd.read_csv(dataset_path, index_col=0)\n",
    "dataset_shuffle = [row for _, row in dataset.iterrows()]\n",
    "\n",
    "random.seed(seed)\n",
    "random.shuffle(dataset_shuffle)\n",
    "\n",
    "dataset = pd.DataFrame(dataset_shuffle)\n",
    "\n",
    "fold_size = dataset.shape[0] / 10\n",
    "folds = []\n",
    "for i_fold in range(k) :\n",
    "    fold_df = dataset.iloc[int(i_fold * fold_size) : int((i_fold + 1) * fold_size)]\n",
    "    print(f\"DF Shape of Fold {i_fold + 1}:\", fold_df.shape)\n",
    "    fold_df.to_csv(f\"{save_path}/{dataset_name}_Fold{i_fold + 1}.csv\")\n",
    "    folds.append(fold_df)\n",
    "\n",
    "folds[0]"
   ]
  },
  {
   "cell_type": "code",
   "execution_count": 3,
   "metadata": {},
   "outputs": [],
   "source": [
    "# Train, test, dev split (SST)\n",
    "# Args\n",
    "dataset_folder = \"../resources/datasets/StanfordSentimentTreebank\"\n",
    "dataset_name = \"SST2Processed2\"\n",
    "\n",
    "# Exec\n",
    "dataset_path = f\"{dataset_folder}/{dataset_name}.csv\"\n",
    "save_path = f\"{dataset_folder}/split\"\n",
    "\n",
    "if not os.path.exists(save_path) : os.makedirs(save_path)\n",
    "\n",
    "dataset = pd.read_csv(dataset_path, index_col=0)\n",
    "for splitset, splitset_label in zip(range(1, 4), [\"train\", \"test\", \"dev\"]) :\n",
    "    splitset_df = dataset.loc[dataset[\"splitset\"] == splitset]\n",
    "    splitset_df = splitset_df.drop(columns=[\"splitset\"])\n",
    "    splitset_df.to_csv(f\"{save_path}/{dataset_name}-{splitset_label}.csv\")\n"
   ]
  }
 ],
 "metadata": {
  "kernelspec": {
   "display_name": "Python 3.10.4 64-bit",
   "language": "python",
   "name": "python3"
  },
  "language_info": {
   "codemirror_mode": {
    "name": "ipython",
    "version": 3
   },
   "file_extension": ".py",
   "mimetype": "text/x-python",
   "name": "python",
   "nbconvert_exporter": "python",
   "pygments_lexer": "ipython3",
   "version": "3.10.4"
  },
  "orig_nbformat": 4,
  "vscode": {
   "interpreter": {
    "hash": "fb071969cc081d156db4658a52cc12ff3302089485c0c8cb524fcf02c6362775"
   }
  }
 },
 "nbformat": 4,
 "nbformat_minor": 2
}
