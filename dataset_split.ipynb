{
 "cells": [
  {
   "cell_type": "code",
   "execution_count": 10,
   "metadata": {},
   "outputs": [
    {
     "data": {
      "text/plain": [
       "'c:\\\\Users\\\\T-Gamer\\\\Documents\\\\SideDrive\\\\UFMA\\\\2022.1\\\\Topicos Especiais (NLP)\\\\Exercicios\\\\Trabalho Final\\\\Implementação\\\\source'"
      ]
     },
     "execution_count": 10,
     "metadata": {},
     "output_type": "execute_result"
    }
   ],
   "source": [
    "import pandas as pd\n",
    "import os, random\n",
    "os.getcwd()"
   ]
  },
  {
   "cell_type": "code",
   "execution_count": 4,
   "metadata": {},
   "outputs": [],
   "source": [
    "# Fold Split\n",
    "# Args\n",
    "k = 10\n",
    "seed = 0\n",
    "dataset_folder = \"../resources/datasets/TwitterAirlines\"\n",
    "dataset_name = \"TweetsProcessed\"\n",
    "dataset_path = f\"{dataset_folder}/{dataset_name}.csv\"\n",
    "save_path = f\"{dataset_folder}/folds\"\n",
    "\n",
    "# Exec\n",
    "dataset = pd.read_csv(dataset_path, index_col=0)\n",
    "dataset_shuffle = [row for _, row in dataset.iterrows()]\n",
    "\n",
    "random.seed(seed)\n",
    "random.shuffle(dataset_shuffle)\n",
    "\n",
    "dataset = pd.DataFrame(dataset_shuffle)\n",
    "\n",
    "fold_size = dataset.shape[0] / 10\n",
    "folds = []\n",
    "for i_fold in range(k) :\n",
    "    fold_df = dataset.iloc[int(i_fold * fold_size) : int((i_fold + 1) * fold_size)]\n",
    "    print(f\"DF Shape of Fold {i_fold + 1}:\", fold_df.shape)\n",
    "    fold_df.to_csv(f\"{save_path}/{dataset_name}_Fold{i_fold + 1}.csv\")\n",
    "    folds.append(fold_df)\n",
    "\n",
    "folds[0]"
   ]
  },
  {
   "cell_type": "code",
   "execution_count": 11,
   "metadata": {},
   "outputs": [],
   "source": [
    "# Train, test, dev split (SST)\n",
    "# Args\n",
    "dataset_folder = \"../resources/datasets/StanfordSentimentTreebank\"\n",
    "dataset_name = \"SST2Processed\"\n",
    "dataset_path = f\"{dataset_folder}/{dataset_name}.csv\"\n",
    "save_path = f\"{dataset_folder}/split\"\n",
    "\n",
    "# Exec\n",
    "dataset = pd.read_csv(dataset_path, index_col=0)\n",
    "for splitset, splitset_label in zip(range(1, 4), [\"train\", \"test\", \"dev\"]) :\n",
    "    splitset_df = dataset.loc[dataset[\"splitset\"] == splitset]\n",
    "    splitset_df = splitset_df.drop(columns=[\"splitset\"])\n",
    "    splitset_df.to_csv(f\"{save_path}/{dataset_name}-{splitset_label}.csv\")\n"
   ]
  }
 ],
 "metadata": {
  "kernelspec": {
   "display_name": "Python 3.10.4 64-bit",
   "language": "python",
   "name": "python3"
  },
  "language_info": {
   "codemirror_mode": {
    "name": "ipython",
    "version": 3
   },
   "file_extension": ".py",
   "mimetype": "text/x-python",
   "name": "python",
   "nbconvert_exporter": "python",
   "pygments_lexer": "ipython3",
   "version": "3.10.4"
  },
  "orig_nbformat": 4,
  "vscode": {
   "interpreter": {
    "hash": "fb071969cc081d156db4658a52cc12ff3302089485c0c8cb524fcf02c6362775"
   }
  }
 },
 "nbformat": 4,
 "nbformat_minor": 2
}
