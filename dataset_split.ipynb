{
 "cells": [
  {
   "cell_type": "code",
   "execution_count": 10,
   "metadata": {},
   "outputs": [
    {
     "data": {
      "text/plain": [
       "'c:\\\\Users\\\\T-Gamer\\\\Documents\\\\SideDrive\\\\UFMA\\\\2022.1\\\\Topicos Especiais (NLP)\\\\Exercicios\\\\Trabalho Final\\\\Implementação\\\\source'"
      ]
     },
     "execution_count": 10,
     "metadata": {},
     "output_type": "execute_result"
    }
   ],
   "source": [
    "import pandas as pd\n",
    "import os, random\n",
    "os.getcwd()"
   ]
  },
  {
   "cell_type": "code",
   "execution_count": 14,
   "metadata": {},
   "outputs": [
    {
     "name": "stdout",
     "output_type": "stream",
     "text": [
      "DF Shape of Fold 1: (2500, 2)\n",
      "DF Shape of Fold 2: (2500, 2)\n",
      "DF Shape of Fold 3: (2500, 2)\n",
      "DF Shape of Fold 4: (2500, 2)\n",
      "DF Shape of Fold 5: (2500, 2)\n",
      "DF Shape of Fold 6: (2500, 2)\n",
      "DF Shape of Fold 7: (2500, 2)\n",
      "DF Shape of Fold 8: (2500, 2)\n",
      "DF Shape of Fold 9: (2500, 2)\n",
      "DF Shape of Fold 10: (2500, 2)\n"
     ]
    },
    {
     "data": {
      "text/html": [
       "<div>\n",
       "<style scoped>\n",
       "    .dataframe tbody tr th:only-of-type {\n",
       "        vertical-align: middle;\n",
       "    }\n",
       "\n",
       "    .dataframe tbody tr th {\n",
       "        vertical-align: top;\n",
       "    }\n",
       "\n",
       "    .dataframe thead th {\n",
       "        text-align: right;\n",
       "    }\n",
       "</style>\n",
       "<table border=\"1\" class=\"dataframe\">\n",
       "  <thead>\n",
       "    <tr style=\"text-align: right;\">\n",
       "      <th></th>\n",
       "      <th>label</th>\n",
       "      <th>text</th>\n",
       "    </tr>\n",
       "  </thead>\n",
       "  <tbody>\n",
       "    <tr>\n",
       "      <th>9284_1</th>\n",
       "      <td>0</td>\n",
       "      <td>man even plan outer space better movie flick n...</td>\n",
       "    </tr>\n",
       "    <tr>\n",
       "      <th>11479_10</th>\n",
       "      <td>1</td>\n",
       "      <td>movie excellent bit scary excellent heard colu...</td>\n",
       "    </tr>\n",
       "    <tr>\n",
       "      <th>7885_1</th>\n",
       "      <td>0</td>\n",
       "      <td>believe keeping religion government movie want...</td>\n",
       "    </tr>\n",
       "    <tr>\n",
       "      <th>274_2</th>\n",
       "      <td>0</td>\n",
       "      <td>seems little way middle ground watch rhine con...</td>\n",
       "    </tr>\n",
       "    <tr>\n",
       "      <th>2828_3</th>\n",
       "      <td>0</td>\n",
       "      <td>seem number film like released s fact recollec...</td>\n",
       "    </tr>\n",
       "    <tr>\n",
       "      <th>...</th>\n",
       "      <td>...</td>\n",
       "      <td>...</td>\n",
       "    </tr>\n",
       "    <tr>\n",
       "      <th>10141_2</th>\n",
       "      <td>0</td>\n",
       "      <td>steven seagal mr personality time united state...</td>\n",
       "    </tr>\n",
       "    <tr>\n",
       "      <th>4103_2</th>\n",
       "      <td>0</td>\n",
       "      <td>movie imdb rating expected much start funny en...</td>\n",
       "    </tr>\n",
       "    <tr>\n",
       "      <th>1352_1</th>\n",
       "      <td>0</td>\n",
       "      <td>eytan fox whilst generally leaning apologist s...</td>\n",
       "    </tr>\n",
       "    <tr>\n",
       "      <th>2743_9</th>\n",
       "      <td>1</td>\n",
       "      <td>year cold blood riveting thriller two new inte...</td>\n",
       "    </tr>\n",
       "    <tr>\n",
       "      <th>8117_8</th>\n",
       "      <td>1</td>\n",
       "      <td>first saw film year ago ny television thought ...</td>\n",
       "    </tr>\n",
       "  </tbody>\n",
       "</table>\n",
       "<p>2500 rows × 2 columns</p>\n",
       "</div>"
      ],
      "text/plain": [
       "          label                                               text\n",
       "9284_1        0  man even plan outer space better movie flick n...\n",
       "11479_10      1  movie excellent bit scary excellent heard colu...\n",
       "7885_1        0  believe keeping religion government movie want...\n",
       "274_2         0  seems little way middle ground watch rhine con...\n",
       "2828_3        0  seem number film like released s fact recollec...\n",
       "...         ...                                                ...\n",
       "10141_2       0  steven seagal mr personality time united state...\n",
       "4103_2        0  movie imdb rating expected much start funny en...\n",
       "1352_1        0  eytan fox whilst generally leaning apologist s...\n",
       "2743_9        1  year cold blood riveting thriller two new inte...\n",
       "8117_8        1  first saw film year ago ny television thought ...\n",
       "\n",
       "[2500 rows x 2 columns]"
      ]
     },
     "execution_count": 14,
     "metadata": {},
     "output_type": "execute_result"
    }
   ],
   "source": [
    "# Fold Split\n",
    "# Args\n",
    "k = 10\n",
    "seed = 0\n",
    "# dataset_folder = \"../resources/datasets/TwitterAirlines\"\n",
    "# dataset_name = \"TweetsProcessed\"\n",
    "dataset_folder = \"../resources/datasets/IMDBMovieReviews\"\n",
    "dataset_name = \"IMDB_MRProcessed\"\n",
    "\n",
    "# Exec\n",
    "dataset_path = f\"{dataset_folder}/{dataset_name}.csv\"\n",
    "save_path = f\"{dataset_folder}/folds\"\n",
    "\n",
    "if not os.path.exists(save_path) : os.makedirs(save_path)\n",
    "\n",
    "dataset = pd.read_csv(dataset_path, index_col=0)\n",
    "dataset_shuffle = [row for _, row in dataset.iterrows()]\n",
    "\n",
    "random.seed(seed)\n",
    "random.shuffle(dataset_shuffle)\n",
    "\n",
    "dataset = pd.DataFrame(dataset_shuffle)\n",
    "\n",
    "fold_size = dataset.shape[0] / 10\n",
    "folds = []\n",
    "for i_fold in range(k) :\n",
    "    fold_df = dataset.iloc[int(i_fold * fold_size) : int((i_fold + 1) * fold_size)]\n",
    "    print(f\"DF Shape of Fold {i_fold + 1}:\", fold_df.shape)\n",
    "    fold_df.to_csv(f\"{save_path}/{dataset_name}_Fold{i_fold + 1}.csv\")\n",
    "    folds.append(fold_df)\n",
    "\n",
    "folds[0]"
   ]
  },
  {
   "cell_type": "code",
   "execution_count": 12,
   "metadata": {},
   "outputs": [],
   "source": [
    "# Train, test, dev split (SST)\n",
    "# Args\n",
    "dataset_folder = \"../resources/datasets/StanfordSentimentTreebank\"\n",
    "dataset_name = \"SST2Processed\"\n",
    "\n",
    "# Exec\n",
    "dataset_path = f\"{dataset_folder}/{dataset_name}.csv\"\n",
    "save_path = f\"{dataset_folder}/split\"\n",
    "\n",
    "if not os.path.exists(save_path) : os.makedirs(save_path)\n",
    "\n",
    "dataset = pd.read_csv(dataset_path, index_col=0)\n",
    "for splitset, splitset_label in zip(range(1, 4), [\"train\", \"test\", \"dev\"]) :\n",
    "    splitset_df = dataset.loc[dataset[\"splitset\"] == splitset]\n",
    "    splitset_df = splitset_df.drop(columns=[\"splitset\"])\n",
    "    splitset_df.to_csv(f\"{save_path}/{dataset_name}-{splitset_label}.csv\")\n"
   ]
  }
 ],
 "metadata": {
  "kernelspec": {
   "display_name": "Python 3.10.4 64-bit",
   "language": "python",
   "name": "python3"
  },
  "language_info": {
   "codemirror_mode": {
    "name": "ipython",
    "version": 3
   },
   "file_extension": ".py",
   "mimetype": "text/x-python",
   "name": "python",
   "nbconvert_exporter": "python",
   "pygments_lexer": "ipython3",
   "version": "3.10.4"
  },
  "orig_nbformat": 4,
  "vscode": {
   "interpreter": {
    "hash": "fb071969cc081d156db4658a52cc12ff3302089485c0c8cb524fcf02c6362775"
   }
  }
 },
 "nbformat": 4,
 "nbformat_minor": 2
}
